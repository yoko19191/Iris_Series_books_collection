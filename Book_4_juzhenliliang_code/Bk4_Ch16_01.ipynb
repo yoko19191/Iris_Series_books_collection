{
 "cells": [
  {
   "cell_type": "markdown",
   "id": "73bd968b-d970-4a05-94ef-4e7abf990827",
   "metadata": {},
   "source": [
    "Chapter 16\n",
    "\n",
    "# 不同SVD类型\n",
    "Book_4《矩阵力量》 | 鸢尾花书：从加减乘除到机器学习 (第二版)"
   ]
  },
  {
   "cell_type": "markdown",
   "id": "5377751b-acd8-4db6-b102-0d8af60056b1",
   "metadata": {},
   "source": [
    "该代码实现了对矩阵的奇异值分解（SVD）及其在重构和误差分析中的应用，主要分为以下几个步骤：\n",
    "\n",
    "1. **导入必要的库**：代码使用了 `NumPy` 进行数值计算，`Matplotlib` 和 `Seaborn` 进行可视化展示。设置的精度为小数点后三位。\n",
    "\n",
    "2. **SVD分解**：通过函数`svd(X, full_matrices)`对输入矩阵$X$进行奇异值分解，计算得到三个矩阵：\n",
    "   - $U$: 左奇异矩阵，其中每一列代表一个特征向量；\n",
    "   - $S$: 奇异值矩阵，是一个对角矩阵，其对角线上的元素$s_i$为非负值，按降序排列；\n",
    "   - $V^T$: 右奇异矩阵的转置。  \n",
    "   公式为：$$X = U S V^T$$。根据`full_matrices`的设置，决定是否返回完整矩阵。\n",
    "\n",
    "3. **生成随机矩阵**：生成一个6行4列的随机矩阵$X$，并调整其秩，以便后续的SVD分析。具体操作是将第4列设置为第1列和第2列之和。\n",
    "\n",
    "4. **可视化分解结果**：通过热力图展示原始矩阵$X$、左奇异矩阵$U$、奇异值矩阵$S$以及右奇异矩阵$V^T$。这部分帮助理解SVD分解后矩阵的结构及数值分布。\n",
    "\n",
    "5. **紧致形式SVD分解**：使用紧致形式进行SVD分解，减少内存使用并提升计算效率，继续可视化分解结果。\n",
    "\n",
    "6. **压缩形式分析**：将原矩阵调整为秩为3的矩阵，并再次进行SVD分解与可视化，展示不同秩对矩阵结构的影响。\n",
    "\n",
    "7. **截断重构与误差分析**：截断奇异值分解，保留前2个奇异值进行重构，得到近似矩阵$\\hat{X}$。使用公式：$$\\hat{X} = U_{truc} S_{truc} V_{truc}^T$$，并可视化重构后的矩阵与原始矩阵之间的误差$E = X - \\hat{X}$，通过热力图展示重构效果与残差。\n",
    "\n",
    "8. **奇异值的张量积**：计算各个奇异值对应的外积，得到矩阵的各个组成部分，如$$u_1 v_1^T$$，并进行可视化。这些组成部分展示了如何通过奇异值及其对应的特征向量重构原始矩阵。\n",
    "\n",
    "9. **整体分析**：将所有重构分量的和进行可视化，分析各个部分对原始矩阵的贡献，并计算其重构误差，进一步理解奇异值分解的有效性。\n",
    "\n",
    "通过这些步骤，该代码为分析和理解矩阵的奇异值分解提供了直观的可视化工具，帮助研究人员和工程师有效地处理和重构数据。"
   ]
  },
  {
   "cell_type": "markdown",
   "id": "8ad32022-0020-488a-8ccf-b01ccbb72718",
   "metadata": {},
   "source": [
    "## 导入必要的库"
   ]
  },
  {
   "cell_type": "code",
   "execution_count": 1,
   "id": "6b033925-a847-4524-9055-cf942427b737",
   "metadata": {},
   "outputs": [],
   "source": [
    "import numpy as np  # 导入NumPy库，用于数值计算\n",
    "from matplotlib import pyplot as plt  # 导入Matplotlib库用于绘图\n",
    "import seaborn as sns  # 导入Seaborn库，用于增强图形展示效果\n",
    "PRECISION = 3  # 设置显示精度为小数点后三位"
   ]
  },
  {
   "cell_type": "markdown",
   "id": "e94738be-4b5f-4cfe-b0ee-4ab656a8f70d",
   "metadata": {},
   "source": [
    "## 定义SVD分解函数"
   ]
  },
  {
   "cell_type": "code",
   "execution_count": 2,
   "id": "24f0c2af-7dd0-4f04-846a-1715559bbf72",
   "metadata": {},
   "outputs": [],
   "source": [
    "def svd(X, full_matrices):  # 定义函数svd，用于计算SVD分解\n",
    "    \"\"\"\n",
    "    执行矩阵X的奇异值分解（SVD）。\n",
    "    参数：\n",
    "    - X: 输入矩阵\n",
    "    - full_matrices: 布尔值，指定是否使用完整矩阵\n",
    "    返回：\n",
    "    - U: 舍入后的U矩阵\n",
    "    - S: 舍入后的奇异值矩阵\n",
    "    - Vt: 转置的V矩阵\n",
    "    \"\"\"\n",
    "    U, s, Vt = np.linalg.svd(X, full_matrices=full_matrices)  # 计算X的SVD分解\n",
    "\n",
    "    if full_matrices:  # 判断是否使用完整矩阵\n",
    "        S = np.zeros(X.shape)  # 创建与X形状相同的零矩阵\n",
    "        np.fill_diagonal(S, s)  # 将奇异值填入S的对角线\n",
    "    else:\n",
    "        S = np.diag(s)  # 如果不是完整矩阵，直接生成对角矩阵S\n",
    "\n",
    "    return np.round(U, PRECISION), np.round(S, PRECISION), np.round(Vt.T, PRECISION)  # 返回舍入后的U、S和转置的V矩阵"
   ]
  },
  {
   "cell_type": "markdown",
   "id": "ab7c1caf-b687-4fc3-ad18-1d4ba7b59401",
   "metadata": {},
   "source": [
    "## 生成随机矩阵"
   ]
  },
  {
   "cell_type": "code",
   "execution_count": 3,
   "id": "8fce9c82-4956-446d-8ce5-21a8054c2c39",
   "metadata": {},
   "outputs": [],
   "source": [
    "np.random.seed(1)  # 设置随机数种子，确保结果可重复\n",
    "X = np.random.randn(6, 4)  # 生成6行4列的随机矩阵X"
   ]
  },
  {
   "cell_type": "markdown",
   "id": "4268c277-c8e1-405d-9aab-ce7a5e08f56a",
   "metadata": {},
   "source": [
    "## 设置可视化参数"
   ]
  },
  {
   "cell_type": "code",
   "execution_count": 4,
   "id": "93c1a8e3-b4db-4d5c-abbf-266ec5ecfe22",
   "metadata": {},
   "outputs": [],
   "source": [
    "all_max = 2  # 热力图显示的最大值\n",
    "all_min = -2  # 热力图显示的最小值"
   ]
  },
  {
   "cell_type": "markdown",
   "id": "f19280ae-18d6-45d7-8210-94461f7512f6",
   "metadata": {},
   "source": [
    "## 完整SVD分解并可视化结果"
   ]
  },
  {
   "cell_type": "code",
   "execution_count": 5,
   "id": "aafc2c43-219f-4e55-a891-c9050352306c",
   "metadata": {},
   "outputs": [],
   "source": [
    "U, S, V = svd(X, full_matrices=True)  # 对X进行完整SVD分解，得到U, S, V矩阵"
   ]
  },
  {
   "cell_type": "code",
   "execution_count": 6,
   "id": "0900739c-c50a-4efd-9392-50369b53f959",
   "metadata": {},
   "outputs": [
    {
     "data": {
      "text/plain": [
       "Text(0.5, 1.0, '$V^T$')"
      ]
     },
     "execution_count": 6,
     "metadata": {},
     "output_type": "execute_result"
    },
    {
     "data": {
      "image/png": "[encoded data removed]",
      "text/plain": [
       "<Figure size 1200x300 with 8 Axes>"
      ]
     },
     "metadata": {},
     "output_type": "display_data"
    }
   ],
   "source": [
    "fig, axs = plt.subplots(1, 4, figsize=(12, 3))  # 创建1行4列的子图\n",
    "\n",
    "plt.sca(axs[0])  # 设置当前子图为第一个子图\n",
    "ax = sns.heatmap(X, cmap='RdBu_r', vmax=all_max, vmin=all_min, cbar_kws={\"orientation\": \"horizontal\"})  # 绘制X的热力图\n",
    "ax.set_aspect(\"equal\")  # 设置子图的宽高比为相等\n",
    "plt.title(r'$X$')  # 设置标题为X\n",
    "\n",
    "plt.sca(axs[1])  # 设置当前子图为第二个子图\n",
    "ax = sns.heatmap(U, cmap='RdBu_r', vmax=all_max, vmin=all_min, cbar_kws={\"orientation\": \"horizontal\"})  # 绘制U的热力图\n",
    "ax.set_aspect(\"equal\")\n",
    "plt.title(r'$U$')\n",
    "\n",
    "plt.sca(axs[2])  # 设置当前子图为第三个子图\n",
    "ax = sns.heatmap(S, cmap='RdBu_r', vmax=all_max, vmin=all_min, cbar_kws={\"orientation\": \"horizontal\"})  # 绘制S的热力图\n",
    "ax.set_aspect(\"equal\")\n",
    "plt.title(r'$S$')\n",
    "\n",
    "plt.sca(axs[3])  # 设置当前子图为第四个子图\n",
    "ax = sns.heatmap(V.T, cmap='RdBu_r', vmax=all_max, vmin=all_min, cbar_kws={\"orientation\": \"horizontal\"})  # 绘制V^T的热力图\n",
    "ax.set_aspect(\"equal\")\n",
    "plt.title(r'$V^T$')"
   ]
  },
  {
   "cell_type": "markdown",
   "id": "45d49c17-61f2-4811-b7dc-624fd4daabd7",
   "metadata": {},
   "source": [
    "## 计算紧致形式（Economy-size, thin）下的SVD分解"
   ]
  },
  {
   "cell_type": "code",
   "execution_count": 7,
   "id": "ac7c09fe-469a-48dd-a09d-5970040c0f33",
   "metadata": {},
   "outputs": [],
   "source": [
    "U, S, V = svd(X, full_matrices=False)  # 对X进行紧致形式的SVD分解"
   ]
  },
  {
   "cell_type": "markdown",
   "id": "c7be0e07-f365-4ba0-b596-6b4b75f80845",
   "metadata": {},
   "source": [
    "## 可视化紧致形式的SVD分解结果"
   ]
  },
  {
   "cell_type": "code",
   "execution_count": 8,
   "id": "03bb4c17-7899-42c9-8dfe-7c278eec69b1",
   "metadata": {},
   "outputs": [
    {
     "data": {
      "text/plain": [
       "Text(0.5, 1.0, '$V^T$')"
      ]
     },
     "execution_count": 8,
     "metadata": {},
     "output_type": "execute_result"
    },
    {
     "data": {
      "image/png": "[encoded data removed]",
      "text/plain": [
       "<Figure size 1200x300 with 8 Axes>"
      ]
     },
     "metadata": {},
     "output_type": "display_data"
    }
   ],
   "source": [
    "fig, axs = plt.subplots(1, 4, figsize=(12, 3))  # 创建1行4列的子图\n",
    "\n",
    "plt.sca(axs[0])  # 设置当前子图为第一个子图\n",
    "ax = sns.heatmap(X, cmap='RdBu_r', vmax=all_max, vmin=all_min, cbar_kws={\"orientation\": \"horizontal\"})  # 绘制X的热力图\n",
    "ax.set_aspect(\"equal\")  # 设置子图的宽高比为相等\n",
    "plt.title(r'$X$')  # 设置标题为X\n",
    "\n",
    "plt.sca(axs[1])  # 设置当前子图为第二个子图\n",
    "ax = sns.heatmap(U, cmap='RdBu_r', vmax=all_max, vmin=all_min, cbar_kws={\"orientation\": \"horizontal\"})  # 绘制U的热力图\n",
    "ax.set_aspect(\"equal\")\n",
    "plt.title(r'$U$')\n",
    "\n",
    "plt.sca(axs[2])  # 设置当前子图为第三个子图\n",
    "ax = sns.heatmap(S, cmap='RdBu_r', vmax=all_max, vmin=all_min, cbar_kws={\"orientation\": \"horizontal\"})  # 绘制S的热力图\n",
    "ax.set_aspect(\"equal\")\n",
    "plt.title(r'$S$')\n",
    "\n",
    "plt.sca(axs[3])  # 设置当前子图为第四个子图\n",
    "ax = sns.heatmap(V.T, cmap='RdBu_r', vmax=all_max, vmin=all_min, cbar_kws={\"orientation\": \"horizontal\"})  # 绘制V^T的热力图\n",
    "ax.set_aspect(\"equal\")\n",
    "plt.title(r'$V^T$')"
   ]
  },
  {
   "cell_type": "markdown",
   "id": "10150a72-d876-434a-8016-42b395623b9d",
   "metadata": {},
   "source": [
    "## 压缩形式SVD分解"
   ]
  },
  {
   "cell_type": "code",
   "execution_count": 9,
   "id": "5f752c79-847f-4bf1-ab5a-7bcba6bf26b8",
   "metadata": {},
   "outputs": [],
   "source": [
    "import copy  # 导入copy模块，用于深度复制矩阵\n",
    "X_rank_3 = copy.deepcopy(X)  # 深度复制矩阵X\n",
    "X_rank_3[:, 3] = X[:, 0] + X[:, 1]  # 调整X的第4列，使其等于第1列与第2列之和，降秩至3"
   ]
  },
  {
   "cell_type": "code",
   "execution_count": 10,
   "id": "3b6f29c2-c764-4189-966a-ec4af79f97ff",
   "metadata": {},
   "outputs": [],
   "source": [
    "U_rank_3, S_rank_3, V_rank_3 = svd(X_rank_3, full_matrices=False)  # 对压缩形式的X进行SVD分解"
   ]
  },
  {
   "cell_type": "markdown",
   "id": "d06d9219-148b-4f3b-ac25-4c62076e2f79",
   "metadata": {},
   "source": [
    "## 可视化压缩形式的SVD分解结果"
   ]
  },
  {
   "cell_type": "code",
   "execution_count": 11,
   "id": "cc386840-884f-44ca-84ea-43fc21af0fa9",
   "metadata": {},
   "outputs": [
    {
     "data": {
      "text/plain": [
       "Text(0.5, 1.0, '$V^T$')"
      ]
     },
     "execution_count": 11,
     "metadata": {},
     "output_type": "execute_result"
    },
    {
     "data": {
      "image/png": "[encoded data removed]",
      "text/plain": [
       "<Figure size 1200x300 with 8 Axes>"
      ]
     },
     "metadata": {},
     "output_type": "display_data"
    }
   ],
   "source": [
    "fig, axs = plt.subplots(1, 4, figsize=(12, 3))  # 创建1行4列的子图\n",
    "\n",
    "plt.sca(axs[0])  # 设置当前子图为第一个子图\n",
    "ax = sns.heatmap(X_rank_3, cmap='RdBu_r', vmax=all_max, vmin=all_min, cbar_kws={\"orientation\": \"horizontal\"})  # 绘制压缩后的X的热力图\n",
    "ax.set_aspect(\"equal\")\n",
    "plt.title(r'$X$')\n",
    "\n",
    "plt.sca(axs[1])  # 设置当前子图为第二个子图\n",
    "ax = sns.heatmap(U_rank_3, cmap='RdBu_r', vmax=all_max, vmin=all_min, cbar_kws={\"orientation\": \"horizontal\"})  # 绘制U的热力图\n",
    "ax.set_aspect(\"equal\")\n",
    "plt.title(r'$U$')\n",
    "\n",
    "plt.sca(axs[2])  # 设置当前子图为第三个子图\n",
    "ax = sns.heatmap(S_rank_3, cmap='RdBu_r', vmax=all_max, vmin=all_min, cbar_kws={\"orientation\": \"horizontal\"})  # 绘制S的热力图\n",
    "ax.set_aspect(\"equal\")\n",
    "plt.title(r'$S$')\n",
    "\n",
    "plt.sca(axs[3])  # 设置当前子图为第四个子图\n",
    "ax = sns.heatmap(V_rank_3.T, cmap='RdBu_r', vmax=all_max, vmin=all_min, cbar_kws={\"orientation\": \"horizontal\"})  # 绘制V^T的热力图\n",
    "ax.set_aspect(\"equal\")\n",
    "plt.title(r'$V^T$')"
   ]
  },
  {
   "cell_type": "markdown",
   "id": "b17b35c8-9c6d-4008-acfc-1cf94a12ec1a",
   "metadata": {},
   "source": [
    "## 截断形式的SVD分解"
   ]
  },
  {
   "cell_type": "code",
   "execution_count": 12,
   "id": "9bf8ea23-bf94-4718-b383-fec4fb8d1bf5",
   "metadata": {},
   "outputs": [],
   "source": [
    "num_p = 2  # 设置截断的奇异值数量"
   ]
  },
  {
   "cell_type": "code",
   "execution_count": 13,
   "id": "51928f37-f8d9-498e-9ff3-8ab0ed741eef",
   "metadata": {},
   "outputs": [],
   "source": [
    "U_truc = U[:, 0:num_p]  # 选取前num_p列的U矩阵\n",
    "S_truc = S[0:num_p, 0:num_p]  # 选取前num_p行和列的S矩阵\n",
    "V_truc = V[:, 0:num_p]  # 选取前num_p列的V矩阵\n",
    "\n",
    "X_hat = U_truc @ S_truc @ (V_truc.T)  # 计算重构的矩阵X_hat"
   ]
  },
  {
   "cell_type": "markdown",
   "id": "8d38f12b-e7c7-4e9d-ade7-175dfea90c4d",
   "metadata": {},
   "source": [
    "## 可视化重构矩阵及其SVD分解结果"
   ]
  },
  {
   "cell_type": "code",
   "execution_count": 14,
   "id": "70364582-0475-428f-9c90-224920d50825",
   "metadata": {},
   "outputs": [
    {
     "data": {
      "text/plain": [
       "Text(0.5, 1.0, '$V^T$')"
      ]
     },
     "execution_count": 14,
     "metadata": {},
     "output_type": "execute_result"
    },
    {
     "data": {
      "image/png": "[encoded data removed]",
      "text/plain": [
       "<Figure size 1200x300 with 8 Axes>"
      ]
     },
     "metadata": {},
     "output_type": "display_data"
    }
   ],
   "source": [
    "fig, axs = plt.subplots(1, 4, figsize=(12, 3))  # 创建1行4列的子图\n",
    "\n",
    "plt.sca(axs[0])  # 设置当前子图为第一个子图\n",
    "ax = sns.heatmap(X_hat, cmap='RdBu_r', vmax=all_max, vmin=all_min, cbar_kws={\"orientation\": \"horizontal\"})  # 绘制重构矩阵的热力图\n",
    "ax.set_aspect(\"equal\")\n",
    "plt.title(r'$\\hat{X}$')  # 设置标题为重构矩阵\n",
    "\n",
    "plt.sca(axs[1])  # 设置当前子图为第二个子图\n",
    "ax = sns.heatmap(U_truc, cmap='RdBu_r', vmax=all_max, vmin=all_min, cbar_kws={\"orientation\": \"horizontal\"})  # 绘制截断的U矩阵\n",
    "ax.set_aspect(\"equal\")\n",
    "plt.title(r'$U$')\n",
    "\n",
    "plt.sca(axs[2])  # 设置当前子图为第三个子图\n",
    "ax = sns.heatmap(S_truc, cmap='RdBu_r', vmax=all_max, vmin=all_min, cbar_kws={\"orientation\": \"horizontal\"})  # 绘制截断的S矩阵\n",
    "ax.set_aspect(\"equal\")\n",
    "plt.title(r'$S$')\n",
    "\n",
    "plt.sca(axs[3])  # 设置当前子图为第四个子图\n",
    "ax = sns.heatmap(V_truc.T, cmap='RdBu_r', vmax=all_max, vmin=all_min, cbar_kws={\"orientation\": \"horizontal\"})  # 绘制截断的V^T矩阵\n",
    "ax.set_aspect(\"equal\")\n",
    "plt.title('$V^T$')"
   ]
  },
  {
   "cell_type": "markdown",
   "id": "a877bc08-dfce-4b6d-9b12-ba04f7647cd8",
   "metadata": {},
   "source": [
    "## 可视化重构误差"
   ]
  },
  {
   "cell_type": "code",
   "execution_count": 15,
   "id": "70bffd76-9bab-4729-bf95-dc14b9df3e41",
   "metadata": {},
   "outputs": [
    {
     "data": {
      "text/plain": [
       "Text(0.5, 1.0, '$E_e = X - \\\\hat{X}$')"
      ]
     },
     "execution_count": 15,
     "metadata": {},
     "output_type": "execute_result"
    },
    {
     "data": {
      "image/png": "[encoded data removed]",
      "text/plain": [
       "<Figure size 1200x300 with 6 Axes>"
      ]
     },
     "metadata": {},
     "output_type": "display_data"
    }
   ],
   "source": [
    "fig, axs = plt.subplots(1, 3, figsize=(12, 3))  # 创建1行3列的子图\n",
    "\n",
    "plt.sca(axs[0])  # 设置当前子图为第一个子图\n",
    "ax = sns.heatmap(X, cmap='RdBu_r', vmax=all_max, vmin=all_min, cbar_kws={\"orientation\": \"horizontal\"})  # 绘制原始矩阵的热力图\n",
    "ax.set_aspect(\"equal\")\n",
    "plt.title(r'$X$')\n",
    "\n",
    "plt.sca(axs[1])  # 设置当前子图为第二个子图\n",
    "ax = sns.heatmap(X_hat, cmap='RdBu_r', vmax=all_max, vmin=all_min, cbar_kws={\"orientation\": \"horizontal\"})  # 绘制重构矩阵的热力图\n",
    "ax.set_aspect(\"equal\")\n",
    "plt.title(r'$\\hat{X}$')\n",
    "\n",
    "plt.sca(axs[2])  # 设置当前子图为第三个子图\n",
    "ax = sns.heatmap(X - X_hat, cmap='RdBu_r', vmax=all_max, vmin=all_min, cbar_kws={\"orientation\": \"horizontal\"})  # 绘制重构误差矩阵的热力图\n",
    "ax.set_aspect(\"equal\")\n",
    "plt.title(r'$E_e = X - \\hat{X}$')  # 设置标题为误差矩阵"
   ]
  },
  {
   "cell_type": "markdown",
   "id": "f5bb20b1-1e2c-4aab-b0a3-3c67d9ec2df2",
   "metadata": {},
   "source": [
    "## 计算奇异值的张量积"
   ]
  },
  {
   "cell_type": "code",
   "execution_count": 16,
   "id": "eac61c89-2bcc-4492-865b-8a8bd3430c7b",
   "metadata": {},
   "outputs": [],
   "source": [
    "u1_outer_v1 = np.outer(U[:, 0][:, None], V[:, 0][:, None])  # 计算第1个奇异值的外积\n",
    "u2_outer_v2 = np.outer(U[:, 1][:, None], V[:, 1][:, None])  # 计算第2个奇异值的外积\n",
    "u3_outer_v3 = np.outer(U[:, 2][:, None], V[:, 2][:, None])  # 计算第3个奇异值的外积\n",
    "u4_outer_v4 = np.outer(U[:, 3][:, None], V[:, 3][:, None])  # 计算第4个奇异值的外积"
   ]
  },
  {
   "cell_type": "markdown",
   "id": "e85d69b9-b03e-4a2a-b782-4718b502ed40",
   "metadata": {},
   "source": [
    "## 可视化奇异值的张量积"
   ]
  },
  {
   "cell_type": "code",
   "execution_count": 17,
   "id": "cb379efc-a865-4c5c-845e-b95bfd5d24f1",
   "metadata": {},
   "outputs": [
    {
     "data": {
      "text/plain": [
       "Text(0.5, 1.0, '$u_4 v_4^T$')"
      ]
     },
     "execution_count": 17,
     "metadata": {},
     "output_type": "execute_result"
    },
    {
     "data": {
      "image/png": "[encoded data removed]",
      "text/plain": [
       "<Figure size 1200x300 with 8 Axes>"
      ]
     },
     "metadata": {},
     "output_type": "display_data"
    }
   ],
   "source": [
    "fig, axs = plt.subplots(1, 4, figsize=(12, 3))  # 创建1行4列的子图\n",
    "\n",
    "plt.sca(axs[0])  # 设置当前子图为第一个子图\n",
    "ax = sns.heatmap(u1_outer_v1, cmap='RdBu_r', vmax=all_max, vmin=all_min, cbar_kws={\"orientation\": \"horizontal\"})  # 绘制u1与v1的外积\n",
    "ax.set_aspect(\"equal\")\n",
    "plt.title(r'$u_1 v_1^T$')  # 设置标题\n",
    "\n",
    "plt.sca(axs[1])  # 设置当前子图为第二个子图\n",
    "ax = sns.heatmap(u2_outer_v2, cmap='RdBu_r', vmax=all_max, vmin=all_min, cbar_kws={\"orientation\": \"horizontal\"})  # 绘制u2与v2的外积\n",
    "ax.set_aspect(\"equal\")\n",
    "plt.title(r'$u_2 v_2^T$')\n",
    "\n",
    "plt.sca(axs[2])  # 设置当前子图为第三个子图\n",
    "ax = sns.heatmap(u3_outer_v3, cmap='RdBu_r', vmax=all_max, vmin=all_min, cbar_kws={\"orientation\": \"horizontal\"})  # 绘制u3与v3的外积\n",
    "ax.set_aspect(\"equal\")\n",
    "plt.title(r'$u_3 v_3^T$')\n",
    "\n",
    "plt.sca(axs[3])  # 设置当前子图为第四个子图\n",
    "ax = sns.heatmap(u4_outer_v4, cmap='RdBu_r', vmax=all_max, vmin=all_min, cbar_kws={\"orientation\": \"horizontal\"})  # 绘制u4与v4的外积\n",
    "ax.set_aspect(\"equal\")\n",
    "plt.title(r'$u_4 v_4^T$')"
   ]
  },
  {
   "cell_type": "markdown",
   "id": "453c1692-98ce-40e2-a0a0-7dd053d200f0",
   "metadata": {},
   "source": [
    "## 可视化各部分重构"
   ]
  },
  {
   "cell_type": "code",
   "execution_count": 18,
   "id": "1c7806d8-cd7d-4472-a528-6aa82c982a68",
   "metadata": {},
   "outputs": [],
   "source": [
    "X_1 = S[0, 0] * u1_outer_v1  # 第1个重构分量\n",
    "X_2 = S[1, 1] * u2_outer_v2  # 第2个重构分量\n",
    "X_3 = S[2, 2] * u3_outer_v3  # 第3个重构分量\n",
    "X_4 = S[3, 3] * u4_outer_v4  # 第4个重构分量"
   ]
  },
  {
   "cell_type": "code",
   "execution_count": 19,
   "id": "f2437869-2c55-4fbb-b395-9e9abb3bbfad",
   "metadata": {},
   "outputs": [
    {
     "data": {
      "text/plain": [
       "Text(0.5, 1.0, '$\\\\hat{X}_4$')"
      ]
     },
     "execution_count": 19,
     "metadata": {},
     "output_type": "execute_result"
    },
    {
     "data": {
      "image/png": "[encoded data removed]",
      "text/plain": [
       "<Figure size 1200x300 with 8 Axes>"
      ]
     },
     "metadata": {},
     "output_type": "display_data"
    }
   ],
   "source": [
    "fig, axs = plt.subplots(1, 4, figsize=(12, 3))  # 创建1行4列的子图\n",
    "\n",
    "plt.sca(axs[0])  # 设置当前子图为第一个子图\n",
    "ax = sns.heatmap(X_1, cmap='RdBu_r', vmax=all_max, vmin=all_min, cbar_kws={\"orientation\": \"horizontal\"})  # 绘制第1个重构分量\n",
    "ax.set_aspect(\"equal\")\n",
    "plt.title(r'$\\hat{X}_1$')  # 设置标题\n",
    "\n",
    "plt.sca(axs[1])  # 设置当前子图为第二个子图\n",
    "ax = sns.heatmap(X_2, cmap='RdBu_r', vmax=all_max, vmin=all_min, cbar_kws={\"orientation\": \"horizontal\"})  # 绘制第2个重构分量\n",
    "ax.set_aspect(\"equal\")\n",
    "plt.title(r'$\\hat{X}_2$')\n",
    "\n",
    "plt.sca(axs[2])  # 设置当前子图为第三个子图\n",
    "ax = sns.heatmap(X_3, cmap='RdBu_r', vmax=all_max, vmin=all_min, cbar_kws={\"orientation\": \"horizontal\"})  # 绘制第3个重构分量\n",
    "ax.set_aspect(\"equal\")\n",
    "plt.title(r'$\\hat{X}_3$')\n",
    "\n",
    "plt.sca(axs[3])  # 设置当前子图为第四个子图\n",
    "ax = sns.heatmap(X_4, cmap='RdBu_r', vmax=all_max, vmin=all_min, cbar_kws={\"orientation\": \"horizontal\"})  # 绘制第4个重构分量\n",
    "ax.set_aspect(\"equal\")\n",
    "plt.title(r'$\\hat{X}_4$')"
   ]
  },
  {
   "cell_type": "markdown",
   "id": "eb510464-dc17-4e2e-851b-4e3ee813a84b",
   "metadata": {},
   "source": [
    "## 重构与误差可视化"
   ]
  },
  {
   "cell_type": "code",
   "execution_count": 20,
   "id": "b81ec182-3e74-4fdc-af95-abb6a998476c",
   "metadata": {},
   "outputs": [
    {
     "data": {
      "text/plain": [
       "Text(0.5, 1.0, '$X - (\\\\hat{X}_1 + \\\\hat{X}_2)$')"
      ]
     },
     "execution_count": 20,
     "metadata": {},
     "output_type": "execute_result"
    },
    {
     "data": {
      "image/png": "[encoded data removed]",
      "text/plain": [
       "<Figure size 1200x300 with 6 Axes>"
      ]
     },
     "metadata": {},
     "output_type": "display_data"
    }
   ],
   "source": [
    "fig, axs = plt.subplots(1, 3, figsize=(12, 3))  # 创建1行3列的子图\n",
    "\n",
    "plt.sca(axs[0])  # 设置当前子图为第一个子图\n",
    "ax = sns.heatmap(X, cmap='RdBu_r', vmax=all_max, vmin=all_min, cbar_kws={\"orientation\": \"horizontal\"})  # 绘制原始矩阵的热力图\n",
    "ax.set_aspect(\"equal\")\n",
    "plt.title(r'$X$')  # 设置标题为原始矩阵\n",
    "\n",
    "plt.sca(axs[1])  # 设置当前子图为第二个子图\n",
    "ax = sns.heatmap(X_1 + X_2, cmap='RdBu_r', vmax=all_max, vmin=all_min, cbar_kws={\"orientation\": \"horizontal\"})  # 绘制前两个重构分量的和\n",
    "ax.set_aspect(\"equal\")\n",
    "plt.title(r'$\\hat{X}_1 + \\hat{X}_2$')  # 设置标题\n",
    "\n",
    "plt.sca(axs[2])  # 设置当前子图为第三个子图\n",
    "ax = sns.heatmap(X - (X_1 + X_2), cmap='RdBu_r', vmax=all_max, vmin=all_min, cbar_kws={\"orientation\": \"horizontal\"})  # 绘制重构误差矩阵\n",
    "ax.set_aspect(\"equal\")\n",
    "plt.title(r'$X - (\\hat{X}_1 + \\hat{X}_2)$')  # 设置标题为误差矩阵"
   ]
  },
  {
   "cell_type": "markdown",
   "id": "80d3300d-805a-434b-afd3-2756541a9a15",
   "metadata": {},
   "source": [
    "## 重新创建图表，绘制更多重构与误差"
   ]
  },
  {
   "cell_type": "code",
   "execution_count": 21,
   "id": "b93d6ec9-21f8-4609-8511-1d52d457069f",
   "metadata": {},
   "outputs": [
    {
     "data": {
      "text/plain": [
       "Text(0.5, 1.0, '$X - (\\\\hat{X}_1 + \\\\hat{X}_2 + \\\\hat{X}_3)$')"
      ]
     },
     "execution_count": 21,
     "metadata": {},
     "output_type": "execute_result"
    },
    {
     "data": {
      "image/png": "[encoded data removed]",
      "text/plain": [
       "<Figure size 1200x300 with 6 Axes>"
      ]
     },
     "metadata": {},
     "output_type": "display_data"
    }
   ],
   "source": [
    "fig, axs = plt.subplots(1, 3, figsize=(12, 3))  # 创建1行3列的子图\n",
    "\n",
    "plt.sca(axs[0])  # 设置当前子图为第一个子图\n",
    "ax = sns.heatmap(X, cmap='RdBu_r', vmax=all_max, vmin=all_min, cbar_kws={\"orientation\": \"horizontal\"})  # 绘制原始矩阵的热力图\n",
    "ax.set_aspect(\"equal\")\n",
    "plt.title(r'$X$')  # 设置标题为原始矩阵\n",
    "\n",
    "plt.sca(axs[1])  # 设置当前子图为第二个子图\n",
    "ax = sns.heatmap(X_1 + X_2 + X_3, cmap='RdBu_r', vmax=all_max, vmin=all_min, cbar_kws={\"orientation\": \"horizontal\"})  # 绘制前3个重构分量的和\n",
    "ax.set_aspect(\"equal\")\n",
    "plt.title(r'$\\hat{X}_1 + \\hat{X}_2 + \\hat{X}_3$')  # 设置标题\n",
    "\n",
    "plt.sca(axs[2])  # 设置当前子图为第三个子图\n",
    "ax = sns.heatmap(X - (X_1 + X_2 + X_3), cmap='RdBu_r', vmax=all_max, vmin=all_min, cbar_kws={\"orientation\": \"horizontal\"})  # 绘制重构误差矩阵\n",
    "ax.set_aspect(\"equal\")\n",
    "plt.title(r'$X - (\\hat{X}_1 + \\hat{X}_2 + \\hat{X}_3)$')  # 设置标题为误差矩阵"
   ]
  },
  {
   "cell_type": "markdown",
   "id": "94f548c4-f61f-4039-a232-4a4494450437",
   "metadata": {},
   "source": [
    "## 整体重构与误差分析"
   ]
  },
  {
   "cell_type": "code",
   "execution_count": 22,
   "id": "081f97b3-6b58-4af8-b75a-95055c65fe93",
   "metadata": {},
   "outputs": [
    {
     "data": {
      "image/png": "[encoded data removed]",
      "text/plain": [
       "<Figure size 1200x300 with 6 Axes>"
      ]
     },
     "metadata": {},
     "output_type": "display_data"
    }
   ],
   "source": [
    "fig, axs = plt.subplots(1, 3, figsize=(12, 3))  # 创建1行3列的子图\n",
    "\n",
    "plt.sca(axs[0])  # 设置当前子图为第一个子图\n",
    "ax = sns.heatmap(X, cmap='RdBu_r', vmax=all_max, vmin=all_min, cbar_kws={\"orientation\": \"horizontal\"})  # 绘制原始矩阵的热力图\n",
    "ax.set_aspect(\"equal\")\n",
    "plt.title(r'$X$')  # 设置标题为原始矩阵\n",
    "\n",
    "plt.sca(axs[1])  # 设置当前子图为第二个子图\n",
    "ax = sns.heatmap(X_1 + X_2 + X_3 + X_4, cmap='RdBu_r', vmax=all_max, vmin=all_min, cbar_kws={\"orientation\": \"horizontal\"})  # 绘制前4个重构分量的和\n",
    "ax.set_aspect(\"equal\")\n",
    "plt.title(r'$\\hat{X}_1 + \\hat{X}_2 + \\hat{X}_3 + \\hat{X}_4$')  # 设置标题\n",
    "\n",
    "plt.sca(axs[2])  # 设置当前子图为第三个子图\n",
    "ax = sns.heatmap(X - (X_1 + X_2 + X_3 + X_4), cmap='RdBu_r', vmax=all_max, vmin=all_min, cbar_kws={\"orientation\": \"horizontal\"})  # 绘制重构误差矩阵\n",
    "ax.set_aspect(\"equal\")\n",
    "plt.title(r'$X - (\\hat{X}_1 + \\hat{X}_2 + \\hat{X}_3 + \\hat{X}_4)$')  # 设置标题为误差矩阵\n",
    "\n",
    "# 结束代码\n",
    "plt.tight_layout()  # 调整子图间距\n",
    "plt.show()  # 显示所有图形"
   ]
  },
  {
   "cell_type": "code",
   "execution_count": null,
   "id": "9943bc5d-19b9-4244-944e-b6a6d306d763",
   "metadata": {},
   "outputs": [],
   "source": []
  },
  {
   "cell_type": "code",
   "execution_count": null,
   "id": "85a80909-2aac-49ed-bb7a-f8cc6b80ee7d",
   "metadata": {},
   "outputs": [],
   "source": []
  },
  {
   "cell_type": "code",
   "execution_count": null,
   "id": "ecd322f4-f919-4be2-adc3-69d28ef25e69",
   "metadata": {},
   "outputs": [],
   "source": []
  }
 ],
 "metadata": {
  "kernelspec": {
   "display_name": "Python 3 (ipykernel)",
   "language": "python",
   "name": "python3"
  },
  "language_info": {
   "codemirror_mode": {
    "name": "ipython",
    "version": 3
   },
   "file_extension": ".py",
   "mimetype": "text/x-python",
   "name": "python",
   "nbconvert_exporter": "python",
   "pygments_lexer": "ipython3",
   "version": "3.12.7"
  }
 },
 "nbformat": 4,
 "nbformat_minor": 5
}
