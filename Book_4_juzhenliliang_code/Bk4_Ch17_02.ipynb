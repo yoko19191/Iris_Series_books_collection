{
 "cells": [
  {
   "cell_type": "markdown",
   "id": "73bd968b-d970-4a05-94ef-4e7abf990827",
   "metadata": {},
   "source": [
    "Chapter 17\n",
    "\n",
    "# 切面\n",
    "Book_4《矩阵力量》 | 鸢尾花书：从加减乘除到机器学习 (第二版)"
   ]
  },
  {
   "cell_type": "markdown",
   "id": "b9726ec9-2cad-44c8-915d-07d8b94fc669",
   "metadata": {},
   "source": [
    "该代码的目的是定义并可视化一个二次函数 $f(x_1, x_2)$ 及其在特定点处的切平面，从而观察该函数的几何特性。其主要包括以下几个部分：\n",
    "\n",
    "### 1. 函数和网格定义\n",
    "首先，代码定义了符号变量 $x_1, x_2, p_1, p_2$，并基于这些变量定义了二次函数：\n",
    "$$\n",
    "f(x_1, x_2) = -4x_1^2 - 4x_2^2\n",
    "$$\n",
    "以及另一个类似的函数 $f(p_1, p_2) = -4p_1^2 - 4p_2^2$。此外，定义了函数 `mesh_circ` 用于生成一个以 $(c_1, c_2)$ 为圆心、半径为 $r$ 的网格，该网格用于后续的可视化。\n",
    "\n",
    "### 2. 梯度和切平面计算\n",
    "接下来，代码计算了 $f(p_1, p_2)$ 在 $p_1$ 和 $p_2$ 的梯度，即：\n",
    "$$\n",
    "\\nabla f = \\left( \\frac{\\partial f}{\\partial p_1}, \\frac{\\partial f}{\\partial p_2} \\right)\n",
    "$$\n",
    "基于这个梯度，构造了函数 $f(x_1, x_2)$ 在点 $(p_1, p_2)$ 处的切平面 $t(x)$：\n",
    "$$\n",
    "t(x) = \\nabla f \\cdot \\begin{bmatrix} x_1 - p_1 \\\\ x_2 - p_2 \\end{bmatrix} + f(p_1, p_2)\n",
    "$$\n",
    "该切平面表示在 $(p_1, p_2)$ 处的线性近似。\n",
    "\n",
    "### 3. 数值化和网格生成\n",
    "代码将 $f(x_1, x_2)$ 和 $t(x)$ 转换为适合数值计算的函数，并生成一个圆形网格 $xx1, xx2$ 用于 $f(x_1, x_2)$ 的可视化。此外，还生成了一个以 $(p_1, p_2)$ 为中心的粗略网格 $(xx1\\_, xx2\\_)$ 用于切平面的可视化。$p_1$ 和 $p_2$ 的值分别设为 $-1.5$ 和 $0$，并在该点计算 $f_x(p_1, p_2)$ 的函数值。\n",
    "\n",
    "### 4. 3D 可视化\n",
    "代码使用 matplotlib 的 3D 绘图库对 $f(x_1, x_2)$ 和 $t(x)$ 进行可视化。首先绘制了 $f(x_1, x_2)$ 的线框图，用灰色显示函数的二次曲面。接着在粗略网格 $(xx1\\_, xx2\\_)$ 上绘制了切平面的线框图，并用红色表示。最后，在 $(p_1, p_2, f_x(p_1, p_2))$ 处标记展开点，以展示二次曲面与其切平面的关系。\n",
    "\n",
    "整体图形设置去除了坐标轴的刻度，仅保留了 $x_1, x_2$ 和 $f(x_1, x_2)$ 的标签，通过适当的视角设置，使 3D 可视化图形更加清晰直观。"
   ]
  },
  {
   "cell_type": "code",
   "execution_count": 1,
   "id": "b27afbb0-5873-415d-ac6f-7f629f1411c9",
   "metadata": {},
   "outputs": [],
   "source": [
    "import sympy  # 导入符号计算库 sympy\n",
    "from sympy import Matrix, Transpose  # 从 sympy 中导入矩阵和转置功能\n",
    "import numpy as np  # 导入数值计算库 numpy\n",
    "from sympy.functions import exp  # 从 sympy.functions 中导入指数函数 exp\n",
    "import matplotlib.pyplot as plt  # 导入绘图库 matplotlib.pyplot"
   ]
  },
  {
   "cell_type": "markdown",
   "id": "d49b96c5-5355-402f-9f17-b5bf35aacfcf",
   "metadata": {},
   "source": [
    "## 定义自定义函数 mesh_circ"
   ]
  },
  {
   "cell_type": "code",
   "execution_count": 2,
   "id": "3f5a909c-f8fe-4fb3-a0de-f7a502fc5880",
   "metadata": {},
   "outputs": [],
   "source": [
    "def mesh_circ(c1, c2, r, num):  # 生成圆形网格\n",
    "    theta = np.arange(0, 2 * np.pi + np.pi / num, np.pi / num)  # 生成角度范围\n",
    "    r = np.arange(0, r, r / num)  # 生成半径范围\n",
    "    theta, r = np.meshgrid(theta, r)  # 生成网格\n",
    "    xx1 = np.cos(theta) * r + c1  # 计算 x 轴坐标\n",
    "    xx2 = np.sin(theta) * r + c2  # 计算 y 轴坐标\n",
    "    \n",
    "    return xx1, xx2  # 返回生成的网格"
   ]
  },
  {
   "cell_type": "markdown",
   "id": "27add51a-46e7-4093-bc8e-e5add6e2d4dd",
   "metadata": {},
   "source": [
    "## 定义符号变量和函数"
   ]
  },
  {
   "cell_type": "code",
   "execution_count": 3,
   "id": "8152fe44-c471-4d17-ab7b-495c9d56c059",
   "metadata": {},
   "outputs": [],
   "source": [
    "x1, x2, p1, p2 = sympy.symbols('x1 x2 p1 p2')  # 定义符号变量 x1, x2, p1, p2"
   ]
  },
  {
   "cell_type": "code",
   "execution_count": 4,
   "id": "83e092c2-0a74-49d5-a4d0-2e23c4563b7f",
   "metadata": {},
   "outputs": [
    {
     "data": {
      "text/latex": [
       "$\\displaystyle - 4 x_{1}^{2} - 4 x_{2}^{2}$"
      ],
      "text/plain": [
       "-4*x1**2 - 4*x2**2"
      ]
     },
     "execution_count": 4,
     "metadata": {},
     "output_type": "execute_result"
    }
   ],
   "source": [
    "f_x = -4 * x1**2 - 4 * x2**2  # 定义函数 f_x = -4*x1^2 - 4*x2^2\n",
    "f_x  # 打印函数 f_x"
   ]
  },
  {
   "cell_type": "code",
   "execution_count": 5,
   "id": "47d957a8-6bc8-4291-86ae-ee181e20e794",
   "metadata": {},
   "outputs": [
    {
     "data": {
      "text/latex": [
       "$\\displaystyle - 4 p_{1}^{2} - 4 p_{2}^{2}$"
      ],
      "text/plain": [
       "-4*p1**2 - 4*p2**2"
      ]
     },
     "execution_count": 5,
     "metadata": {},
     "output_type": "execute_result"
    }
   ],
   "source": [
    "f_p = -4 * p1**2 - 4 * p2**2  # 定义函数 f_p = -4*p1^2 - 4*p2^2\n",
    "f_p"
   ]
  },
  {
   "cell_type": "markdown",
   "id": "aad17222-8d85-46be-b812-21441fb3293f",
   "metadata": {},
   "source": [
    "## 计算函数的梯度"
   ]
  },
  {
   "cell_type": "code",
   "execution_count": 6,
   "id": "7cc7ef78-8ab4-438b-8c5d-4ea38a4b3de4",
   "metadata": {},
   "outputs": [
    {
     "data": {
      "text/plain": [
       "[-8*p1, -8*p2]"
      ]
     },
     "execution_count": 6,
     "metadata": {},
     "output_type": "execute_result"
    }
   ],
   "source": [
    "grad_f = [sympy.diff(f_p, var) for var in (p1, p2)]  # 计算函数 f_p 的梯度\n",
    "grad_f  # 打印梯度"
   ]
  },
  {
   "cell_type": "code",
   "execution_count": 7,
   "id": "f4d62b1c-7151-47d4-835b-4ca6b03642cd",
   "metadata": {},
   "outputs": [],
   "source": [
    "f_x_fcn = sympy.lambdify([x1, x2], f_x)  # 将 f_x 转换为 lambda 函数以便数值计算"
   ]
  },
  {
   "cell_type": "markdown",
   "id": "61414c4d-a442-457f-9333-868ad94ccf0a",
   "metadata": {},
   "source": [
    "## 计算切平面"
   ]
  },
  {
   "cell_type": "code",
   "execution_count": 8,
   "id": "0836229d-97dd-4684-93d1-eaf7d8f903cf",
   "metadata": {},
   "outputs": [
    {
     "name": "stdout",
     "output_type": "stream",
     "text": [
      "Matrix([[-4*p1**2 - 8*p1*(-p1 + x1) - 4*p2**2 - 8*p2*(-p2 + x2)]])\n"
     ]
    }
   ],
   "source": [
    "t_x = Matrix(grad_f).T * Matrix([[x1 - p1], [x2 - p2]]) + Matrix([f_p])  # 计算切平面表达式\n",
    "print(t_x)  # 打印切平面表达式"
   ]
  },
  {
   "cell_type": "code",
   "execution_count": 9,
   "id": "82e29904-28c1-4208-ba5d-730e409ac419",
   "metadata": {},
   "outputs": [],
   "source": [
    "t_x_fcn = sympy.lambdify([x1, x2, p1, p2], t_x)  # 将切平面表达式转化为 lambda 函数"
   ]
  },
  {
   "cell_type": "markdown",
   "id": "937de710-7ef3-4faf-a694-59a552a5ba6f",
   "metadata": {},
   "source": [
    "## 将梯度转换为适用于 numpy 的双变量 lambda 函数"
   ]
  },
  {
   "cell_type": "code",
   "execution_count": 10,
   "id": "7ea410e5-41a2-4cbb-bd67-67bc4576ea84",
   "metadata": {},
   "outputs": [],
   "source": [
    "grad_fcn = sympy.lambdify([x1, x2], grad_f)  # 将梯度转化为 lambda 函数"
   ]
  },
  {
   "cell_type": "markdown",
   "id": "ae965def-9dbe-445c-9cc2-16ab75db1ea5",
   "metadata": {},
   "source": [
    "## 生成圆形网格"
   ]
  },
  {
   "cell_type": "code",
   "execution_count": 11,
   "id": "cf1fd894-aca6-4f1c-8378-fbe0ffaf63ba",
   "metadata": {},
   "outputs": [],
   "source": [
    "xx1, xx2 = mesh_circ(0, 0, 3, 20)  # 生成以 (0, 0) 为圆心、半径为 3 的圆形网格"
   ]
  },
  {
   "cell_type": "markdown",
   "id": "397885a8-c295-4a00-ba8d-bbc0be5bdf45",
   "metadata": {},
   "source": [
    "## 设置展开点"
   ]
  },
  {
   "cell_type": "code",
   "execution_count": 12,
   "id": "307fd83a-6589-40b9-916f-521bb6cdc442",
   "metadata": {},
   "outputs": [],
   "source": [
    "p1 = -1.5  # 展开点 p1\n",
    "p2 = 0  # 展开点 p2\n",
    "py = f_x_fcn(p1, p2)  # 计算 f_x 在 (p1, p2) 处的值"
   ]
  },
  {
   "cell_type": "markdown",
   "id": "521749e6-9355-4db3-a56b-08f4b996ef6a",
   "metadata": {},
   "source": [
    "## 生成粗略网格"
   ]
  },
  {
   "cell_type": "code",
   "execution_count": 13,
   "id": "a609161f-6eed-4948-911d-3665f4667512",
   "metadata": {},
   "outputs": [],
   "source": [
    "xx1_, xx2_ = np.meshgrid(np.linspace(p1 - 1, p1 + 1, 10),  # 设置 x1 粗略网格\n",
    "                         np.linspace(p2 - 1, p2 + 1, 10))  # 设置 x2 粗略网格"
   ]
  },
  {
   "cell_type": "markdown",
   "id": "ff60f8e2-dcde-4f30-8208-96d0e9615765",
   "metadata": {},
   "source": [
    "## 计算二次曲面"
   ]
  },
  {
   "cell_type": "code",
   "execution_count": 14,
   "id": "79fb8b02-133a-41f6-8dbc-5874f973f977",
   "metadata": {},
   "outputs": [],
   "source": [
    "ff_x = f_x_fcn(xx1, xx2)  # 计算精细网格上的函数值"
   ]
  },
  {
   "cell_type": "markdown",
   "id": "3c1d868c-3e27-4eed-b5bc-8fc949fff6cd",
   "metadata": {},
   "source": [
    "## 计算切平面"
   ]
  },
  {
   "cell_type": "code",
   "execution_count": 15,
   "id": "1e3c022b-ac91-44c1-9004-64a250386e4e",
   "metadata": {},
   "outputs": [],
   "source": [
    "tt_x = t_x_fcn(xx1_, xx2_, p1, p2)  # 计算粗略网格上的切平面值"
   ]
  },
  {
   "cell_type": "markdown",
   "id": "3e150bdd-1fa4-4d34-a6cf-d98b3579acd0",
   "metadata": {},
   "source": [
    "## 3D 可视化"
   ]
  },
  {
   "cell_type": "code",
   "execution_count": 16,
   "id": "bf4e3cc1-f48a-4fae-b3f2-11750cfdfcf1",
   "metadata": {},
   "outputs": [
    {
     "data": {
      "image/png": "[encoded data removed]",
      "text/plain": [
       "<Figure size 640x480 with 1 Axes>"
      ]
     },
     "metadata": {},
     "output_type": "display_data"
    }
   ],
   "source": [
    "fig = plt.figure()\n",
    "ax = plt.axes(projection='3d')\n",
    "\n",
    "ax.plot_wireframe(xx1, xx2, ff_x, rstride=1,  # 绘制二次曲面的线框图\n",
    "                  cstride=1, color=[0.5, 0.5, 0.5],  # 设置线框颜色\n",
    "                  linewidth=0.2)  # 设置线框宽度\n",
    "\n",
    "ax.plot_wireframe(xx1_, xx2_, np.squeeze(tt_x), rstride=1,  # 绘制切平面的线框图\n",
    "                  cstride=1, color=[1, 0, 0],  # 设置线框颜色\n",
    "                  linewidth=0.2)  # 设置线框宽度\n",
    "ax.plot(p1, p2, py, 'x')  # 绘制展开点\n",
    "\n",
    "# 去除坐标轴刻度\n",
    "ax.xaxis.set_ticks([])  # 去除 x 轴刻度\n",
    "ax.yaxis.set_ticks([])  # 去除 y 轴刻度\n",
    "ax.zaxis.set_ticks([])  # 去除 z 轴刻度\n",
    "plt.xlim(-3, 3)  # 设置 x 轴范围\n",
    "plt.ylim(-3, 3)  # 设置 y 轴范围\n",
    "ax.view_init(30, -125)  # 设置视角角度\n",
    "ax.set_xlabel('$x_1$')  # 设置 x 轴标签\n",
    "ax.set_ylabel('$x_2$')  # 设置 y 轴标签\n",
    "ax.set_zlabel('$f(x_1,x_2)$')  # 设置 z 轴标签\n",
    "ax.set_proj_type('ortho')"
   ]
  },
  {
   "cell_type": "code",
   "execution_count": null,
   "id": "85a80909-2aac-49ed-bb7a-f8cc6b80ee7d",
   "metadata": {},
   "outputs": [],
   "source": []
  },
  {
   "cell_type": "code",
   "execution_count": null,
   "id": "ecd322f4-f919-4be2-adc3-69d28ef25e69",
   "metadata": {},
   "outputs": [],
   "source": []
  }
 ],
 "metadata": {
  "kernelspec": {
   "display_name": "Python 3 (ipykernel)",
   "language": "python",
   "name": "python3"
  },
  "language_info": {
   "codemirror_mode": {
    "name": "ipython",
    "version": 3
   },
   "file_extension": ".py",
   "mimetype": "text/x-python",
   "name": "python",
   "nbconvert_exporter": "python",
   "pygments_lexer": "ipython3",
   "version": "3.12.7"
  }
 },
 "nbformat": 4,
 "nbformat_minor": 5
}
