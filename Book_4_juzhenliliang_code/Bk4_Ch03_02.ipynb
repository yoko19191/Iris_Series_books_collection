{
 "cells": [
  {
   "cell_type": "markdown",
   "id": "73bd968b-d970-4a05-94ef-4e7abf990827",
   "metadata": {},
   "source": [
    "Chapter 03\n",
    "\n",
    "# 向量L2范数\n",
    "Book_4《矩阵力量》 | 鸢尾花书：从加减乘除到机器学习 (第二版)"
   ]
  },
  {
   "cell_type": "markdown",
   "id": "5de35728-d92e-4001-b0cf-042b170a09bf",
   "metadata": {},
   "source": [
    "这段代码在二维平面上绘制了三个向量 $\\vec{u}$、$\\vec{v}$ 和 $\\vec{w}$，并用标签标注了向量模长。首先定义向量 $\\vec{u} = [4, 3]$ 和 $\\vec{v} = [-2, 4]$，并将 $\\vec{u} + \\vec{v} = [2, 7]$ 存入 $\\vec{w}$。这些向量用 `plt.quiver` 在图上绘制，以便可视化不同方向与长度的向量关系。\n",
    "\n",
    "模长（$L_2$ 范数）公式为：\n",
    "\n",
    "$$\n",
    "\\|\\vec{u}\\|_2 = \\sqrt{u_1^2 + u_2^2}\n",
    "$$\n",
    "\n",
    "对于向量 $\\vec{u} = [4, 3]$ 和 $\\vec{v} = [-2, 4]$，各自的模长分别为：\n",
    "\n",
    "$$\n",
    "\\|\\vec{u}\\|_2 = \\sqrt{4^2 + 3^2} = 5\n",
    "$$\n",
    "\n",
    "$$\n",
    "\\|\\vec{v}\\|_2 = \\sqrt{(-2)^2 + 4^2} = \\sqrt{20} \\approx 4.47\n",
    "$$\n",
    "\n",
    "并且 $\\vec{u} + \\vec{v}$ 的模长为：\n",
    "\n",
    "$$\n",
    "\\|\\vec{u} + \\vec{v}\\|_2 = \\sqrt{2^2 + 7^2} = \\sqrt{53} \\approx 7.28\n",
    "$$\n",
    "\n",
    "代码最终生成带有坐标轴和网格的平面图，展示不同向量模长在同一图中的可视化效果。"
   ]
  },
  {
   "cell_type": "markdown",
   "id": "aba40400-b1f9-4ebd-94e7-7aa28002a559",
   "metadata": {},
   "source": [
    "## 导入所需库"
   ]
  },
  {
   "cell_type": "code",
   "execution_count": 1,
   "id": "084c8a2b-02e8-4cc1-9243-84502efce78a",
   "metadata": {},
   "outputs": [],
   "source": [
    "import numpy as np  # 导入NumPy库，用于数值计算\n",
    "from matplotlib import pyplot as plt  # 导入Matplotlib库，用于绘图\n",
    "import seaborn as sns  # 导入Seaborn库，用于调色"
   ]
  },
  {
   "cell_type": "markdown",
   "id": "7a578343-5a67-4f79-85d6-60c1fe976f09",
   "metadata": {},
   "source": [
    "## 定义自定义函数，用于绘制向量及标注"
   ]
  },
  {
   "cell_type": "code",
   "execution_count": 2,
   "id": "4087477b-9463-4e7f-968b-3be248d53c46",
   "metadata": {},
   "outputs": [],
   "source": [
    "def plot_vectors(vectors, labels, ax_limits=(-2, 8), grid=True):\n",
    "    \"\"\"\n",
    "    绘制二维向量及其模长标注\n",
    "\n",
    "    参数:\n",
    "        vectors (list): 每个向量的起点和终点，格式为[[x1, y1, dx, dy], ...]\n",
    "        labels (list): 每个向量的标注，格式为[(x_pos, y_pos, text, color_index), ...]\n",
    "        ax_limits (tuple): 坐标轴的范围，格式为(min, max)\n",
    "        grid (bool): 是否显示网格\n",
    "    \"\"\"\n",
    "    # 创建绘图画布\n",
    "    fig, ax = plt.subplots()\n",
    "\n",
    "    # 分解向量起点和分量，用于绘图\n",
    "    x_coords = [v[0] for v in vectors]  # 向量的x起点\n",
    "    y_coords = [v[1] for v in vectors]  # 向量的y起点\n",
    "    dx_coords = [v[2] for v in vectors]  # 向量的x分量\n",
    "    dy_coords = [v[3] for v in vectors]  # 向量的y分量\n",
    "\n",
    "    # 绘制向量\n",
    "    plt.quiver(x_coords, y_coords, dx_coords, dy_coords,\n",
    "               angles='xy', scale_units='xy', scale=1, \n",
    "               color=sns.color_palette())\n",
    "\n",
    "    # 绘制坐标轴\n",
    "    plt.axvline(x=0, color='grey')  # y轴\n",
    "    plt.axhline(y=0, color='grey')  # x轴\n",
    "\n",
    "    # 标注向量模长\n",
    "    for x_pos, y_pos, text, color_index in labels:\n",
    "        plt.text(x_pos, y_pos, text, \n",
    "                 color=sns.color_palette()[color_index], size=12, \n",
    "                 ha='center', va='center')\n",
    "\n",
    "    # 设置图形细节\n",
    "    plt.ylabel('$x_2$')  # y轴标签\n",
    "    plt.xlabel('$x_1$')  # x轴标签\n",
    "    plt.axis('scaled')  # 坐标轴比例相等\n",
    "    ax.set_xticks(np.arange(ax_limits[0], ax_limits[1] + 1))  # 设置x轴刻度\n",
    "    ax.set_yticks(np.arange(ax_limits[0], ax_limits[1] + 1))  # 设置y轴刻度\n",
    "    ax.set_xlim(ax_limits[0], ax_limits[1])  # 设置x轴范围\n",
    "    ax.set_ylim(ax_limits[0], ax_limits[1])  # 设置y轴范围\n",
    "\n",
    "    if grid:\n",
    "        ax.grid(linestyle='--', linewidth=0.25, color=[0.5, 0.5, 0.5])  # 网格\n",
    "\n",
    "    plt.show()"
   ]
  },
  {
   "cell_type": "markdown",
   "id": "17bd337a-d684-4bb7-9b57-054105665e5a",
   "metadata": {},
   "source": [
    "## 定义向量"
   ]
  },
  {
   "cell_type": "code",
   "execution_count": 3,
   "id": "080c77e1-cab4-47cc-b722-8bc3fbe5a51a",
   "metadata": {},
   "outputs": [],
   "source": [
    "u = [0, 0, 4, 3]  # 向量u的起点和分量"
   ]
  },
  {
   "cell_type": "code",
   "execution_count": 4,
   "id": "985922c6-9d7f-4a2f-9d45-a2df2d21f0a8",
   "metadata": {},
   "outputs": [],
   "source": [
    "v = [0, 0, -2, 4]  # 向量v的起点和分量"
   ]
  },
  {
   "cell_type": "code",
   "execution_count": 5,
   "id": "61aae2a9-665b-4cf2-bd2e-e8a4bdbb75d1",
   "metadata": {},
   "outputs": [],
   "source": [
    "u_bis = [4, 3, v[2], v[3]]  # u和v的组合向量"
   ]
  },
  {
   "cell_type": "code",
   "execution_count": 6,
   "id": "f3ce312e-bcb1-440b-b29a-335212853107",
   "metadata": {},
   "outputs": [],
   "source": [
    "w = [0, 0, 2, 7]  # 向量w的起点和分量"
   ]
  },
  {
   "cell_type": "markdown",
   "id": "a52a3b62-fd8b-4302-8da0-2ac962ebd09a",
   "metadata": {},
   "source": [
    "## 定义向量列表"
   ]
  },
  {
   "cell_type": "code",
   "execution_count": 7,
   "id": "e48cb395-a074-44e8-a053-347f55e2b4d7",
   "metadata": {},
   "outputs": [],
   "source": [
    "vectors = [u, u_bis, w]  # 所有向量"
   ]
  },
  {
   "cell_type": "markdown",
   "id": "1c68bd01-79a2-47c7-b785-28c8198bf67c",
   "metadata": {},
   "source": [
    "## 定义标注列表"
   ]
  },
  {
   "cell_type": "code",
   "execution_count": 8,
   "id": "e2c78180-546e-4ffc-9ac2-1385806034cc",
   "metadata": {},
   "outputs": [],
   "source": [
    "labels = [\n",
    "    (3, 1, r'$||\\vec{u}||_2$', 0),  # 向量u的模长标注\n",
    "    (3, 6, r'$||\\vec{v}||_2$', 1),  # 向量v的模长标注\n",
    "    (0, 4, r'$||\\vec{u}+\\vec{v}||_2$', 2)  # 向量u+v的模长标注\n",
    "]"
   ]
  },
  {
   "cell_type": "markdown",
   "id": "e41b2a77-b526-4a96-8e49-a602120b3df1",
   "metadata": {},
   "source": [
    "## 调用自定义函数绘制图形"
   ]
  },
  {
   "cell_type": "code",
   "execution_count": 9,
   "id": "66d5a6c2-7dfa-4ba0-b092-55d9666bace7",
   "metadata": {},
   "outputs": [
    {
     "data": {
      "image/png": "[encoded data removed]",
      "text/plain": [
       "<Figure size 640x480 with 1 Axes>"
      ]
     },
     "metadata": {},
     "output_type": "display_data"
    }
   ],
   "source": [
    "plot_vectors(vectors, labels)"
   ]
  },
  {
   "cell_type": "code",
   "execution_count": null,
   "id": "ecd322f4-f919-4be2-adc3-69d28ef25e69",
   "metadata": {},
   "outputs": [],
   "source": []
  }
 ],
 "metadata": {
  "kernelspec": {
   "display_name": "Python 3 (ipykernel)",
   "language": "python",
   "name": "python3"
  },
  "language_info": {
   "codemirror_mode": {
    "name": "ipython",
    "version": 3
   },
   "file_extension": ".py",
   "mimetype": "text/x-python",
   "name": "python",
   "nbconvert_exporter": "python",
   "pygments_lexer": "ipython3",
   "version": "3.12.7"
  }
 },
 "nbformat": 4,
 "nbformat_minor": 5
}
