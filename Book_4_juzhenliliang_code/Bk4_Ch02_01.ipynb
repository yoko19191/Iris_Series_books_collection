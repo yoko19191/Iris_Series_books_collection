{
 "cells": [
  {
   "cell_type": "markdown",
   "id": "73bd968b-d970-4a05-94ef-4e7abf990827",
   "metadata": {},
   "source": [
    "Chapter 02\n",
    "\n",
    "# 平面向量\n",
    "Book_4《矩阵力量》 | 鸢尾花书：从加减乘除到机器学习 (第二版)"
   ]
  },
  {
   "cell_type": "markdown",
   "id": "41d40a38-db14-4162-bbb4-ade44a0fc01e",
   "metadata": {},
   "source": [
    "这段代码的目的是在二维平面上绘制两个向量。通过 `draw_vector` 函数，代码接受一个向量和其对应的颜色值，将向量从原点（$[0, 0]$）绘制到指定的终点位置。代码分别绘制了两个向量：第一个向量 $\\vec{v_1} = [4, 3]$ 和第二个向量 $\\vec{v_2} = [-3, 4]$。这两个向量的颜色分别为蓝色和红色，绘制在坐标轴上。\n",
    "\n",
    "### 代码描述\n",
    "代码先导入了所需的库 `numpy` 和 `matplotlib.pyplot`，其中 `numpy` 用于处理向量的数组格式，`matplotlib.pyplot` 用于绘图。在 `draw_vector` 函数中，代码通过 `np.array` 函数构造了一个包含向量起点和终点的数组 $\\text{array} = [[0, 0, x_1, x_2]]$，其中 $\\vec{v} = [x_1, x_2]$ 表示向量的坐标。此数组被拆分成起点和终点，接着调用 `plt.quiver` 绘制从起点 $(0, 0)$ 出发、指向终点 $(x_1, x_2)$ 的向量。\n",
    "\n",
    "代码中的向量分量表达为 $\\vec{v_1} = [4, 3]$ 和 $\\vec{v_2} = [-3, 4]$，其在坐标系中的位置可分别表示为：\n",
    "$$\n",
    "\\vec{v_1} = 4 \\hat{i} + 3 \\hat{j}\n",
    "$$\n",
    "和\n",
    "$$\n",
    "\\vec{v_2} = -3 \\hat{i} + 4 \\hat{j}\n",
    "$$\n",
    "这里 $\\hat{i}$ 和 $\\hat{j}$ 分别表示二维坐标系中的单位向量。\n",
    "\n",
    "最后，代码设置坐标轴的标签 $x_1$ 和 $x_2$，对坐标范围进行了限定 $[-5, 5]$，并加上网格线来辅助观察向量的方向和位置。最终的绘制效果展示了二维空间中两个不同方向和颜色的向量。"
   ]
  },
  {
   "cell_type": "markdown",
   "id": "a5aa4dec-32a4-4a62-a821-650c735b35bd",
   "metadata": {},
   "source": [
    "## 导入所需库"
   ]
  },
  {
   "cell_type": "code",
   "execution_count": 1,
   "id": "1ea42b69-5170-4c31-ad2c-dcabaf01cf14",
   "metadata": {},
   "outputs": [],
   "source": [
    "import numpy as np  # 导入NumPy库，用于数值计算\n",
    "import matplotlib.pyplot as plt  # 导入Matplotlib库，用于绘图"
   ]
  },
  {
   "cell_type": "markdown",
   "id": "30cf6c0b-1aef-4d8c-af7f-83ca7b0e2584",
   "metadata": {},
   "source": [
    "## 定义绘制向量的函数"
   ]
  },
  {
   "cell_type": "code",
   "execution_count": 2,
   "id": "dbc715a5-295c-4944-9c66-f34212fdaa05",
   "metadata": {},
   "outputs": [],
   "source": [
    "def draw_vector(vector, RBG):  # 定义函数，用于绘制向量并设置颜色\n",
    "    array = np.array([[0, 0, vector[0], vector[1]]])  # 创建二维数组，包含向量的起点和终点\n",
    "    X, Y, U, V = zip(*array)  # 解包数组，得到向量的起点坐标和分量\n",
    "    plt.quiver(X, Y, U, V, angles='xy', scale_units='xy', scale=1, color=RBG)  # 使用quiver函数绘制向量"
   ]
  },
  {
   "cell_type": "markdown",
   "id": "4c0a93fa-27a2-4395-94d4-0513aa910a9a",
   "metadata": {},
   "source": [
    "## 绘图设置"
   ]
  },
  {
   "cell_type": "code",
   "execution_count": 3,
   "id": "4c6006e3-510b-4cea-954c-872c12191475",
   "metadata": {},
   "outputs": [
    {
     "data": {
      "image/png": "[encoded data removed]",
      "text/plain": [
       "<Figure size 640x480 with 1 Axes>"
      ]
     },
     "metadata": {},
     "output_type": "display_data"
    }
   ],
   "source": [
    "fig, ax = plt.subplots()  # 创建画布和坐标轴对象\n",
    "\n",
    "# 绘制向量[4,3]并设置颜色为蓝色\n",
    "draw_vector([4, 3], np.array([0, 112, 192]) / 255)  \n",
    "\n",
    "# 绘制向量[-3,4]并设置颜色为红色\n",
    "draw_vector([-3, 4], np.array([255, 0, 0]) / 255)\n",
    "\n",
    "## 图形显示设置\n",
    "plt.ylabel('$x_2$')  # 设置y轴标签为x_2\n",
    "plt.xlabel('$x_1$')  # 设置x轴标签为x_1\n",
    "plt.axis('scaled')  # 设置坐标轴比例\n",
    "ax.set_xlim([-5, 5])  # 设置x轴显示范围\n",
    "ax.set_ylim([-5, 5])  # 设置y轴显示范围\n",
    "ax.grid(linestyle='--', linewidth=0.25, color=[0.5, 0.5, 0.5])  # 添加网格线，设置样式\n",
    "\n",
    "plt.show()  # 显示图形"
   ]
  },
  {
   "cell_type": "code",
   "execution_count": null,
   "id": "85a80909-2aac-49ed-bb7a-f8cc6b80ee7d",
   "metadata": {},
   "outputs": [],
   "source": []
  },
  {
   "cell_type": "code",
   "execution_count": null,
   "id": "ecd322f4-f919-4be2-adc3-69d28ef25e69",
   "metadata": {},
   "outputs": [],
   "source": []
  }
 ],
 "metadata": {
  "kernelspec": {
   "display_name": "Python 3 (ipykernel)",
   "language": "python",
   "name": "python3"
  },
  "language_info": {
   "codemirror_mode": {
    "name": "ipython",
    "version": 3
   },
   "file_extension": ".py",
   "mimetype": "text/x-python",
   "name": "python",
   "nbconvert_exporter": "python",
   "pygments_lexer": "ipython3",
   "version": "3.12.7"
  }
 },
 "nbformat": 4,
 "nbformat_minor": 5
}
