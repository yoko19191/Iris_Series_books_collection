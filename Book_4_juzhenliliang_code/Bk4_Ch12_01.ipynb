{
 "cells": [
  {
   "cell_type": "markdown",
   "id": "73bd968b-d970-4a05-94ef-4e7abf990827",
   "metadata": {},
   "source": [
    "Chapter XX\n",
    "\n",
    "# XXXX\n",
    "Book_4《矩阵力量》 | 鸢尾花书：从加减乘除到机器学习 (第二版)"
   ]
  },
  {
   "cell_type": "markdown",
   "id": "fa5baa95-fc0a-4142-be50-766981310b0d",
   "metadata": {},
   "source": [
    "该代码从数学角度执行以下操作：\n",
    "\n",
    "1. **定义角度并计算余弦值**\n",
    "\n",
    "   首先，代码定义了三个向量之间的角度：\n",
    "\n",
    "   $$\n",
    "   \\theta_{12} = 135^\\circ, \\quad \\theta_{13} = 60^\\circ, \\quad \\theta_{23} = 120^\\circ\n",
    "   $$\n",
    "\n",
    "   然后，计算这些角度的余弦值：\n",
    "\n",
    "   $$\n",
    "   \\cos\\theta_{12} = \\cos(135^\\circ) = -\\frac{\\sqrt{2}}{2}\n",
    "   $$\n",
    "\n",
    "   $$\n",
    "   \\cos\\theta_{13} = \\cos(60^\\circ) = \\frac{1}{2}\n",
    "   $$\n",
    "\n",
    "   $$\n",
    "   \\cos\\theta_{23} = \\cos(120^\\circ) = -\\frac{1}{2}\n",
    "   $$\n",
    "\n",
    "2. **构建协方差矩阵 $P$**\n",
    "\n",
    "   使用上述余弦值，构建对称的协方差矩阵 $P$，其中对角线元素为 $1$，表示每个向量与自身的内积为 $1$，非对角线元素为对应向量之间的余弦值：\n",
    "\n",
    "   $$\n",
    "   P = \\begin{bmatrix}\n",
    "   1 & \\cos\\theta_{12} & \\cos\\theta_{13} \\\\\n",
    "   \\cos\\theta_{12} & 1 & \\cos\\theta_{23} \\\\\n",
    "   \\cos\\theta_{13} & \\cos\\theta_{23} & 1 \\\\\n",
    "   \\end{bmatrix}\n",
    "   $$\n",
    "\n",
    "   代入已计算的余弦值：\n",
    "\n",
    "   $$\n",
    "   P = \\begin{bmatrix}\n",
    "   1 & -\\frac{\\sqrt{2}}{2} & \\frac{1}{2} \\\\\n",
    "   -\\frac{\\sqrt{2}}{2} & 1 & -\\frac{1}{2} \\\\\n",
    "   \\frac{1}{2} & -\\frac{1}{2} & 1 \\\\\n",
    "   \\end{bmatrix}\n",
    "   $$\n",
    "\n",
    "3. **进行 Cholesky 分解**\n",
    "\n",
    "   对协方差矩阵 $P$ 进行 Cholesky 分解，将其分解为一个下三角矩阵 $L$ 与其转置的乘积：\n",
    "\n",
    "   $$\n",
    "   P = L L^\\top\n",
    "   $$\n",
    "\n",
    "   其中，$L$ 是下三角矩阵，满足：\n",
    "\n",
    "   $$\n",
    "   L = \\begin{bmatrix}\n",
    "   l_{11} & 0 & 0 \\\\\n",
    "   l_{21} & l_{22} & 0 \\\\\n",
    "   l_{31} & l_{32} & l_{33} \\\\\n",
    "   \\end{bmatrix}\n",
    "   $$\n",
    "\n",
    "   具体的矩阵 $L$ 由代码计算得出。\n",
    "\n",
    "4. **计算矩阵 $R$**\n",
    "\n",
    "   定义矩阵 $R$ 为 $L$ 的转置：\n",
    "\n",
    "   $$\n",
    "   R = L^\\top\n",
    "   $$\n",
    "\n",
    "   因此，$R$ 为上三角矩阵：\n",
    "\n",
    "   $$\n",
    "   R = \\begin{bmatrix}\n",
    "   l_{11} & l_{21} & l_{31} \\\\\n",
    "   0 & l_{22} & l_{32} \\\\\n",
    "   0 & 0 & l_{33} \\\\\n",
    "   \\end{bmatrix}\n",
    "   $$\n",
    "\n",
    "5. **提取列向量**\n",
    "\n",
    "   从矩阵 $R$ 中提取列向量 $\\mathbf{v}_1, \\mathbf{v}_2, \\mathbf{v}_3$：\n",
    "\n",
    "   $$\n",
    "   \\mathbf{v}_1 = \\begin{bmatrix} r_{11} \\\\ 0 \\\\ 0 \\end{bmatrix}, \\quad\n",
    "   \\mathbf{v}_2 = \\begin{bmatrix} r_{21} \\\\ r_{22} \\\\ 0 \\end{bmatrix}, \\quad\n",
    "   \\mathbf{v}_3 = \\begin{bmatrix} r_{31} \\\\ r_{32} \\\\ r_{33} \\end{bmatrix}\n",
    "   $$\n",
    "\n",
    "   这些向量代表了在新坐标系中的基向量。\n",
    "\n",
    "6. **计算向量长度**\n",
    "\n",
    "   为了在图形中正确展示，计算每个向量的长度（范数）：\n",
    "\n",
    "   $$\n",
    "   \\|\\mathbf{v}_i\\| = \\sqrt{v_{i1}^2 + v_{i2}^2 + v_{i3}^2}\n",
    "   $$\n",
    "\n",
    "   其中，$v_{ij}$ 是向量 $\\mathbf{v}_i$ 的分量。\n",
    "\n",
    "7. **在三维空间中绘制向量**\n",
    "\n",
    "   使用 Matplotlib 的三维绘图功能，将这些向量从原点 $(0, 0, 0)$ 开始绘制出来：\n",
    "\n",
    "   - **向量绘制**：每个向量 $\\mathbf{v}_i$ 被绘制为从原点出发的箭头，方向由向量的分量决定，长度由向量的范数决定。\n",
    "   - **颜色设置**：为每个向量指定不同的颜色，以便区分。\n",
    "\n",
    "8. **设置图形参数**\n",
    "\n",
    "   - **坐标轴范围**：将 $x, y, z$ 轴的范围都设置为 $[-1, 1]$，确保所有向量都在视野范围内。\n",
    "   - **标签和刻度**：设置坐标轴的标签为 $x$、$y$、$z$，并隐藏刻度标签以简化图形。\n",
    "   - **视角设置**：将视角设置为仰角 $35^\\circ$，方位角 $60^\\circ$，以获得最佳的三维效果。\n",
    "   - **投影类型**：选择正交投影（`ortho`），避免透视失真。\n",
    "   - **比例设置**：确保三个坐标轴的比例相同，保持向量的真实方向和长度。\n",
    "\n",
    "**数学解释**\n",
    "\n",
    "- **协方差矩阵 $P$ 的构建**：协方差矩阵表示了向量之间的关系，其中元素 $P_{ij}$ 表示向量 $\\mathbf{v}_i$ 和 $\\mathbf{v}_j$ 之间的内积：\n",
    "\n",
    "  $$\n",
    "  P_{ij} = \\cos\\theta_{ij}\n",
    "  $$\n",
    "\n",
    "- **Cholesky 分解的作用**：通过将协方差矩阵分解为 $P = L L^\\top$，我们得到了一个可以用于生成相互正交的向量集的下三角矩阵 $L$。\n",
    "\n",
    "- **向量的获取**：矩阵 $R = L^\\top$ 的列向量代表了在新的正交基下的向量，这些向量之间的内积满足最初设定的角度关系。\n",
    "\n",
    "**关键公式**\n",
    "\n",
    "- **角度的余弦关系**：\n",
    "\n",
    "  $$\n",
    "  \\cos\\theta_{ij} = \\frac{\\mathbf{v}_i \\cdot \\mathbf{v}_j}{\\|\\mathbf{v}_i\\| \\|\\mathbf{v}_j\\|}\n",
    "  $$\n",
    "\n",
    "- **协方差矩阵**：\n",
    "\n",
    "  $$\n",
    "  P = \\begin{bmatrix}\n",
    "  1 & \\cos\\theta_{12} & \\cos\\theta_{13} \\\\\n",
    "  \\cos\\theta_{12} & 1 & \\cos\\theta_{23} \\\\\n",
    "  \\cos\\theta_{13} & \\cos\\theta_{23} & 1 \\\\\n",
    "  \\end{bmatrix}\n",
    "  $$\n",
    "\n",
    "- **Cholesky 分解**：\n",
    "\n",
    "  $$\n",
    "  P = L L^\\top\n",
    "  $$\n",
    "\n",
    "- **向量范数（长度）**：\n",
    "\n",
    "  $$\n",
    "  \\|\\mathbf{v}\\| = \\sqrt{v_1^2 + v_2^2 + v_3^2}\n",
    "  $$\n",
    "\n",
    "**总结**\n",
    "\n",
    "该代码展示了如何：\n",
    "\n",
    "- **构建协方差矩阵**，以表示向量之间的角度关系。\n",
    "- **利用 Cholesky 分解**，将协方差矩阵分解为下三角矩阵与其转置的乘积，从而获取一组新的向量。\n",
    "- **在三维空间中可视化**，通过绘制向量，直观地展示了它们之间的角度关系和方向。\n",
    "\n",
    "此过程在**线性代数**和**统计学**中具有重要意义，常用于**主成分分析（PCA）**、**数据降维**和**特征向量分解**等领域。"
   ]
  },
  {
   "cell_type": "markdown",
   "id": "9ac00db0-a85b-4842-b415-eda6cc7a009c",
   "metadata": {},
   "source": [
    "## 导入包"
   ]
  },
  {
   "cell_type": "code",
   "execution_count": 1,
   "id": "6cbd8f25-4da8-47ec-b845-2d750eef5f69",
   "metadata": {},
   "outputs": [],
   "source": [
    "import matplotlib.pyplot as plt  # 导入绘图库\n",
    "from mpl_toolkits.mplot3d import Axes3D  # 导入三维绘图工具\n",
    "import numpy as np  # 导入数值计算库\n",
    "import math as m  # 导入数学函数库"
   ]
  },
  {
   "cell_type": "markdown",
   "id": "dabfa173-df7f-4f10-80d2-a6df0674b9d5",
   "metadata": {},
   "source": [
    "## 定义余弦角度"
   ]
  },
  {
   "cell_type": "code",
   "execution_count": 2,
   "id": "070234d6-6530-40d9-a43d-7f1018c00c3d",
   "metadata": {},
   "outputs": [],
   "source": [
    "cos_theta_12 = np.cos(m.radians(135))  # 余弦 135 度\n",
    "cos_theta_13 = np.cos(m.radians(60))  # 余弦 60 度\n",
    "cos_theta_23 = np.cos(m.radians(120))  # 余弦 120 度"
   ]
  },
  {
   "cell_type": "markdown",
   "id": "8812171f-d368-44d3-a955-bbadf60410a4",
   "metadata": {},
   "source": [
    "## 定义协方差矩阵 P"
   ]
  },
  {
   "cell_type": "code",
   "execution_count": 3,
   "id": "8f9ad401-9e85-46ff-af43-3b88c76e662d",
   "metadata": {},
   "outputs": [],
   "source": [
    "P = np.array([[1, cos_theta_12, cos_theta_13],\n",
    "              [cos_theta_12, 1, cos_theta_23],\n",
    "              [cos_theta_13, cos_theta_23, 1]])  # 协方差矩阵"
   ]
  },
  {
   "cell_type": "markdown",
   "id": "7750824d-6b73-4977-9c0a-7d484655172c",
   "metadata": {},
   "source": [
    "## Cholesky 分解"
   ]
  },
  {
   "cell_type": "code",
   "execution_count": 4,
   "id": "c32b3ead-789b-4685-a1b8-0f1f46259411",
   "metadata": {},
   "outputs": [],
   "source": [
    "L = np.linalg.cholesky(P)  # 获取下三角矩阵 L\n",
    "R = L.T  # R 矩阵为 L 的转置"
   ]
  },
  {
   "cell_type": "markdown",
   "id": "9a23a9df-b679-4a67-8f21-772e3d7e7c27",
   "metadata": {},
   "source": [
    "## 三维可视化"
   ]
  },
  {
   "cell_type": "code",
   "execution_count": 5,
   "id": "e4ebc50e-5f62-4d1e-96e7-12157fdff145",
   "metadata": {},
   "outputs": [
    {
     "data": {
      "image/png": "[encoded data removed]",
      "text/plain": [
       "<Figure size 640x480 with 1 Axes>"
      ]
     },
     "metadata": {},
     "output_type": "display_data"
    }
   ],
   "source": [
    "fig = plt.figure()\n",
    "ax = fig.add_subplot(projection='3d')\n",
    "\n",
    "plt.plot(0, 0, 0, color='r', marker='x',  # 在原点绘制红色 x 标记\n",
    "         markersize=12)\n",
    "\n",
    "colors = ['b', 'r', 'g']  # 向量颜色\n",
    "for i in np.arange(0, 3):  # 遍历列向量\n",
    "    vector = R[:, i]\n",
    "    v = np.array([vector[0], vector[1], vector[2]])  # 提取列向量\n",
    "    vlength = np.linalg.norm(v)  # 计算向量长度\n",
    "    ax.quiver(0, 0, 0, vector[0], vector[1], vector[2],  # 绘制三维箭头表示向量\n",
    "              length=vlength, color=colors[i])\n",
    "\n",
    "ax.set_xlim([-1, 1])  # 设置 x 轴范围\n",
    "ax.set_ylim([-1, 1])  # 设置 y 轴范围\n",
    "ax.set_zlim([-1, 1])  # 设置 z 轴范围\n",
    "\n",
    "ax.set_xlabel('x')  # x 轴标签\n",
    "ax.set_ylabel('y')  # y 轴标签\n",
    "ax.set_zlabel('z')  # z 轴标签\n",
    "\n",
    "ax.xaxis.set_ticklabels([])  # 隐藏 x 轴刻度标签\n",
    "ax.yaxis.set_ticklabels([])  # 隐藏 y 轴刻度标签\n",
    "ax.zaxis.set_ticklabels([])  # 隐藏 z 轴刻度标签\n",
    "ax.view_init(35, 60)  # 设置视角\n",
    "ax.set_proj_type('ortho')  # 设置正交投影\n",
    "ax.set_box_aspect([1, 1, 1])  # 设置各轴比例相等"
   ]
  },
  {
   "cell_type": "code",
   "execution_count": null,
   "id": "85a80909-2aac-49ed-bb7a-f8cc6b80ee7d",
   "metadata": {},
   "outputs": [],
   "source": []
  },
  {
   "cell_type": "code",
   "execution_count": null,
   "id": "ecd322f4-f919-4be2-adc3-69d28ef25e69",
   "metadata": {},
   "outputs": [],
   "source": []
  }
 ],
 "metadata": {
  "kernelspec": {
   "display_name": "Python 3 (ipykernel)",
   "language": "python",
   "name": "python3"
  },
  "language_info": {
   "codemirror_mode": {
    "name": "ipython",
    "version": 3
   },
   "file_extension": ".py",
   "mimetype": "text/x-python",
   "name": "python",
   "nbconvert_exporter": "python",
   "pygments_lexer": "ipython3",
   "version": "3.12.7"
  }
 },
 "nbformat": 4,
 "nbformat_minor": 5
}
