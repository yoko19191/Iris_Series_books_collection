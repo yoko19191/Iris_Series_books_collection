{
 "cells": [
  {
   "cell_type": "markdown",
   "id": "44146ac6-ba47-4414-93e5-fce9218fb1aa",
   "metadata": {},
   "source": [
    "Chapter 17\n",
    "\n",
    "# 二分法\n",
    "Book_3《数学要素》 | 鸢尾花书：从加减乘除到机器学习 (第二版)"
   ]
  },
  {
   "cell_type": "markdown",
   "id": "3012d23f-a205-49a7-aebe-3156e46a9028",
   "metadata": {},
   "source": [
    "\n",
    "\n",
    "这段代码实现了使用**二分法**对函数的根进行求解，并且通过可视化的方式展示了二分法的迭代过程以及收敛性。下面从数学角度详细描述各部分的功能及其数学背景。\n",
    "\n",
    "---\n",
    "\n",
    "### 代码描述及数学分析\n",
    "\n",
    "#### 1. **绘图参数设置**\n",
    "代码首先使用 `matplotlib` 设置绘图参数，包括字体、刻度和网格样式。主要是为了增强可视化效果，便于后续二分法迭代结果的展示。\n",
    "\n",
    "#### 2. **目标函数定义**\n",
    "目标函数被定义为：\n",
    "$$\n",
    "f(x) = 2x^2 - 8x + 1\n",
    "$$\n",
    "这个函数是一个二次多项式，其根可以通过求解 $f(x) = 0$ 得到。`sympy` 提供符号处理功能，而 `lambdify` 将符号表达式转换为可执行的 Python 函数，以便后续数值计算。\n",
    "\n",
    "#### 3. **二分法求根**\n",
    "二分法是一种基础的数值分析方法，用于求解函数 $f(x)$ 的根。该方法的数学思想是基于连续函数在区间上的**中值定理**：如果 $f(a) \\cdot f(b) < 0$，那么 $f(x)$ 在区间 $[a, b]$ 内至少存在一个根。具体步骤如下：\n",
    "\n",
    "1. 初始区间为 $[a, b]$，其中 $f(a) \\cdot f(b) < 0$。\n",
    "2. 计算中点 $c = \\frac{a + b}{2}$，并检查 $f(c)$ 的符号：\n",
    "   - 若 $f(c) = 0$，则 $c$ 是精确根；\n",
    "   - 若 $f(c) \\cdot f(a) < 0$，则根在 $[a, c]$ 内；\n",
    "   - 否则根在 $[c, b]$ 内。\n",
    "3. 重复上述步骤，直到区间长度小于指定容差 $tol$ 或达到最大迭代次数。\n",
    "\n",
    "代码实现的核心数学公式为：\n",
    "$$\n",
    "c_k = \\frac{a_k + b_k}{2}\n",
    "$$\n",
    "其中 $a_k$ 和 $b_k$ 是第 $k$ 次迭代的区间端点。\n",
    "\n",
    "函数 `bisection_method` 返回：\n",
    "- 近似根 $c$；\n",
    "- 迭代次数；\n",
    "- 每次迭代的区间端点和中点记录（便于可视化）。\n",
    "\n",
    "#### 4. **二分法的可视化**\n",
    "二分法过程的可视化包括以下两部分：\n",
    "1. **函数曲线及区间变化**：展示每次迭代时的区间变化和函数值的对应关系。\n",
    "   - 横轴表示 $x$ 值；\n",
    "   - 纵轴表示 $f(x)$ 值；\n",
    "   - 每次迭代的区间用线段标记，终点表示区间端点 $a_k$ 和 $b_k$。\n",
    "   \n",
    "2. **收敛性分析**：绘制每次迭代的近似根 $c_k$ 随迭代次数的变化图，反映收敛速率。\n",
    "\n",
    "#### 5. **测试部分**\n",
    "调用 `bisection_method` 对函数 $f(x)$ 在区间 $[-2, 2]$ 上的根进行求解，并使用 `visualize_bisection` 和 `visualize_convergence` 展示结果。\n",
    "- 起始区间 $[-2, 2]$ 满足 $f(-2) \\cdot f(2) < 0$，因此二分法可以应用。\n",
    "- 输出近似根 $c$ 及迭代次数，验证方法的有效性。\n",
    "\n",
    "---\n",
    "\n",
    "### 数学背景补充\n",
    "1. **收敛性**：\n",
    "   二分法的误差界限在每次迭代后减半。若初始区间长度为 $|b - a|$，则经过 $n$ 次迭代后，误差为：\n",
    "   $$\n",
    "   \\text{误差} \\leq \\frac{|b - a|}{2^n}\n",
    "   $$\n",
    "   这表明二分法以线性收敛速度逼近根。\n",
    "\n",
    "2. **适用范围**：\n",
    "   二分法要求函数在初始区间内连续，且 $f(a) \\cdot f(b) < 0$。对于无解或多解情况，需结合其他方法分析。\n",
    "\n",
    "3. **图示解释**：\n",
    "   - 可视化的区间收缩和根的逐步逼近说明了二分法的本质：通过不断缩小区间逐步逼近目标根。\n",
    "   - 收敛图展示了 $c_k$ 随迭代次数单调收敛于真实根的过程。\n",
    "\n",
    "--- \n",
    "\n",
    "通过此代码及可视化过程，可以直观地理解二分法的理论和实际应用，是数值分析学习的良好案例。"
   ]
  },
  {
   "cell_type": "markdown",
   "id": "956fbbaf-244c-4262-8e73-30097b04b2d6",
   "metadata": {},
   "source": [
    "## 导入包"
   ]
  },
  {
   "cell_type": "code",
   "execution_count": 1,
   "id": "21de1f50-62b5-47b5-addf-b4135d1ec59a",
   "metadata": {},
   "outputs": [],
   "source": [
    "import numpy as np\n",
    "import matplotlib.pyplot as plt\n",
    "from sympy import symbols, lambdify"
   ]
  },
  {
   "cell_type": "code",
   "execution_count": 2,
   "id": "2bec98fc-021d-4115-b430-2b23ee32198a",
   "metadata": {},
   "outputs": [],
   "source": [
    "p = plt.rcParams  # 获取默认绘图参数\n",
    "p[\"font.sans-serif\"] = [\"Roboto\"]  # 设置无衬线字体为 Roboto\n",
    "p[\"font.weight\"] = \"light\"  # 设置字体粗细为 light\n",
    "p[\"ytick.minor.visible\"] = True  # 显示 y 轴的小刻度\n",
    "p[\"xtick.minor.visible\"] = True  # 显示 x 轴的小刻度\n",
    "p[\"axes.grid\"] = True  # 启用坐标轴网格\n",
    "p[\"grid.color\"] = \"0.5\"  # 设置网格颜色为灰色\n",
    "p[\"grid.linewidth\"] = 0.5  # 设置网格线宽度"
   ]
  },
  {
   "cell_type": "markdown",
   "id": "034768fe-d6c8-45b1-978e-7a4024f37e1a",
   "metadata": {},
   "source": [
    "## 使用 sympy 定义目标函数"
   ]
  },
  {
   "cell_type": "code",
   "execution_count": 3,
   "id": "35847f8f-7ee1-47fd-be56-9f862c3e7037",
   "metadata": {},
   "outputs": [
    {
     "data": {
      "text/latex": [
       "$\\displaystyle 2 x^{2} - 8 x + 1$"
      ],
      "text/plain": [
       "2*x**2 - 8*x + 1"
      ]
     },
     "execution_count": 3,
     "metadata": {},
     "output_type": "execute_result"
    }
   ],
   "source": [
    "x = symbols('x')\n",
    "func = 2*x**2 - 8*x + 1\n",
    "func"
   ]
  },
  {
   "cell_type": "code",
   "execution_count": 4,
   "id": "65cab65a-16dd-40de-b387-b5ba72243f2b",
   "metadata": {},
   "outputs": [],
   "source": [
    "# 将函数转换为可执行的 Python 函数\n",
    "f = lambdify(x, func, 'numpy')"
   ]
  },
  {
   "cell_type": "markdown",
   "id": "b7f79240-8a86-43d5-9346-8f269a237d3a",
   "metadata": {},
   "source": [
    "## 二分法求根函数"
   ]
  },
  {
   "cell_type": "code",
   "execution_count": 5,
   "id": "55370101-28ee-492a-a17b-0fb0f3f1b944",
   "metadata": {},
   "outputs": [],
   "source": [
    "def bisection_method(f, a, b, tol=1e-6, max_iter=100):\n",
    "    if f(a) * f(b) > 0:\n",
    "        raise ValueError(\"函数在区间两端的符号相同，无法使用二分法。\")\n",
    "\n",
    "    iter_count = 0\n",
    "    a_vals, b_vals, c_vals = [a], [b], []  # 记录区间变化以便可视化\n",
    "\n",
    "    while (b - a) / 2 > tol and iter_count < max_iter:\n",
    "        c = (a + b) / 2\n",
    "        c_vals.append(c)\n",
    "        if f(c) == 0:  # 找到精确根\n",
    "            break\n",
    "        elif f(c) * f(a) < 0:\n",
    "            b = c\n",
    "        else:\n",
    "            a = c\n",
    "\n",
    "        a_vals.append(a)\n",
    "        b_vals.append(b)\n",
    "        iter_count += 1\n",
    "\n",
    "    return c, iter_count, a_vals, b_vals, c_vals"
   ]
  },
  {
   "cell_type": "markdown",
   "id": "c95d1be2-0113-4144-8bf6-e4d2248a976d",
   "metadata": {},
   "source": [
    "## 可视化二分过程"
   ]
  },
  {
   "cell_type": "code",
   "execution_count": 6,
   "id": "62e7cfb8-86e4-4788-9614-84cd836e83f8",
   "metadata": {},
   "outputs": [],
   "source": [
    "def visualize_bisection(f, a_vals, b_vals, c_vals):\n",
    "    x = np.linspace(-3, 3, 500)\n",
    "    y = f(x)\n",
    "\n",
    "    plt.figure(figsize=(6, 6))\n",
    "    plt.plot(x, y, color=\"blue\")\n",
    "    # plt.axhline(0, color=\"black\", linewidth=0.8, linestyle=\"-\")\n",
    "\n",
    "    # 可视化每一步的区间\n",
    "    for i, (a, b, c) in enumerate(zip(a_vals, b_vals, c_vals)):\n",
    "        plt.plot([a, b], [f(a), f(b)], \"kx-\", lw = '0.2')\n",
    "\n",
    "    # plt.title(\"Bisection Method Visualization\")\n",
    "    plt.xlabel(\"x\")\n",
    "    plt.ylabel(\"f(x)\")\n",
    "    plt.xlim(-3,3)\n",
    "    plt.grid(True)\n",
    "    # plt.savefig('数值求根_二分法.svg')\n",
    "    plt.show()"
   ]
  },
  {
   "cell_type": "code",
   "execution_count": 7,
   "id": "3246ea0e-6e91-4ab3-adb1-109e7d2fbcab",
   "metadata": {},
   "outputs": [],
   "source": [
    "def visualize_convergence(x_vals):\n",
    "\n",
    "    plt.figure(figsize=(6, 3))\n",
    "    plt.plot(np.arange(len(x_vals)),x_vals, marker = 'x')\n",
    "    plt.xlim(0,len(x_vals) - 1)\n",
    "    plt.xlabel('Iteration')\n",
    "    plt.ylabel('Approximated root')\n",
    "    # plt.savefig('数值求根_二分法_收敛.svg')"
   ]
  },
  {
   "cell_type": "markdown",
   "id": "2f4492e4-222c-4a27-8ee9-7e16f6165d06",
   "metadata": {},
   "source": [
    "## 测试"
   ]
  },
  {
   "cell_type": "code",
   "execution_count": 8,
   "id": "72dbd493-8071-4f04-8cb2-f5410fab80db",
   "metadata": {},
   "outputs": [
    {
     "name": "stdout",
     "output_type": "stream",
     "text": [
      "求得根的近似值: 0.12917137145996094\n",
      "迭代次数: 21\n"
     ]
    },
    {
     "data": {
      "image/png": "[encoded data removed]",
      "text/plain": [
       "<Figure size 600x600 with 1 Axes>"
      ]
     },
     "metadata": {},
     "output_type": "display_data"
    },
    {
     "data": {
      "image/png": "[encoded data removed]",
      "text/plain": [
       "<Figure size 600x300 with 1 Axes>"
      ]
     },
     "metadata": {},
     "output_type": "display_data"
    }
   ],
   "source": [
    "try:\n",
    "    root, iterations, a_vals, b_vals, c_vals = bisection_method(f, a=-2, b=2)\n",
    "    print(f\"求得根的近似值: {root}\")\n",
    "    print(f\"迭代次数: {iterations}\")\n",
    "\n",
    "    # 可视化\n",
    "    visualize_bisection(f, a_vals, b_vals, c_vals)\n",
    "    visualize_convergence(c_vals)\n",
    "\n",
    "except ValueError as e:\n",
    "    print(e)"
   ]
  }
 ],
 "metadata": {
  "kernelspec": {
   "display_name": "Python 3 (ipykernel)",
   "language": "python",
   "name": "python3"
  },
  "language_info": {
   "codemirror_mode": {
    "name": "ipython",
    "version": 3
   },
   "file_extension": ".py",
   "mimetype": "text/x-python",
   "name": "python",
   "nbconvert_exporter": "python",
   "pygments_lexer": "ipython3",
   "version": "3.12.7"
  }
 },
 "nbformat": 4,
 "nbformat_minor": 5
}
