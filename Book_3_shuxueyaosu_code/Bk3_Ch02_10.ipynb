{
 "cells": [
  {
   "cell_type": "markdown",
   "id": "73bd968b-d970-4a05-94ef-4e7abf990827",
   "metadata": {},
   "source": [
    "Chapter 02\n",
    "\n",
    "# 矩阵乘法两个视角\n",
    "Book_3《数学要素》 | 鸢尾花书：从加减乘除到机器学习 (第二版)"
   ]
  },
  {
   "cell_type": "markdown",
   "id": "3833b4db-96e7-4dc3-9505-47e18c676df9",
   "metadata": {},
   "source": [
    "该代码使用`numpy`生成两个随机矩阵$A$和$B$并计算其矩阵乘积$C$，然后用`seaborn`绘制矩阵热图以可视化矩阵乘法的几何含义。矩阵$A$的维度为$m \\times p$，矩阵$B$的维度为$p \\times n$，其乘积$C = A \\times B$的维度为$m \\times n$。代码从两种视角展示了矩阵乘法的计算过程。\n",
    "\n",
    "### 代码细节\n",
    "\n",
    "1. **第一视角** - 矩阵整体乘法：\n",
    "   - 矩阵乘法$A \\times B = C$定义为将$A$的每一行与$B$的每一列进行点积，得到$C$中的每个元素。对于矩阵$C$的元素$C[i,j]$，计算公式为：\n",
    "\n",
    "     $$\n",
    "     C[i, j] = \\sum_{k=1}^{p} A[i, k] \\cdot B[k, j]\n",
    "     $$\n",
    "\n",
    "   - 使用热图分别展示矩阵$A$、$B$和$C$，使得乘法关系$A \\times B = C$清晰可见。\n",
    "\n",
    "2. **第二视角** - 分解矩阵乘法：\n",
    "   - 通过将$C$分解为$A$的每一列和$B$的对应行的外积之和展示矩阵乘法。设$A$的列向量和$B$的行向量分别为$A[:, k]$和$B[k, :]$，则可以将$C$分解为：\n",
    "\n",
    "     $$\n",
    "     C = C_1 + C_2 + \\dots + C_p\n",
    "     $$\n",
    "\n",
    "   - 其中每个$C_k$表示$A$的第$k$列与$B$的第$k$行的外积，计算公式为：\n",
    "\n",
    "     $$\n",
    "     C_k = A[:, k] \\times B[k, :]\n",
    "     $$\n",
    "\n",
    "   - 分别绘制出矩阵$C$的分量$C_1$、$C_2$和$C_3$（假设$p=3$），并展示出它们的逐项相加关系，即：\n",
    "\n",
    "     $$\n",
    "     C = C_1 + C_2 + C_3\n",
    "     $$\n",
    "\n",
    "### 总结\n",
    "\n",
    "该代码通过两种视角展示了矩阵乘法的几何过程，第一视角显示了矩阵的整体乘法关系，而第二视角则将矩阵乘法分解为逐列计算的外积累加。这种分解方式有助于理解矩阵乘法如何将行、列元素组合成新的矩阵。最终结果以热图形式显示，增强了对矩阵乘法结构的直观理解。"
   ]
  },
  {
   "cell_type": "markdown",
   "id": "39d8e979-e701-4dc0-a6cf-c58e3eb5a97b",
   "metadata": {},
   "source": [
    "## 导入库并设置随机种子"
   ]
  },
  {
   "cell_type": "code",
   "execution_count": 1,
   "id": "9d8d12c6-20c5-44d1-ac75-380d82610780",
   "metadata": {},
   "outputs": [],
   "source": [
    "import numpy as np\n",
    "from matplotlib import pyplot as plt\n",
    "import seaborn as sns\n",
    "\n",
    "np.random.seed(7)  # 设置随机种子以确保结果可重复"
   ]
  },
  {
   "cell_type": "markdown",
   "id": "870a7f8b-2085-4c9c-9f4b-901e2257cda8",
   "metadata": {},
   "source": [
    "## 生成矩阵A和矩阵B"
   ]
  },
  {
   "cell_type": "code",
   "execution_count": 2,
   "id": "e4991b29-2ddb-476a-bcfe-3dbefe5e3ed6",
   "metadata": {},
   "outputs": [],
   "source": [
    "m = 6  # 矩阵A的行数\n",
    "p = 3  # 矩阵A的列数和矩阵B的行数\n",
    "n = 4  # 矩阵B的列数"
   ]
  },
  {
   "cell_type": "code",
   "execution_count": 3,
   "id": "d91f425f-2ef4-444b-b7ed-e1955d473bff",
   "metadata": {},
   "outputs": [
    {
     "data": {
      "text/plain": [
       "array([[-8.47383421e-01,  5.59837584e-01, -1.23181537e-01],\n",
       "       [ 4.46930356e-01,  9.55979024e-01,  7.69917408e-02],\n",
       "       [ 2.24092732e-03, -8.55897733e-01, -4.63122040e-01],\n",
       "       [-2.34998349e-04,  3.58459992e-01,  6.07478072e-01],\n",
       "       [-2.38117734e-01, -8.68127306e-01, -4.23708801e-01],\n",
       "       [ 8.19187055e-01, -5.73229293e-01, -9.57520764e-02]])"
      ]
     },
     "execution_count": 3,
     "metadata": {},
     "output_type": "execute_result"
    }
   ],
   "source": [
    "A = np.random.uniform(-1, 1, m * p).reshape(m, p)  # 随机生成矩阵A\n",
    "A  # 输出矩阵A"
   ]
  },
  {
   "cell_type": "code",
   "execution_count": 4,
   "id": "598efc50-99b6-46d3-acf2-b8d743e1f19f",
   "metadata": {},
   "outputs": [
    {
     "data": {
      "text/plain": [
       "array([[ 0.86241204, -0.95020154,  0.20109783,  0.900259  ],\n",
       "       [-0.53939424,  0.09697984,  0.81825675, -0.73366111],\n",
       "       [ 0.04682516,  0.50081972,  0.33802648, -0.06449428]])"
      ]
     },
     "execution_count": 4,
     "metadata": {},
     "output_type": "execute_result"
    }
   ],
   "source": [
    "B = np.random.uniform(-1, 1, p * n).reshape(p, n)  # 随机生成矩阵B\n",
    "B  # 输出矩阵B"
   ]
  },
  {
   "cell_type": "code",
   "execution_count": 5,
   "id": "86790661-5b75-4184-ba40-b54850df6a4e",
   "metadata": {},
   "outputs": [
    {
     "data": {
      "text/plain": [
       "array([[-1.03853483,  0.79778625,  0.24604529, -1.16565111],\n",
       "       [-0.12660631, -0.29340424,  0.89813826, -0.30397708],\n",
       "       [ 0.44191315, -0.31707481, -0.85644097,  0.65982502],\n",
       "       [-0.16510866,  0.33922368,  0.49860873, -0.30237858],\n",
       "       [ 0.24306704, -0.07013273, -0.90146078,  0.4498704 ],\n",
       "       [ 1.01118975, -0.88193902, -0.33667873,  1.16421202]])"
      ]
     },
     "execution_count": 5,
     "metadata": {},
     "output_type": "execute_result"
    }
   ],
   "source": [
    "C = A @ B  # 计算矩阵A和矩阵B的乘积得到矩阵C\n",
    "C  # 输出矩阵C"
   ]
  },
  {
   "cell_type": "code",
   "execution_count": 6,
   "id": "3314be77-10bc-4cbf-958b-463043d7dad1",
   "metadata": {},
   "outputs": [],
   "source": [
    "all_max = 1  # 热图的最大显示值\n",
    "all_min = -1  # 热图的最小显示值"
   ]
  },
  {
   "cell_type": "markdown",
   "id": "4106a890-747c-48b8-8116-991524fc1e60",
   "metadata": {},
   "source": [
    "## 矩阵乘法的第一种视角"
   ]
  },
  {
   "cell_type": "code",
   "execution_count": 7,
   "id": "1af9a2eb-715e-4018-8164-e9ef459f702e",
   "metadata": {},
   "outputs": [
    {
     "data": {
      "text/plain": [
       "(array([0.5, 1.5, 2.5, 3.5, 4.5, 5.5]),\n",
       " [Text(0, 0.5, '1'),\n",
       "  Text(0, 1.5, '2'),\n",
       "  Text(0, 2.5, '3'),\n",
       "  Text(0, 3.5, '4'),\n",
       "  Text(0, 4.5, '5'),\n",
       "  Text(0, 5.5, '6')])"
      ]
     },
     "execution_count": 7,
     "metadata": {},
     "output_type": "execute_result"
    },
    {
     "data": {
      "image/png": "[encoded data removed]",
      "text/plain": [
       "<Figure size 1200x300 with 8 Axes>"
      ]
     },
     "metadata": {},
     "output_type": "display_data"
    }
   ],
   "source": [
    "fig, axs = plt.subplots(1, 5, figsize=(12, 3))\n",
    "\n",
    "plt.sca(axs[0])\n",
    "ax = sns.heatmap(A, cmap='RdBu_r', vmax=all_max, vmin=all_min,\n",
    "                 cbar_kws={\"orientation\": \"horizontal\"},\n",
    "                 yticklabels=np.arange(1, m+1), xticklabels=np.arange(1, p+1))\n",
    "ax.set_aspect(\"equal\")\n",
    "plt.title('$A$')\n",
    "plt.yticks(rotation=0)\n",
    "\n",
    "plt.sca(axs[1])\n",
    "plt.title('$@$')\n",
    "plt.axis('off')\n",
    "\n",
    "plt.sca(axs[2])\n",
    "ax = sns.heatmap(B, cmap='RdBu_r', vmax=all_max, vmin=all_min,\n",
    "                 cbar_kws={\"orientation\": \"horizontal\"},\n",
    "                 yticklabels=np.arange(1, p+1), xticklabels=np.arange(1, n+1))\n",
    "ax.set_aspect(\"equal\")\n",
    "plt.title('$B$')\n",
    "plt.yticks(rotation=0)\n",
    "\n",
    "plt.sca(axs[3])\n",
    "plt.title('$=$')\n",
    "plt.axis('off')\n",
    "\n",
    "plt.sca(axs[4])\n",
    "ax = sns.heatmap(C, cmap='RdBu_r', vmax=all_max, vmin=all_min,\n",
    "                 cbar_kws={\"orientation\": \"horizontal\"},\n",
    "                 yticklabels=np.arange(1, m+1), xticklabels=np.arange(1, n+1))\n",
    "ax.set_aspect(\"equal\")\n",
    "plt.title('$C$')\n",
    "plt.yticks(rotation=0)"
   ]
  },
  {
   "cell_type": "markdown",
   "id": "4f8ed6d9-5aa7-4d98-9faf-7b24072e7fd2",
   "metadata": {},
   "source": [
    "## 矩阵乘法的第二种视角"
   ]
  },
  {
   "cell_type": "code",
   "execution_count": 8,
   "id": "bf786436-36f4-4fdc-8614-0e309c5e969c",
   "metadata": {},
   "outputs": [
    {
     "data": {
      "text/plain": [
       "array([[-7.30793664e-01,  8.05185036e-01, -1.70406971e-01,\n",
       "        -7.62864552e-01],\n",
       "       [ 3.85438119e-01, -4.24673914e-01,  8.98767269e-02,\n",
       "         4.02353075e-01],\n",
       "       [ 1.93260270e-03, -2.12933260e-03,  4.50645632e-04,\n",
       "         2.01741499e-03],\n",
       "       [-2.02665405e-04,  2.23295794e-04, -4.72576592e-05,\n",
       "        -2.11559379e-04],\n",
       "       [-2.05355600e-01,  2.26259838e-01, -4.78849607e-02,\n",
       "        -2.14367633e-01],\n",
       "       [ 7.06476779e-01, -7.78392806e-01,  1.64736743e-01,\n",
       "         7.37480520e-01]])"
      ]
     },
     "execution_count": 8,
     "metadata": {},
     "output_type": "execute_result"
    }
   ],
   "source": [
    "C1 = A[:, [0]] @ B[[0], :]  # 第1列计算结果\n",
    "C1"
   ]
  },
  {
   "cell_type": "code",
   "execution_count": 9,
   "id": "af326be7-5237-4d91-a014-2ea161bf76c8",
   "metadata": {},
   "outputs": [
    {
     "data": {
      "text/plain": [
       "array([[-0.30197317,  0.05429296,  0.45809088, -0.41073106],\n",
       "       [-0.51564958,  0.09271069,  0.78223629, -0.70136463],\n",
       "       [ 0.46166631, -0.08300482, -0.7003441 ,  0.62793888],\n",
       "       [-0.19335126,  0.03476339,  0.29331231, -0.26298816],\n",
       "       [ 0.46826287, -0.08419085, -0.71035103,  0.63691124],\n",
       "       [ 0.30919658, -0.05559168, -0.46904874,  0.42055604]])"
      ]
     },
     "execution_count": 9,
     "metadata": {},
     "output_type": "execute_result"
    }
   ],
   "source": [
    "C2 = A[:, [1]] @ B[[1], :]  # 第2列计算结果\n",
    "C2"
   ]
  },
  {
   "cell_type": "code",
   "execution_count": 10,
   "id": "260da295-7ec2-47d5-8f39-925d830af0a4",
   "metadata": {},
   "outputs": [
    {
     "data": {
      "text/plain": [
       "array([[-0.005768  , -0.06169174, -0.04163862,  0.0079445 ],\n",
       "       [ 0.00360515,  0.03855898,  0.02602525, -0.00496553],\n",
       "       [-0.02168576, -0.23194065, -0.15654751,  0.02986872],\n",
       "       [ 0.02844526,  0.304237  ,  0.20534368, -0.03917886],\n",
       "       [-0.01984023, -0.21220172, -0.1432248 ,  0.02732679],\n",
       "       [-0.00448361, -0.04795453, -0.03236674,  0.00617546]])"
      ]
     },
     "execution_count": 10,
     "metadata": {},
     "output_type": "execute_result"
    }
   ],
   "source": [
    "C3 = A[:, [2]] @ B[[2], :]  # 第3列计算结果\n",
    "C3"
   ]
  },
  {
   "cell_type": "code",
   "execution_count": 11,
   "id": "6347ba75-481e-4c54-aa53-8527f908c619",
   "metadata": {},
   "outputs": [
    {
     "data": {
      "text/plain": [
       "(array([0.5, 1.5, 2.5, 3.5, 4.5, 5.5]),\n",
       " [Text(0, 0.5, '1'),\n",
       "  Text(0, 1.5, '2'),\n",
       "  Text(0, 2.5, '3'),\n",
       "  Text(0, 3.5, '4'),\n",
       "  Text(0, 4.5, '5'),\n",
       "  Text(0, 5.5, '6')])"
      ]
     },
     "execution_count": 11,
     "metadata": {},
     "output_type": "execute_result"
    },
    {
     "data": {
      "image/png": "[encoded data removed]",
      "text/plain": [
       "<Figure size 1200x300 with 11 Axes>"
      ]
     },
     "metadata": {},
     "output_type": "display_data"
    }
   ],
   "source": [
    "fig, axs = plt.subplots(1, 7, figsize=(12, 3))\n",
    "\n",
    "plt.sca(axs[0])\n",
    "ax = sns.heatmap(C1, cmap='RdBu_r', vmax=all_max, vmin=all_min,\n",
    "                 cbar_kws={\"orientation\": \"horizontal\"},\n",
    "                 yticklabels=np.arange(1, m+1), xticklabels=np.arange(1, n+1))\n",
    "ax.set_aspect(\"equal\")\n",
    "plt.title('$C_1$')\n",
    "plt.yticks(rotation=0)\n",
    "\n",
    "plt.sca(axs[1])\n",
    "plt.title('$+$')\n",
    "plt.axis('off')\n",
    "\n",
    "plt.sca(axs[2])\n",
    "ax = sns.heatmap(C2, cmap='RdBu_r', vmax=all_max, vmin=all_min,\n",
    "                 cbar_kws={\"orientation\": \"horizontal\"},\n",
    "                 yticklabels=np.arange(1, m+1), xticklabels=np.arange(1, n+1))\n",
    "ax.set_aspect(\"equal\")\n",
    "plt.title('$C_2$')\n",
    "plt.yticks(rotation=0)\n",
    "\n",
    "plt.sca(axs[3])\n",
    "plt.title('$+$')\n",
    "plt.axis('off')\n",
    "\n",
    "plt.sca(axs[4])\n",
    "ax = sns.heatmap(C3, cmap='RdBu_r', vmax=all_max, vmin=all_min,\n",
    "                 cbar_kws={\"orientation\": \"horizontal\"},\n",
    "                 yticklabels=np.arange(1, m+1), xticklabels=np.arange(1, n+1))\n",
    "ax.set_aspect(\"equal\")\n",
    "plt.title('$C_3$')\n",
    "plt.yticks(rotation=0)\n",
    "\n",
    "plt.sca(axs[5])\n",
    "plt.title('$=$')\n",
    "plt.axis('off')\n",
    "\n",
    "plt.sca(axs[6])\n",
    "ax = sns.heatmap(C, cmap='RdBu_r', vmax=all_max, vmin=all_min,\n",
    "                 cbar_kws={\"orientation\": \"horizontal\"},\n",
    "                 yticklabels=np.arange(1, m+1), xticklabels=np.arange(1, n+1))\n",
    "ax.set_aspect(\"equal\")\n",
    "plt.title('$C$')\n",
    "plt.yticks(rotation=0)"
   ]
  }
 ],
 "metadata": {
  "kernelspec": {
   "display_name": "Python 3 (ipykernel)",
   "language": "python",
   "name": "python3"
  },
  "language_info": {
   "codemirror_mode": {
    "name": "ipython",
    "version": 3
   },
   "file_extension": ".py",
   "mimetype": "text/x-python",
   "name": "python",
   "nbconvert_exporter": "python",
   "pygments_lexer": "ipython3",
   "version": "3.12.7"
  }
 },
 "nbformat": 4,
 "nbformat_minor": 5
}
