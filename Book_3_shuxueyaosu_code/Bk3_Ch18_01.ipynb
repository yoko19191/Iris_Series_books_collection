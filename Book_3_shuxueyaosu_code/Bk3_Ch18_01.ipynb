{
 "cells": [
  {
   "cell_type": "markdown",
   "id": "73bd968b-d970-4a05-94ef-4e7abf990827",
   "metadata": {},
   "source": [
    "Chapter 18\n",
    "\n",
    "# 定积分\n",
    "Book_3《数学要素》 | 鸢尾花书：从加减乘除到机器学习 (第二版)"
   ]
  },
  {
   "cell_type": "markdown",
   "id": "e5aa62cf-8003-4ed9-bd20-64c9d27005d5",
   "metadata": {},
   "source": [
    "这段代码计算并可视化了函数\n",
    "\n",
    "$$\n",
    "f(x) = x^2 + \\frac{1}{2}\n",
    "$$\n",
    "\n",
    "在区间 $[a, b]$ 上的定积分。定积分可以理解为该函数在区间 $[a, b]$ 上方与 $x$ 轴之间的面积。具体来说，代码首先通过计算不定积分 $\\int f(x) \\, dx$ 得到函数的原函数，并在上下限 $a = 0$ 和 $b = 1$ 处代入计算：\n",
    "\n",
    "$$\n",
    "\\int_a^b f(x) \\, dx = F(b) - F(a)\n",
    "$$\n",
    "\n",
    "其中 $F(x)$ 是 $f(x)$ 的原函数。在计算出定积分值后，代码在图形上绘制出函数曲线，标记积分上下限 $a$ 和 $b$，并在区间 $[a, b]$ 内填充颜色来直观展示积分区域的面积。图形标题中显示的数值即为该积分区域的面积。通过这种方式，代码展示了定积分的几何意义，即在特定区间内，函数与 $x$ 轴之间的区域面积。"
   ]
  },
  {
   "cell_type": "markdown",
   "id": "0c0179ea-8825-4c64-8f89-3bcd98709e8b",
   "metadata": {},
   "source": [
    "## 导入包"
   ]
  },
  {
   "cell_type": "code",
   "execution_count": 1,
   "id": "849b5c40-4f59-45a7-8d6c-50db3ce2bb30",
   "metadata": {},
   "outputs": [],
   "source": [
    "import numpy as np\n",
    "from sympy import *  # 导入符号计算库\n",
    "from matplotlib import pyplot as plt  # 导入绘图库"
   ]
  },
  {
   "cell_type": "code",
   "execution_count": 2,
   "id": "e2de027a-1cfe-492d-a232-5583c946147e",
   "metadata": {},
   "outputs": [],
   "source": [
    "x = Symbol('x')  # 定义符号变量 x"
   ]
  },
  {
   "cell_type": "markdown",
   "id": "f43e42fc-84e1-4284-9ea8-f804d2a77beb",
   "metadata": {},
   "source": [
    "## 定义函数和积分"
   ]
  },
  {
   "cell_type": "code",
   "execution_count": 3,
   "id": "f70f6f98-430c-4d3b-8797-ef62bd6f4a02",
   "metadata": {},
   "outputs": [
    {
     "data": {
      "text/latex": [
       "$\\displaystyle x^{2} + 0.5$"
      ],
      "text/plain": [
       "x**2 + 0.5"
      ]
     },
     "execution_count": 3,
     "metadata": {},
     "output_type": "execute_result"
    }
   ],
   "source": [
    "f_x = x**2 + 1/2  # 定义函数 f(x) = x^2 + 1/2\n",
    "# f_x = x**2 - 1/2  # 可选函数 f(x) = x^2 - 1/2\n",
    "f_x"
   ]
  },
  {
   "cell_type": "code",
   "execution_count": 4,
   "id": "de3dcad5-1a38-4bee-9b4d-2357661aee09",
   "metadata": {},
   "outputs": [],
   "source": [
    "f_x_fcn = lambdify([x], f_x)  # 将符号函数 f(x) 转换为可数值计算的函数"
   ]
  },
  {
   "cell_type": "code",
   "execution_count": 5,
   "id": "4d8f8543-fa57-4914-a340-af5757a2e2af",
   "metadata": {},
   "outputs": [
    {
     "data": {
      "text/latex": [
       "$\\displaystyle 0.333333333333333 x^{3} + 0.5 x$"
      ],
      "text/plain": [
       "0.333333333333333*x**3 + 0.5*x"
      ]
     },
     "execution_count": 5,
     "metadata": {},
     "output_type": "execute_result"
    }
   ],
   "source": [
    "integral_f_x = integrate(f_x, x)  # 计算 f(x) 的不定积分\n",
    "integral_f_x"
   ]
  },
  {
   "cell_type": "code",
   "execution_count": 6,
   "id": "170cf0ad-b8be-44ba-a29d-3ad6a5cfc004",
   "metadata": {},
   "outputs": [],
   "source": [
    "integral_f_x_fcn = lambdify([x], integral_f_x)  # 将不定积分转换为数值函数"
   ]
  },
  {
   "cell_type": "markdown",
   "id": "28c727d8-0bda-4441-82f1-ef6ed91a70c9",
   "metadata": {},
   "source": [
    "## 参数"
   ]
  },
  {
   "cell_type": "code",
   "execution_count": 7,
   "id": "985942ce-9129-40fd-88e2-e1169eee2156",
   "metadata": {},
   "outputs": [],
   "source": [
    "a = 0  # 积分下限\n",
    "b = 1  # 积分上限\n",
    "\n",
    "num = 201  # 网格数量\n",
    "x_array = np.linspace(-0.2, 1.2, num)  # x 的取值范围\n",
    "x_a_b_array = np.linspace(a, b, num)  # 积分区间内的 x 取值范围"
   ]
  },
  {
   "cell_type": "code",
   "execution_count": 8,
   "id": "398670b2-9779-4d96-bb01-2c408b1a6848",
   "metadata": {},
   "outputs": [],
   "source": [
    "y_array = f_x_fcn(x_array)  # 计算函数在 x_array 上的值\n",
    "y_a_b_array = f_x_fcn(x_a_b_array)  # 计算函数在积分区间 [a, b] 内的值"
   ]
  },
  {
   "cell_type": "markdown",
   "id": "ace0a6d7-af1e-4e18-8000-a42bd15d1430",
   "metadata": {},
   "source": [
    "## 计算定积分值"
   ]
  },
  {
   "cell_type": "code",
   "execution_count": 9,
   "id": "4f33fe54-9ba1-4642-8ab3-86c32e1c2ab6",
   "metadata": {},
   "outputs": [
    {
     "data": {
      "text/plain": [
       "0.833333333333333"
      ]
     },
     "execution_count": 9,
     "metadata": {},
     "output_type": "execute_result"
    }
   ],
   "source": [
    "integral_a_b = integral_f_x_fcn(b) - integral_f_x_fcn(a)  # 使用不定积分计算积分值\n",
    "integral_a_b"
   ]
  },
  {
   "cell_type": "code",
   "execution_count": 10,
   "id": "a6e016ea-7f40-49e0-860c-889c25726c17",
   "metadata": {},
   "outputs": [
    {
     "data": {
      "text/latex": [
       "$\\displaystyle 0.833333333333333$"
      ],
      "text/plain": [
       "0.833333333333333"
      ]
     },
     "execution_count": 10,
     "metadata": {},
     "output_type": "execute_result"
    }
   ],
   "source": [
    "integral_a_b_v2 = integrate(f_x, (x, a, b))  # 使用定积分公式计算积分值\n",
    "integral_a_b_v2"
   ]
  },
  {
   "cell_type": "code",
   "execution_count": 11,
   "id": "fa3759c8-d0f0-4add-92c6-55f95e482906",
   "metadata": {},
   "outputs": [
    {
     "data": {
      "text/plain": [
       "0.8333333333333333"
      ]
     },
     "execution_count": 11,
     "metadata": {},
     "output_type": "execute_result"
    }
   ],
   "source": [
    "integral_a_b_v2 = float(integral_a_b_v2)  # 将结果转换为浮点数\n",
    "integral_a_b_v2"
   ]
  },
  {
   "cell_type": "markdown",
   "id": "0e497fac-0a84-4df0-9fed-998cd65a3f46",
   "metadata": {},
   "source": [
    "## 绘制函数和积分区间"
   ]
  },
  {
   "cell_type": "code",
   "execution_count": 12,
   "id": "eb1ff971-2bc8-43a2-9183-92a2c11b5441",
   "metadata": {},
   "outputs": [
    {
     "data": {
      "text/plain": [
       "Text(0.5, 1.0, '$\\\\int_a^b  f(x) = 0.8333$')"
      ]
     },
     "execution_count": 12,
     "metadata": {},
     "output_type": "execute_result"
    },
    {
     "data": {
      "image/png": "[encoded data removed]",
      "text/plain": [
       "<Figure size 640x480 with 1 Axes>"
      ]
     },
     "metadata": {},
     "output_type": "display_data"
    }
   ],
   "source": [
    "fig, ax = plt.subplots()\n",
    "ax.plot(x_array, y_array, 'b')  # 绘制函数曲线\n",
    "ax.axvline(x=a, color='r', linestyle='-')  # 绘制积分下限 a\n",
    "ax.axvline(x=b, color='r', linestyle='-')  # 绘制积分上限 b\n",
    "ax.axhline(y=0, color='k', linestyle='-')  # 添加 y=0 参考线\n",
    "\n",
    "ax.fill_between(x_a_b_array,\n",
    "                y_a_b_array, \n",
    "                edgecolor='none', \n",
    "                facecolor='#DBEEF3')  # 在积分区间 [a, b] 内填充颜色\n",
    "\n",
    "ax.set_xlim(-0.2, 1.2)  # 设置 x 轴范围\n",
    "ax.set_ylim(-1, 2)  # 设置 y 轴范围\n",
    "plt.gca().spines['right'].set_visible(False)  # 隐藏右边框\n",
    "plt.gca().spines['top'].set_visible(False)  # 隐藏上边框\n",
    "ax.set_xlabel('x')  # 设置 x 轴标签\n",
    "ax.set_ylabel('f(x)')  # 设置 y 轴标签\n",
    "ax.set_title(r'$\\int_a^b  f(x) = %0.4f$' % integral_a_b)  # 在标题中显示积分结果"
   ]
  },
  {
   "cell_type": "code",
   "execution_count": null,
   "id": "d0f945df-c99d-4963-a0e2-5c66a2bf315b",
   "metadata": {
    "tags": []
   },
   "outputs": [],
   "source": []
  },
  {
   "cell_type": "code",
   "execution_count": null,
   "id": "85a80909-2aac-49ed-bb7a-f8cc6b80ee7d",
   "metadata": {},
   "outputs": [],
   "source": []
  },
  {
   "cell_type": "code",
   "execution_count": null,
   "id": "ecd322f4-f919-4be2-adc3-69d28ef25e69",
   "metadata": {},
   "outputs": [],
   "source": []
  }
 ],
 "metadata": {
  "kernelspec": {
   "display_name": "Python 3 (ipykernel)",
   "language": "python",
   "name": "python3"
  },
  "language_info": {
   "codemirror_mode": {
    "name": "ipython",
    "version": 3
   },
   "file_extension": ".py",
   "mimetype": "text/x-python",
   "name": "python",
   "nbconvert_exporter": "python",
   "pygments_lexer": "ipython3",
   "version": "3.12.7"
  }
 },
 "nbformat": 4,
 "nbformat_minor": 5
}
