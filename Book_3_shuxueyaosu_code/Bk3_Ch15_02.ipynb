{
 "cells": [
  {
   "cell_type": "markdown",
   "id": "73bd968b-d970-4a05-94ef-4e7abf990827",
   "metadata": {},
   "source": [
    "Chapter 15\n",
    "\n",
    "# 左右极限\n",
    "Book_3《数学要素》 | 鸢尾花书：从加减乘除到机器学习 (第二版)"
   ]
  },
  {
   "cell_type": "markdown",
   "id": "9992d682-f5a5-43ea-b612-023b8106a840",
   "metadata": {},
   "source": [
    "这段代码的目标是分析函数 \n",
    "\n",
    "$$\n",
    "f(x) = \\frac{1}{1 + 2^{-1/x}}\n",
    "$$\n",
    "\n",
    "在 $x$ 接近 $0$ 时的左右极限。函数 $f(x)$ 具有分段的逼近行为：当 $x \\to 0^+$ 时，$f(x)$ 接近一个值，而当 $x \\to 0^-$ 时，$f(x)$ 会趋向另一个值。因此，该代码通过计算左右极限并绘制函数曲线来可视化这种行为。\n",
    "\n",
    "具体步骤如下：\n",
    "\n",
    "1. **定义函数**：代码通过 $f(x) = \\frac{1}{1 + 2^{-1/x}}$ 来建立一个具有不同左右极限的函数。该表达式依赖于 $x$ 的正负值：当 $x$ 为正且接近 $0$ 时，$2^{-1/x}$ 接近 $0$，使得 $f(x) \\approx 1$；当 $x$ 为负且接近 $0$ 时，$2^{-1/x}$ 迅速趋向无穷大，导致 $f(x) \\approx 0$。\n",
    "\n",
    "2. **计算左右极限**：代码使用`SymPy`的`limit`函数计算当 $x \\to 0^+$ 和 $x \\to 0^-$ 时的左右极限，即：\n",
    "\n",
    "   $$\n",
    "   \\lim_{x \\to 0^+} f(x) = 1, \\quad \\lim_{x \\to 0^-} f(x) = 0\n",
    "   $$\n",
    "\n",
    "   通过这些极限值，可以看到 $f(x)$ 在 $x=0$ 处的非连续性。\n",
    "\n",
    "3. **绘制函数曲线和极限值**：使用`Matplotlib`，代码绘制了 $f(x)$ 在 $x$ 接近 $0$ 两侧的曲线图。右侧部分的 $x$ 值从 $0.01$ 到 $4$，左侧部分的 $x$ 值从 $-4$ 到 $-0.01$。在图中，函数值曲线以蓝色绘制，左右极限值以红色水平线表示。图中还添加了黑色的垂直线 $x = 0$ 和水平线 $y = 0.5$ 作为参考。\n",
    "\n",
    "此图形清晰地展示了 $f(x)$ 在 $x=0$ 处的左右极限不同的特性，帮助理解该函数的非连续性和分段逼近行为。"
   ]
  },
  {
   "cell_type": "markdown",
   "id": "54c26924-a052-439f-97da-bfb5fa5fb88c",
   "metadata": {},
   "source": [
    "## 导入包"
   ]
  },
  {
   "cell_type": "code",
   "execution_count": 1,
   "id": "9a395c6d-bbbe-4020-b5e2-113a76b198b5",
   "metadata": {},
   "outputs": [],
   "source": [
    "from sympy import latex, lambdify, limit, log, oo  # 导入符号计算库SymPy中的latex格式化、数值化、极限、对数和无穷大符号\n",
    "from sympy.abc import x  # 导入符号变量x\n",
    "import numpy as np\n",
    "from matplotlib import pyplot as plt  # 导入NumPy和Matplotlib用于数值计算和绘图"
   ]
  },
  {
   "cell_type": "markdown",
   "id": "c36719ad-dfa7-4fea-a294-f16542783d03",
   "metadata": {},
   "source": [
    "## 定义分段函数 f(x)"
   ]
  },
  {
   "cell_type": "code",
   "execution_count": 2,
   "id": "f6663505-1ad3-41bd-9fc2-ecd8c8576689",
   "metadata": {},
   "outputs": [
    {
     "data": {
      "text/latex": [
       "$\\displaystyle \\frac{1}{1 + 2^{- \\frac{1}{x}}}$"
      ],
      "text/plain": [
       "1/(1 + 2**(-1/x))"
      ]
     },
     "execution_count": 2,
     "metadata": {},
     "output_type": "execute_result"
    }
   ],
   "source": [
    "f_x = 1 / (1 + 2**(-1/x))  # 定义函数表达式\n",
    "f_x"
   ]
  },
  {
   "cell_type": "markdown",
   "id": "3d367723-d0bf-4fe8-a9b7-7060c9f6a933",
   "metadata": {},
   "source": [
    "## 将符号表达式转换为数值函数"
   ]
  },
  {
   "cell_type": "code",
   "execution_count": 3,
   "id": "c4c7786d-d2f8-4ff5-93ee-5785702fba5d",
   "metadata": {},
   "outputs": [],
   "source": [
    "f_x_fcn = lambdify(x, f_x)  # 将f(x)转换为Python数值函数"
   ]
  },
  {
   "cell_type": "markdown",
   "id": "7887ebde-cb8e-4fa5-8937-077663b53801",
   "metadata": {},
   "source": [
    "## 计算右极限"
   ]
  },
  {
   "cell_type": "code",
   "execution_count": 4,
   "id": "3eace351-7a73-4d5b-9fc6-2c2c86d24519",
   "metadata": {},
   "outputs": [
    {
     "data": {
      "text/latex": [
       "$\\displaystyle 1$"
      ],
      "text/plain": [
       "1"
      ]
     },
     "execution_count": 4,
     "metadata": {},
     "output_type": "execute_result"
    }
   ],
   "source": [
    "x_array_right = np.linspace(0.01, 4, 500)  # x从右侧逼近0的范围\n",
    "f_x_array_right = f_x_fcn(x_array_right)  # 计算右侧逼近0时的f(x)值\n",
    "f_x_0_limit_right = limit(f_x, x, 0, '+')  # 计算x趋于0的右极限\n",
    "f_x_0_limit_right"
   ]
  },
  {
   "cell_type": "markdown",
   "id": "717d1a2c-d796-407c-91db-eac97f498159",
   "metadata": {},
   "source": [
    "## 计算左极限"
   ]
  },
  {
   "cell_type": "code",
   "execution_count": 5,
   "id": "cf607915-8486-44cb-8f1a-8f1cbf6edc2f",
   "metadata": {},
   "outputs": [
    {
     "data": {
      "text/latex": [
       "$\\displaystyle 0$"
      ],
      "text/plain": [
       "0"
      ]
     },
     "execution_count": 5,
     "metadata": {},
     "output_type": "execute_result"
    }
   ],
   "source": [
    "x_array_left = np.linspace(-4, -0.01, 500)  # x从左侧逼近0的范围\n",
    "f_x_array_left = f_x_fcn(x_array_left)  # 计算左侧逼近0时的f(x)值\n",
    "f_x_0_limit_left = limit(f_x, x, 0, '-')  # 计算x趋于0的左极限\n",
    "f_x_0_limit_left"
   ]
  },
  {
   "cell_type": "markdown",
   "id": "23d75ae1-f249-467a-aef9-ac5bf56b9f20",
   "metadata": {},
   "source": [
    "## 绘制函数和极限值"
   ]
  },
  {
   "cell_type": "code",
   "execution_count": 6,
   "id": "bea96b1b-b952-404c-9604-1eba73515577",
   "metadata": {},
   "outputs": [
    {
     "data": {
      "text/plain": [
       "Text(0, 0.5, '$\\\\frac{1}{1 + 2^{- \\\\frac{1}{x}}}$')"
      ]
     },
     "execution_count": 6,
     "metadata": {},
     "output_type": "execute_result"
    },
    {
     "data": {
      "image/png": "[encoded data removed]",
      "text/plain": [
       "<Figure size 640x480 with 1 Axes>"
      ]
     },
     "metadata": {},
     "output_type": "display_data"
    }
   ],
   "source": [
    "fig, ax = plt.subplots()  # 创建绘图窗口\n",
    "\n",
    "ax.plot(x_array_right, f_x_array_right, linewidth=1.5, color='b')  # 绘制右侧f(x)曲线\n",
    "ax.axhline(y=f_x_0_limit_right, color='r')  # 添加水平线表示右极限值\n",
    "\n",
    "ax.plot(x_array_left, f_x_array_left, linewidth=1.5, color='b')  # 绘制左侧f(x)曲线\n",
    "ax.axhline(y=f_x_0_limit_left, color='r')  # 添加水平线表示左极限值\n",
    "\n",
    "ax.axvline(x=0, color='k')  # 添加垂直线表示x=0\n",
    "ax.axhline(y=0.5, color='k')  # 添加水平线表示y=0.5\n",
    "\n",
    "ax.grid(linestyle='--', linewidth=0.25, color=[0.5, 0.5, 0.5])  # 添加网格线\n",
    "ax.set_xlim(x_array_left.min(), x_array_right.max())  # 设置x轴范围\n",
    "\n",
    "ax.set_xlabel(r'$\\it{x}$', fontname='Times New Roman')  # 设置x轴标签\n",
    "ax.set_ylabel(r'$%s$' % latex(f_x), fontname='Times New Roman')  # 使用LaTeX格式化y轴标签为f(x)的表达式"
   ]
  },
  {
   "cell_type": "code",
   "execution_count": null,
   "id": "ecd322f4-f919-4be2-adc3-69d28ef25e69",
   "metadata": {},
   "outputs": [],
   "source": []
  }
 ],
 "metadata": {
  "kernelspec": {
   "display_name": "Python 3 (ipykernel)",
   "language": "python",
   "name": "python3"
  },
  "language_info": {
   "codemirror_mode": {
    "name": "ipython",
    "version": 3
   },
   "file_extension": ".py",
   "mimetype": "text/x-python",
   "name": "python",
   "nbconvert_exporter": "python",
   "pygments_lexer": "ipython3",
   "version": "3.12.7"
  }
 },
 "nbformat": 4,
 "nbformat_minor": 5
}
