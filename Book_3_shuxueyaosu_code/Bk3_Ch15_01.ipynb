{
 "cells": [
  {
   "cell_type": "markdown",
   "id": "73bd968b-d970-4a05-94ef-4e7abf990827",
   "metadata": {},
   "source": [
    "Chapter 15\n",
    "\n",
    "# 函数极限\n",
    "Book_3《数学要素》 | 鸢尾花书：从加减乘除到机器学习 (第二版)"
   ]
  },
  {
   "cell_type": "markdown",
   "id": "37e36360-19e1-435f-b47f-16efcaa73d2c",
   "metadata": {},
   "source": [
    "这段代码使用表达式 $f(x) = \\left(1 + \\frac{1}{x}\\right)^x$ 来近似数学常数 $e$，并通过数值计算和图像展示，分析其在 $x \\to \\infty$ 时的收敛行为。具体而言，代码定义了 $f(x)$ 这一逼近公式的表达式，然后计算其在$x$从$0.1$到$1000$之间的数值。函数 $f(x)$ 的行为基于极限：\n",
    "\n",
    "$$\n",
    "\\lim_{x \\to \\infty} \\left(1 + \\frac{1}{x}\\right)^x = e\n",
    "$$\n",
    "\n",
    "其中，$e$是自然常数，近似值为$2.71828$。代码通过符号计算库 SymPy 的 `limit` 函数，计算 $f(x)$ 在 $x \\to \\infty$ 时的极限值，结果应为$e$。接着，代码创建一个数值数组$x$，在每个$x$值上计算$f(x)$，将其结果存储为数组，用于后续的绘图。\n",
    "\n",
    "代码使用`Matplotlib`绘制$f(x)$随$x$变化的曲线。通过对数刻度的横轴，观察 $f(x)$ 随着$x$增大逐步趋近于$e$。图中添加了红色水平线，表示极限值 $e$，以便清晰地看到 $f(x)$ 的逼近效果。通过此图，可以直观地看到，随着$x$的增大，$f(x)$曲线逐渐趋于稳定，与$e$的值越来越接近，表明表达式确实可以作为$e$的逼近公式。"
   ]
  },
  {
   "cell_type": "markdown",
   "id": "b5f21970-2d6d-41fc-a964-4b20feecd122",
   "metadata": {},
   "source": [
    "## 导入包"
   ]
  },
  {
   "cell_type": "code",
   "execution_count": 1,
   "id": "3e250316-2950-4dc1-b154-cfac107f1c7e",
   "metadata": {},
   "outputs": [],
   "source": [
    "from sympy import latex, lambdify, limit, log, oo  # 导入符号计算库SymPy中的latex格式化、数值化、极限、对数和无穷大符号\n",
    "from sympy.abc import x  # 导入符号变量x\n",
    "import numpy as np\n",
    "from matplotlib import pyplot as plt  # 导入NumPy和Matplotlib用于数值计算和绘图"
   ]
  },
  {
   "cell_type": "markdown",
   "id": "4496ae95-a5d0-4e1e-bff5-67b3d27b05b0",
   "metadata": {},
   "source": [
    "## 定义函数 f(x)"
   ]
  },
  {
   "cell_type": "code",
   "execution_count": 2,
   "id": "5c74c6ed-5622-4a6d-8022-d40c59b64550",
   "metadata": {},
   "outputs": [
    {
     "data": {
      "text/latex": [
       "$\\displaystyle \\left(1 + \\frac{1}{x}\\right)^{x}$"
      ],
      "text/plain": [
       "(1 + 1/x)**x"
      ]
     },
     "execution_count": 2,
     "metadata": {},
     "output_type": "execute_result"
    }
   ],
   "source": [
    "f_x = (1 + 1/x)**x  # 定义指数表达式，近似e的计算公式\n",
    "f_x"
   ]
  },
  {
   "cell_type": "markdown",
   "id": "3c77918c-faae-463d-840d-fc0fd2a58d43",
   "metadata": {},
   "source": [
    "## 创建x的值域"
   ]
  },
  {
   "cell_type": "code",
   "execution_count": 3,
   "id": "44b51d1e-8e0d-48ec-bf39-b5ca9ed5ac74",
   "metadata": {},
   "outputs": [],
   "source": [
    "x_array = np.linspace(0.1, 1000, 1000)  # 定义x的数组，从0.1到1000，生成1000个值"
   ]
  },
  {
   "cell_type": "markdown",
   "id": "2b11488a-518f-410f-b625-e10d23a0c1af",
   "metadata": {},
   "source": [
    "## 将符号表达式转换为数值函数"
   ]
  },
  {
   "cell_type": "code",
   "execution_count": 4,
   "id": "c61aa869-c2c3-4b9e-a4fd-b6191141754b",
   "metadata": {},
   "outputs": [],
   "source": [
    "f_x_fcn = lambdify(x, f_x)  # 将f(x)转换为Python数值函数\n",
    "f_x_array = f_x_fcn(x_array)  # 计算每个x对应的f(x)值"
   ]
  },
  {
   "cell_type": "markdown",
   "id": "91c5ca93-92be-4540-bb4a-4a78c11002cd",
   "metadata": {},
   "source": [
    "## 计算x趋于无穷大时f(x)的极限"
   ]
  },
  {
   "cell_type": "code",
   "execution_count": 7,
   "id": "5f9431ff-ee6c-45a8-b1fe-38a2f1633788",
   "metadata": {},
   "outputs": [
    {
     "data": {
      "text/latex": [
       "$\\displaystyle e$"
      ],
      "text/plain": [
       "E"
      ]
     },
     "execution_count": 7,
     "metadata": {},
     "output_type": "execute_result"
    }
   ],
   "source": [
    "f_x_oo_limit = limit(f_x, x, oo)  # 计算f(x)在x趋向于无穷时的极限\n",
    "f_x_oo_limit"
   ]
  },
  {
   "cell_type": "markdown",
   "id": "aef44d27-8174-4ac8-8adf-42ffd1bcce5d",
   "metadata": {},
   "source": [
    "## 可视化结果"
   ]
  },
  {
   "cell_type": "code",
   "execution_count": 6,
   "id": "3b86fd71-f0ea-470b-b5a8-d4b352455de5",
   "metadata": {},
   "outputs": [
    {
     "data": {
      "image/png": "[encoded data removed]",
      "text/plain": [
       "<Figure size 640x480 with 1 Axes>"
      ]
     },
     "metadata": {},
     "output_type": "display_data"
    }
   ],
   "source": [
    "fig, ax = plt.subplots()  # 创建绘图窗口\n",
    "\n",
    "ax.plot(x_array, f_x_array, linewidth=1.5)  # 绘制f(x)的曲线\n",
    "ax.axhline(y=f_x_oo_limit, color='r')  # 添加水平线表示极限值\n",
    "\n",
    "ax.grid(linestyle='--', linewidth=0.25, color=[0.5, 0.5, 0.5])  # 添加网格线\n",
    "ax.set_xlim(x_array.min(), x_array.max())  # 设置x轴范围\n",
    "plt.xscale(\"log\")  # 设置x轴为对数尺度\n",
    "ax.set_xlabel(r'$\\it{x}$', fontname='Times New Roman')  # 设置x轴标签\n",
    "ax.set_ylabel(r'$%s$' % latex(f_x), fontname='Times New Roman')  # 使用LaTeX格式化y轴标签为f(x)的表达式\n",
    "\n",
    "plt.grid(True, which=\"both\", ls=\"-\")  # 添加网格线"
   ]
  },
  {
   "cell_type": "code",
   "execution_count": null,
   "id": "85a80909-2aac-49ed-bb7a-f8cc6b80ee7d",
   "metadata": {},
   "outputs": [],
   "source": []
  },
  {
   "cell_type": "code",
   "execution_count": null,
   "id": "ecd322f4-f919-4be2-adc3-69d28ef25e69",
   "metadata": {},
   "outputs": [],
   "source": []
  }
 ],
 "metadata": {
  "kernelspec": {
   "display_name": "Python 3 (ipykernel)",
   "language": "python",
   "name": "python3"
  },
  "language_info": {
   "codemirror_mode": {
    "name": "ipython",
    "version": 3
   },
   "file_extension": ".py",
   "mimetype": "text/x-python",
   "name": "python",
   "nbconvert_exporter": "python",
   "pygments_lexer": "ipython3",
   "version": "3.12.7"
  }
 },
 "nbformat": 4,
 "nbformat_minor": 5
}
