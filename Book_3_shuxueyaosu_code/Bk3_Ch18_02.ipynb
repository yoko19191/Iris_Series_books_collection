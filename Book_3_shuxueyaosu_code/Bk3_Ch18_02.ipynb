{
 "cells": [
  {
   "cell_type": "markdown",
   "id": "73bd968b-d970-4a05-94ef-4e7abf990827",
   "metadata": {},
   "source": [
    "Chapter 18\n",
    "\n",
    "# 高斯函数积分\n",
    "Book_3《数学要素》 | 鸢尾花书：从加减乘除到机器学习 (第二版)"
   ]
  },
  {
   "cell_type": "markdown",
   "id": "78b5ee81-df59-40eb-8dd6-8d14249100da",
   "metadata": {},
   "source": [
    "这段代码的核心在于计算和可视化函数\n",
    "\n",
    "$$\n",
    "f(x) = e^{-x^2}\n",
    "$$\n",
    "\n",
    "在不同区间上的积分，展示了其定积分和累积积分的特性。\n",
    "\n",
    "1. **定积分计算**：代码首先计算 $f(x)$ 在有限区间 $[a, b]$ 上的定积分，给出在该区间内 $f(x)$ 与 $x$ 轴之间的面积。定积分通过两个方式计算，一是利用不定积分的结果 $F(x)$，即 $f(x)$ 的原函数，在 $a$ 和 $b$ 上求值差：\n",
    "\n",
    "   $$\n",
    "   \\int_a^b f(x) \\, dx = F(b) - F(a)\n",
    "   $$\n",
    "\n",
    "   二是直接调用定积分函数，并将此定积分区域用颜色填充在图上以直观展示。\n",
    "\n",
    "2. **累积积分计算**：代码进一步计算 $f(x)$ 从负无穷到变量 $t$ 的累积积分，即：\n",
    "\n",
    "   $$\n",
    "   F(t) = \\int_{-\\infty}^t f(x) \\, dx\n",
    "   $$\n",
    "\n",
    "   这表示函数从 $x = -\\infty$ 到 $x = t$ 的积分面积，随着 $t$ 的增大，$F(t)$ 逐渐积累更多的面积，趋于稳定。代码通过在不同 $t$ 值上的计算，绘制出累积积分曲线，展示 $F(t)$ 随 $t$ 的变化趋势。\n",
    "\n",
    "这种可视化不仅揭示了 $f(x)$ 的定积分在特定区间上的面积，还展示了累积积分如何随着 $t$ 的增大而逐渐趋近极限。通过这些积分的计算，代码有效地呈现了高斯函数在积分中的行为特点。"
   ]
  },
  {
   "cell_type": "markdown",
   "id": "8a54901f-e462-45df-bcd2-aec0bec579c3",
   "metadata": {},
   "source": [
    "## 导入包"
   ]
  },
  {
   "cell_type": "code",
   "execution_count": 1,
   "id": "7354dcf1-c2f6-4196-b959-858de539f0fa",
   "metadata": {},
   "outputs": [],
   "source": [
    "import numpy as np\n",
    "from sympy import *  # 导入符号计算库\n",
    "from matplotlib import pyplot as plt  # 导入绘图库"
   ]
  },
  {
   "cell_type": "code",
   "execution_count": 2,
   "id": "d10ffdb2-d42a-446a-ac5d-a2503e2f4a26",
   "metadata": {},
   "outputs": [],
   "source": [
    "x = Symbol('x')  # 定义符号变量 x"
   ]
  },
  {
   "cell_type": "markdown",
   "id": "495859bf-5603-4301-9737-a5677f79ea46",
   "metadata": {},
   "source": [
    "## 定义函数和积分"
   ]
  },
  {
   "cell_type": "code",
   "execution_count": 3,
   "id": "d4d77f14-87d0-45e9-9f24-c4594255ad96",
   "metadata": {},
   "outputs": [
    {
     "data": {
      "text/latex": [
       "$\\displaystyle e^{- x^{2}}$"
      ],
      "text/plain": [
       "exp(-x**2)"
      ]
     },
     "execution_count": 3,
     "metadata": {},
     "output_type": "execute_result"
    }
   ],
   "source": [
    "f_x = exp(-x**2)  # 定义函数 f(x) = exp(-x^2)\n",
    "f_x"
   ]
  },
  {
   "cell_type": "code",
   "execution_count": 4,
   "id": "df1d918d-eeeb-42e9-8ca2-1358f7bf603a",
   "metadata": {},
   "outputs": [
    {
     "data": {
      "text/latex": [
       "$\\displaystyle \\sqrt{\\pi}$"
      ],
      "text/plain": [
       "sqrt(pi)"
      ]
     },
     "execution_count": 4,
     "metadata": {},
     "output_type": "execute_result"
    }
   ],
   "source": [
    "integrate(f_x, (x, -oo, oo))  # 计算 f(x) 在 (-∞, ∞) 上的定积分"
   ]
  },
  {
   "cell_type": "code",
   "execution_count": 5,
   "id": "738a9053-5112-4ada-bb15-ad569838e31a",
   "metadata": {},
   "outputs": [
    {
     "data": {
      "text/latex": [
       "$\\displaystyle \\sqrt{2} \\sqrt{\\pi}$"
      ],
      "text/plain": [
       "sqrt(2)*sqrt(pi)"
      ]
     },
     "execution_count": 5,
     "metadata": {},
     "output_type": "execute_result"
    }
   ],
   "source": [
    "integrate(exp(-x**2 / 2), (x, -oo, oo))  # 计算 exp(-x^2 / 2) 在 (-∞, ∞) 上的定积分"
   ]
  },
  {
   "cell_type": "code",
   "execution_count": 6,
   "id": "ab18cef9-2948-43be-96b4-6abba277da11",
   "metadata": {},
   "outputs": [],
   "source": [
    "f_x_fcn = lambdify([x], f_x)  # 将符号函数转换为数值函数"
   ]
  },
  {
   "cell_type": "code",
   "execution_count": 7,
   "id": "ac77f169-71d6-4e87-a524-8ecb2f9437d7",
   "metadata": {},
   "outputs": [
    {
     "data": {
      "text/latex": [
       "$\\displaystyle \\frac{\\sqrt{\\pi} \\operatorname{erf}{\\left(x \\right)}}{2}$"
      ],
      "text/plain": [
       "sqrt(pi)*erf(x)/2"
      ]
     },
     "execution_count": 7,
     "metadata": {},
     "output_type": "execute_result"
    }
   ],
   "source": [
    "integral_f_x = integrate(f_x, x)  # 计算 f(x) 的不定积分\n",
    "integral_f_x"
   ]
  },
  {
   "cell_type": "code",
   "execution_count": 8,
   "id": "7bd7da97-b293-4598-91d6-fc183e84d528",
   "metadata": {},
   "outputs": [],
   "source": [
    "integral_f_x_fcn = lambdify([x], integral_f_x)  # 将不定积分转换为数值函数"
   ]
  },
  {
   "cell_type": "code",
   "execution_count": 9,
   "id": "94ab502a-70fd-42b0-b39f-1579cd438a4c",
   "metadata": {},
   "outputs": [],
   "source": [
    "a = -0.5  # 积分下限\n",
    "b = 1  # 积分上限"
   ]
  },
  {
   "cell_type": "code",
   "execution_count": 10,
   "id": "bc3c76d3-84b9-4a57-a53c-e0caac86bfc2",
   "metadata": {},
   "outputs": [],
   "source": [
    "num = 201  # 网格数量\n",
    "x_array = np.linspace(-3, 3, num)  # x 的取值范围\n",
    "x_a_b_array = np.linspace(a, b, num)  # 积分区间内的 x 取值范围"
   ]
  },
  {
   "cell_type": "code",
   "execution_count": 11,
   "id": "fce900d9-33e1-4b57-b094-bafb359fe0c8",
   "metadata": {},
   "outputs": [],
   "source": [
    "y_array = f_x_fcn(x_array)  # 计算函数在 x_array 上的值\n",
    "y_a_b_array = f_x_fcn(x_a_b_array)  # 计算函数在积分区间 [a, b] 内的值"
   ]
  },
  {
   "cell_type": "markdown",
   "id": "c98fb2c3-47d7-4b0f-b71d-8f018e79d43e",
   "metadata": {},
   "source": [
    "## 计算定积分值"
   ]
  },
  {
   "cell_type": "code",
   "execution_count": 12,
   "id": "078cbba0-a41f-410a-80c9-c1562baac48d",
   "metadata": {},
   "outputs": [
    {
     "data": {
      "text/plain": [
       "1.2081051392252193"
      ]
     },
     "execution_count": 12,
     "metadata": {},
     "output_type": "execute_result"
    }
   ],
   "source": [
    "integral_a_b = integral_f_x_fcn(b) - integral_f_x_fcn(a)  # 使用不定积分计算积分值\n",
    "integral_a_b"
   ]
  },
  {
   "cell_type": "code",
   "execution_count": 13,
   "id": "8636168d-cc0f-454e-b103-1520b9a9a7c8",
   "metadata": {},
   "outputs": [
    {
     "data": {
      "text/latex": [
       "$\\displaystyle 0.260249938906523 \\sqrt{\\pi} + \\frac{\\sqrt{\\pi} \\operatorname{erf}{\\left(1 \\right)}}{2}$"
      ],
      "text/plain": [
       "0.260249938906523*sqrt(pi) + sqrt(pi)*erf(1)/2"
      ]
     },
     "execution_count": 13,
     "metadata": {},
     "output_type": "execute_result"
    }
   ],
   "source": [
    "integral_a_b_v2 = integrate(f_x, (x, a, b))  # 使用定积分公式计算积分值\n",
    "integral_a_b_v2"
   ]
  },
  {
   "cell_type": "code",
   "execution_count": 14,
   "id": "1b1364ff-39be-4e25-bf06-6bf8b24bc013",
   "metadata": {},
   "outputs": [
    {
     "data": {
      "text/plain": [
       "1.2081051392252196"
      ]
     },
     "execution_count": 14,
     "metadata": {},
     "output_type": "execute_result"
    }
   ],
   "source": [
    "integral_a_b_v2 = float(integral_a_b_v2)  # 将结果转换为浮点数\n",
    "integral_a_b_v2"
   ]
  },
  {
   "cell_type": "markdown",
   "id": "8e049364-cd2b-46ff-8d78-4dec670afc2b",
   "metadata": {},
   "source": [
    "## 绘制函数和积分区间"
   ]
  },
  {
   "cell_type": "code",
   "execution_count": 15,
   "id": "731e3216-00bf-449a-81a7-e3c2cab2e882",
   "metadata": {},
   "outputs": [
    {
     "data": {
      "text/plain": [
       "Text(0.5, 1.0, '$\\\\int_a^b  f(x) = 1.208$')"
      ]
     },
     "execution_count": 15,
     "metadata": {},
     "output_type": "execute_result"
    },
    {
     "data": {
      "image/png": "[encoded data removed]",
      "text/plain": [
       "<Figure size 640x480 with 1 Axes>"
      ]
     },
     "metadata": {},
     "output_type": "display_data"
    }
   ],
   "source": [
    "fig, ax = plt.subplots()\n",
    "ax.plot(x_array, y_array, 'b')  # 绘制函数曲线\n",
    "ax.axvline(x=a, color='r', linestyle='-')  # 绘制积分下限 a\n",
    "ax.axvline(x=b, color='r', linestyle='-')  # 绘制积分上限 b\n",
    "ax.axhline(y=0, color='k', linestyle='-')  # 添加 y=0 参考线\n",
    "\n",
    "ax.fill_between(x_a_b_array,\n",
    "                y_a_b_array, \n",
    "                edgecolor='none', \n",
    "                facecolor='#DBEEF3')  # 在积分区间 [a, b] 内填充颜色\n",
    "\n",
    "ax.set_xlim(x_array.min(), x_array.max())  # 设置 x 轴范围\n",
    "ax.set_ylim(np.floor(y_array.min()), \n",
    "            np.ceil(y_array.max()))  # 设置 y 轴范围\n",
    "plt.gca().spines['right'].set_visible(False)  # 隐藏右边框\n",
    "plt.gca().spines['top'].set_visible(False)  # 隐藏上边框\n",
    "ax.set_xlabel('x')  # 设置 x 轴标签\n",
    "ax.set_ylabel('f(x)')  # 设置 y 轴标签\n",
    "ax.set_title(r'$\\int_a^b  f(x) = %0.3f$' % integral_a_b)  # 在标题中显示积分结果"
   ]
  },
  {
   "cell_type": "markdown",
   "id": "6ef738ba-1046-4572-a7ec-80884a59c129",
   "metadata": {},
   "source": [
    "## 绘制累积积分函数"
   ]
  },
  {
   "cell_type": "code",
   "execution_count": 16,
   "id": "520a859f-28f2-4881-b4c6-45e2f2bb3554",
   "metadata": {},
   "outputs": [],
   "source": [
    "t = Symbol('t')  # 定义符号变量 t"
   ]
  },
  {
   "cell_type": "code",
   "execution_count": 17,
   "id": "2653016d-823b-4e45-971e-0ebdafa20209",
   "metadata": {},
   "outputs": [
    {
     "data": {
      "text/latex": [
       "$\\displaystyle \\frac{\\sqrt{\\pi} \\operatorname{erf}{\\left(t \\right)}}{2} + \\frac{\\sqrt{\\pi}}{2}$"
      ],
      "text/plain": [
       "sqrt(pi)*erf(t)/2 + sqrt(pi)/2"
      ]
     },
     "execution_count": 17,
     "metadata": {},
     "output_type": "execute_result"
    }
   ],
   "source": [
    "integral_f_x_oo_t = integrate(f_x, (x, -oo, t))  # 计算从负无穷到 t 的累积积分\n",
    "integral_f_x_oo_t"
   ]
  },
  {
   "cell_type": "code",
   "execution_count": 18,
   "id": "e19d09bb-133f-47a7-bdd7-57587ccbc5d7",
   "metadata": {},
   "outputs": [],
   "source": [
    "integral_f_x_oo_t_fcn = lambdify([t], integral_f_x_oo_t)  # 将累积积分转换为数值函数"
   ]
  },
  {
   "cell_type": "code",
   "execution_count": 19,
   "id": "6faee82c-50bf-45f5-97ed-828a13aedd0e",
   "metadata": {},
   "outputs": [],
   "source": [
    "t_array = np.linspace(-3, 3, num)  # 定义 t 的取值范围"
   ]
  },
  {
   "cell_type": "code",
   "execution_count": 22,
   "id": "a72afb19-e35a-4e4d-8f96-686a7097254d",
   "metadata": {},
   "outputs": [],
   "source": [
    "integral_f_x_oo_t_array = integral_f_x_oo_t_fcn(t_array)  # 计算累积积分函数在 t_array 上的值\n",
    "# integral_f_x_oo_t_array"
   ]
  },
  {
   "cell_type": "code",
   "execution_count": 21,
   "id": "f38a2180-51d2-4bde-8134-8b9cc5cacfed",
   "metadata": {},
   "outputs": [
    {
     "data": {
      "image/png": "[encoded data removed]",
      "text/plain": [
       "<Figure size 640x480 with 1 Axes>"
      ]
     },
     "metadata": {},
     "output_type": "display_data"
    }
   ],
   "source": [
    "fig, ax = plt.subplots()\n",
    "ax.plot(t_array, integral_f_x_oo_t_array, 'b')  # 绘制累积积分函数曲线\n",
    "ax.axvline(x=a, color='r', linestyle='-')  # 标记积分下限 a\n",
    "ax.axvline(x=b, color='r', linestyle='-')  # 标记积分上限 b\n",
    "\n",
    "ax.axhline(y=integral_f_x_oo_t_fcn(a), \n",
    "           color='r', linestyle='-')  # 绘制积分值在 a 处的水平线\n",
    "\n",
    "ax.axhline(y=integral_f_x_oo_t_fcn(b), \n",
    "           color='r', linestyle='-')  # 绘制积分值在 b 处的水平线\n",
    "\n",
    "ax.set_xlim(t_array.min(), t_array.max())  # 设置 t 轴范围\n",
    "ax.set_ylim(np.floor(integral_f_x_oo_t_array.min()), \n",
    "            np.ceil(integral_f_x_oo_t_array.max()))  # 设置 y 轴范围\n",
    "plt.gca().spines['right'].set_visible(False)  # 隐藏右边框\n",
    "plt.gca().spines['top'].set_visible(False)  # 隐藏上边框\n",
    "ax.set_xlabel('x')  # 设置 x 轴标签\n",
    "ax.set_ylabel('Integral, F(x)')  # 设置 y 轴标签\n",
    "ax.grid(linestyle='--', linewidth=0.25, color=[0.75, 0.75, 0.75])  # 添加网格"
   ]
  }
 ],
 "metadata": {
  "kernelspec": {
   "display_name": "Python 3 (ipykernel)",
   "language": "python",
   "name": "python3"
  },
  "language_info": {
   "codemirror_mode": {
    "name": "ipython",
    "version": 3
   },
   "file_extension": ".py",
   "mimetype": "text/x-python",
   "name": "python",
   "nbconvert_exporter": "python",
   "pygments_lexer": "ipython3",
   "version": "3.12.7"
  }
 },
 "nbformat": 4,
 "nbformat_minor": 5
}
