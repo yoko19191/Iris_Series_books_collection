{
 "cells": [
  {
   "cell_type": "markdown",
   "id": "59ccbd2a-2a12-4307-bc53-e0f543bc074f",
   "metadata": {},
   "source": [
    "Chapter 17\n",
    "\n",
    "# 割线法\n",
    "Book_3《数学要素》 | 鸢尾花书：从加减乘除到机器学习 (第二版)"
   ]
  },
  {
   "cell_type": "markdown",
   "id": "6edd8b3d-661d-4fea-8c1f-65a55733f19a",
   "metadata": {},
   "source": [
    "这段代码实现了**割线法**求解非线性方程的根，并通过可视化展示了割线法的迭代过程和收敛性。以下从数学角度详细描述每部分代码的功能及其背后的数学原理。\n",
    "\n",
    "---\n",
    "\n",
    "### 代码描述及数学分析\n",
    "\n",
    "#### 1. **目标函数定义**\n",
    "目标函数被定义为：\n",
    "$$\n",
    "f(x) = 2x^2 - 8x + 1\n",
    "$$\n",
    "这是一个二次多项式，其根可以通过求解 $f(x) = 0$ 得到。通过 `sympy` 定义符号表达式，并使用 `lambdify` 转换为可执行的 Python 函数，以支持后续数值计算。\n",
    "\n",
    "#### 2. **割线法求根**\n",
    "割线法是一种基于线性插值的迭代方法，用于数值求解非线性方程的根。它的基本思想是通过两个初始点 $(x_0, f(x_0))$ 和 $(x_1, f(x_1))$ 构造割线，割线与 $x$ 轴的交点作为下一次迭代的点。其迭代公式为：\n",
    "$$\n",
    "x_{n+1} = x_n - f(x_n) \\cdot \\frac{x_n - x_{n-1}}{f(x_n) - f(x_{n-1})}\n",
    "$$\n",
    "此公式的推导基于线性插值，割线方程为：\n",
    "$$\n",
    "y = \\frac{f(x_n) - f(x_{n-1})}{x_n - x_{n-1}} (x - x_n) + f(x_n)\n",
    "$$\n",
    "令 $y=0$，解得：\n",
    "$$\n",
    "x = x_n - f(x_n) \\cdot \\frac{x_n - x_{n-1}}{f(x_n) - f(x_{n-1})}\n",
    "$$\n",
    "\n",
    "#### 3. **迭代终止条件**\n",
    "割线法在以下两种情况下停止：\n",
    "1. 当前迭代值 $x_{n+1}$ 与前一次迭代值 $x_n$ 的差值小于给定容差 $tol$：\n",
    "   $$\n",
    "   |x_{n+1} - x_n| < tol\n",
    "   $$\n",
    "2. 达到最大迭代次数 $max\\_iter$。\n",
    "\n",
    "#### 4. **割线法的实现**\n",
    "在代码中，`secant_method` 函数完成割线法的实现：\n",
    "- 初始点 $x_0$ 和 $x_1$ 由用户指定。\n",
    "- 计算割线的斜率 $\\frac{f(x_n) - f(x_{n-1})}{x_n - x_{n-1}}$，并利用迭代公式更新 $x_{n+1}$。\n",
    "- 检查收敛条件 $|x_{n+1} - x_n| < tol$，若满足则返回近似根、迭代次数和所有迭代点。\n",
    "\n",
    "特殊情况下，若 $f(x_n) \\approx f(x_{n-1})$，斜率接近零会导致除零错误，这时算法中止。\n",
    "\n",
    "#### 5. **割线法的可视化**\n",
    "函数 `visualize_secant` 使用 `matplotlib` 可视化割线法的迭代过程，展示几何上的根逼近过程：\n",
    "1. 绘制目标函数 $f(x)$ 曲线和横轴 $y=0$。\n",
    "2. 每次迭代绘制割线：\n",
    "   - 割线连接 $(x_n, f(x_n))$ 和 $(x_{n-1}, f(x_{n-1}))$；\n",
    "   - 割线与横轴交点标记为新的迭代点。\n",
    "3. 可视化每次迭代的点 $(x_n, f(x_n))$ 及其对应的函数值。\n",
    "\n",
    "#### 6. **收敛性可视化**\n",
    "函数 `visualize_convergence` 绘制迭代点 $x_n$ 随迭代次数的变化图：\n",
    "- 横轴为迭代次数；\n",
    "- 纵轴为迭代点 $x_n$；\n",
    "- 图形显示了割线法的收敛轨迹。\n",
    "\n",
    "#### 7. **测试部分**\n",
    "选择初始点 $x_0 = -3$ 和 $x_1 = -2$，调用 `secant_method`：\n",
    "- 若 $f(x_0)$ 和 $f(x_1)$ 的差值过小，算法中止；\n",
    "- 返回最终求得的根、迭代次数以及所有迭代点；\n",
    "- 使用可视化函数展示割线法的迭代过程和收敛性。\n",
    "\n",
    "---\n",
    "\n",
    "### 数学背景总结\n",
    "\n",
    "#### 优势与收敛性\n",
    "1. **割线法的效率**：\n",
    "   割线法相比于牛顿法，不需要计算导数 $f'(x)$，是一种无导数优化方法，特别适用于目标函数复杂且导数难以计算的场景。\n",
    "   \n",
    "2. **收敛速度**：\n",
    "   割线法的收敛速度为超线性（约 $1.618$，即黄金分割率），介于线性和二次收敛之间。相比牛顿法（具有二次收敛性），割线法对初始点的要求较低。\n",
    "\n",
    "#### 几何直观\n",
    "割线法的几何意义是使用割线代替切线，逐步逼近目标根。从初始点开始，割线的斜率决定了更新步长，随着迭代的进行，割线的端点逐步收敛到根的位置。\n",
    "\n",
    "通过该代码的实现和可视化展示，可以清晰理解割线法的工作原理及其几何直观性，是非线性方程数值求解的经典案例。"
   ]
  },
  {
   "cell_type": "markdown",
   "id": "31e63bc3-6acb-4f6d-a5fb-891b9c0de626",
   "metadata": {},
   "source": [
    "## 导入包"
   ]
  },
  {
   "cell_type": "code",
   "execution_count": 1,
   "id": "4943d65d-9dab-4f5c-9ab4-84f62efe4913",
   "metadata": {},
   "outputs": [],
   "source": [
    "import numpy as np\n",
    "import matplotlib.pyplot as plt\n",
    "from sympy import symbols, lambdify"
   ]
  },
  {
   "cell_type": "code",
   "execution_count": 2,
   "id": "df55dea3-4db1-4fbf-8fa6-1a496aa598a2",
   "metadata": {},
   "outputs": [],
   "source": [
    "p = plt.rcParams  # 获取默认绘图参数\n",
    "p[\"font.sans-serif\"] = [\"Roboto\"]  # 设置无衬线字体为 Roboto\n",
    "p[\"font.weight\"] = \"light\"  # 设置字体粗细为 light\n",
    "p[\"ytick.minor.visible\"] = True  # 显示 y 轴的小刻度\n",
    "p[\"xtick.minor.visible\"] = True  # 显示 x 轴的小刻度\n",
    "p[\"axes.grid\"] = True  # 启用坐标轴网格\n",
    "p[\"grid.color\"] = \"0.5\"  # 设置网格颜色为灰色\n",
    "p[\"grid.linewidth\"] = 0.5  # 设置网格线宽度"
   ]
  },
  {
   "cell_type": "markdown",
   "id": "4953a234-56f0-4c0c-bf38-7d5af2529b68",
   "metadata": {},
   "source": [
    "## 使用 sympy 定义目标函数"
   ]
  },
  {
   "cell_type": "code",
   "execution_count": 3,
   "id": "9f1285ae-5d82-42ab-a922-9a0bce035df6",
   "metadata": {},
   "outputs": [
    {
     "data": {
      "text/latex": [
       "$\\displaystyle 2 x^{2} - 8 x + 1$"
      ],
      "text/plain": [
       "2*x**2 - 8*x + 1"
      ]
     },
     "execution_count": 3,
     "metadata": {},
     "output_type": "execute_result"
    }
   ],
   "source": [
    "x = symbols('x')\n",
    "func = 2*x**2 - 8*x + 1\n",
    "func"
   ]
  },
  {
   "cell_type": "code",
   "execution_count": 4,
   "id": "4b40d58b-6a19-4103-8cda-3205d3dc5531",
   "metadata": {},
   "outputs": [],
   "source": [
    "# 将函数转换为可执行的 Python 函数\n",
    "f = lambdify(x, func, 'numpy')"
   ]
  },
  {
   "cell_type": "markdown",
   "id": "d876b83f-e8b1-4b29-8619-462f251d7a81",
   "metadata": {},
   "source": [
    "## 割线法求根函数"
   ]
  },
  {
   "cell_type": "code",
   "execution_count": 5,
   "id": "91d0effa-808d-43e6-84b0-10af73853e44",
   "metadata": {},
   "outputs": [],
   "source": [
    "def secant_method(f, x0, x1, tol=1e-6, max_iter=100):\n",
    "    iter_count = 0\n",
    "    x_vals = [x0, x1]  # 记录迭代点以便可视化\n",
    "\n",
    "    while iter_count < max_iter:\n",
    "        f_x0 = f(x0)\n",
    "        f_x1 = f(x1)\n",
    "\n",
    "        if abs(f_x1 - f_x0) < 1e-10:  # 避免除零\n",
    "            raise ValueError(\"两点的函数值非常接近，割线法可能无法收敛。\")\n",
    "\n",
    "        # 割线法迭代公式\n",
    "        x2 = x1 - f_x1 * (x1 - x0) / (f_x1 - f_x0)\n",
    "        x_vals.append(x2)\n",
    "\n",
    "        if abs(x2 - x1) < tol:  # 收敛条件\n",
    "            return x2, iter_count + 1, x_vals\n",
    "\n",
    "        # 更新点\n",
    "        x0, x1 = x1, x2\n",
    "        iter_count += 1\n",
    "\n",
    "    raise ValueError(\"迭代未能在最大步数内收敛。\")"
   ]
  },
  {
   "cell_type": "markdown",
   "id": "e0163112-1857-4578-a914-b6af652dc6fa",
   "metadata": {},
   "source": [
    "## 可视化割线法过程"
   ]
  },
  {
   "cell_type": "code",
   "execution_count": 6,
   "id": "54d56515-e4ae-4275-998d-791709beac24",
   "metadata": {},
   "outputs": [],
   "source": [
    "def visualize_secant(f, x_vals):\n",
    "    x = np.linspace(-3, 3, 500)\n",
    "    y = f(x)\n",
    "\n",
    "    plt.figure(figsize=(6, 6))\n",
    "    plt.plot(x, y, color=\"blue\")\n",
    "    plt.axhline(0, color=\"black\", linewidth=0.8, linestyle=\"--\")\n",
    "\n",
    "    # 绘制割线法迭代过程\n",
    "    for i in range(len(x_vals) - 2):\n",
    "        x0 = x_vals[i]\n",
    "        x1 = x_vals[i + 1]\n",
    "        x2 = x_vals[i + 2]\n",
    "\n",
    "        # 绘制割线\n",
    "        plt.plot([x0, x1], [f(x0), f(x1)], color=\"k\", linestyle=\"-\", lw = '0.2')\n",
    "        plt.plot([x1, x2], [f(x1), 0], color=\"k\", linestyle=\"-\", lw = '0.2')\n",
    "        \n",
    "        # 绘制割线和横轴的交点\n",
    "        plt.scatter(x2, 0, color=\"purple\", marker = 'x')\n",
    "        \n",
    "        # 绘制交点的竖直线到函数曲线\n",
    "        plt.plot([x2, x2], [0, f(x2)], color=\"orange\", linestyle=\"--\")\n",
    "\n",
    "        # 标记点\n",
    "        plt.scatter([x0, x1], [f(x0), f(x1)], color=\"red\", marker = 'x')\n",
    "        plt.scatter(x2, f(x2), color=\"purple\", marker = 'x')\n",
    "\n",
    "    plt.title(\"Secant Method Visualization\")\n",
    "    plt.xlabel(\"x\")\n",
    "    plt.ylabel(\"f(x)\")\n",
    "    # plt.legend()\n",
    "    plt.grid(True)\n",
    "    plt.xlim(-3,3)\n",
    "    # plt.savefig('数值求根_割线法.svg')\n",
    "    plt.show()"
   ]
  },
  {
   "cell_type": "code",
   "execution_count": 7,
   "id": "f52769ab-01d4-4533-badf-76c0db3262e1",
   "metadata": {},
   "outputs": [],
   "source": [
    "def visualize_convergence(x_vals):\n",
    "\n",
    "    plt.figure(figsize=(6, 3))\n",
    "    plt.plot(np.arange(len(x_vals)),x_vals, marker = 'x')\n",
    "    plt.xlim(0,len(x_vals) - 1)\n",
    "    plt.xlabel('Iteration')\n",
    "    plt.ylabel('Approximated root')\n",
    "    # plt.savefig('数值求根_割线法_收敛.svg')\n",
    "    "
   ]
  },
  {
   "cell_type": "markdown",
   "id": "1bf98d68-a917-4fc9-aa42-c04b3d9c9247",
   "metadata": {},
   "source": [
    "## 测试"
   ]
  },
  {
   "cell_type": "code",
   "execution_count": 8,
   "id": "38162dc1-156a-4894-bb5e-c6b3142638a0",
   "metadata": {},
   "outputs": [
    {
     "name": "stdout",
     "output_type": "stream",
     "text": [
      "求得根的近似值: 0.12917130661295306\n",
      "迭代次数: 7\n"
     ]
    },
    {
     "data": {
      "image/png": "[encoded data removed]",
      "text/plain": [
       "<Figure size 600x600 with 1 Axes>"
      ]
     },
     "metadata": {},
     "output_type": "display_data"
    },
    {
     "data": {
      "image/png": "[encoded data removed]",
      "text/plain": [
       "<Figure size 600x300 with 1 Axes>"
      ]
     },
     "metadata": {},
     "output_type": "display_data"
    }
   ],
   "source": [
    "try:\n",
    "    root, iterations, x_vals = secant_method(f, x0=-3, x1=-2)\n",
    "    print(f\"求得根的近似值: {root}\")\n",
    "    print(f\"迭代次数: {iterations}\")\n",
    "\n",
    "    # 可视化\n",
    "    visualize_secant(f, x_vals)\n",
    "    visualize_convergence(x_vals)\n",
    "\n",
    "except ValueError as e:\n",
    "    print(e)"
   ]
  }
 ],
 "metadata": {
  "kernelspec": {
   "display_name": "Python 3 (ipykernel)",
   "language": "python",
   "name": "python3"
  },
  "language_info": {
   "codemirror_mode": {
    "name": "ipython",
    "version": 3
   },
   "file_extension": ".py",
   "mimetype": "text/x-python",
   "name": "python",
   "nbconvert_exporter": "python",
   "pygments_lexer": "ipython3",
   "version": "3.12.7"
  }
 },
 "nbformat": 4,
 "nbformat_minor": 5
}
