{
 "cells": [
  {
   "cell_type": "markdown",
   "id": "73bd968b-d970-4a05-94ef-4e7abf990827",
   "metadata": {},
   "source": [
    "Chapter 03\n",
    "\n",
    "# 阿基米德估算圆周率\n",
    "Book_3《数学要素》 | 鸢尾花书：从加减乘除到机器学习 (第二版)"
   ]
  },
  {
   "cell_type": "markdown",
   "id": "781d5820-c05a-4967-a451-75402545474a",
   "metadata": {},
   "source": [
    "该代码通过增大正多边形的边数，逐步计算对圆周率$\\pi$的近似上界和下界，并展示它们的收敛过程。具体来说，代码从一个初始六边形开始，计算其内接与外接多边形的周长，分别作为$\\pi$的下界和上界估计。随着正多边形的边数依次增大为$6, 12, 24, 48, 96$，代码利用递推公式不断更新对$\\pi$的上下界估计：\n",
    "\n",
    "- 下界公式为：\n",
    "  $$\n",
    "  B_n = n \\cdot \\sin\\left(\\frac{\\pi}{n}\\right)\n",
    "  $$\n",
    "\n",
    "- 上界公式为：\n",
    "  $$\n",
    "  A_n = n \\cdot \\tan\\left(\\frac{\\pi}{n}\\right)\n",
    "  $$\n",
    "\n",
    "然后，迭代更新上下界，以更接近$\\pi$的真实值，更新公式为：\n",
    "\n",
    "$$\n",
    "A_{i+1} = \\frac{2 \\cdot A_i \\cdot B_i}{A_i + B_i}\n",
    "$$\n",
    "$$\n",
    "B_{i+1} = \\sqrt{A_i \\cdot B_i}\n",
    "$$\n",
    "\n",
    "这些公式的作用是不断缩小上界和下界之间的间隔，使其逐渐逼近$\\pi$。随着正多边形边数的增加，内接和外接多边形的周长逐渐收敛到$\\pi$，这一过程在图形中显示为蓝色和绿色曲线的逐渐靠近，并填充了它们之间的区域。\n",
    "\n",
    "该图形直观展示了正多边形的边数趋向无穷大时对$\\pi$的估计，反映出几何逼近法的收敛特性。这种方法体现了通过几何构造逐步逼近$\\pi$的思想。"
   ]
  },
  {
   "cell_type": "code",
   "execution_count": 1,
   "id": "777f24bb-6522-4b88-9343-be1c00ad409b",
   "metadata": {},
   "outputs": [],
   "source": [
    "## 使用正多边形边数变化逐步逼近$\\pi$的估计值"
   ]
  },
  {
   "cell_type": "code",
   "execution_count": 2,
   "id": "5ea1e46a-95b6-481f-ba15-73bf80a0ebe4",
   "metadata": {},
   "outputs": [],
   "source": [
    "import numpy as np\n",
    "import matplotlib.pyplot as plt"
   ]
  },
  {
   "cell_type": "code",
   "execution_count": 3,
   "id": "7dc8bbd6-c49d-451d-b99e-77625f2757db",
   "metadata": {},
   "outputs": [],
   "source": [
    "n_start = 6  # 初始边数\n",
    "\n",
    "B_6 = np.sin(np.pi / n_start) * n_start  # 初始下界\n",
    "A_6 = np.tan(np.pi / n_start) * n_start  # 初始上界"
   ]
  },
  {
   "cell_type": "code",
   "execution_count": 4,
   "id": "c04694ca-7333-43a4-9d05-3a43b25e5095",
   "metadata": {},
   "outputs": [],
   "source": [
    "B_array = []  # 存储$\\pi$的下界估计值\n",
    "A_array = []  # 存储$\\pi$的上界估计值\n",
    "n_array = [6, 12, 24, 48, 96]  # 边数的变化序列"
   ]
  },
  {
   "cell_type": "code",
   "execution_count": 5,
   "id": "fc297f9a-7eae-4e22-8a38-6c597e2928b3",
   "metadata": {},
   "outputs": [],
   "source": [
    "B_i = B_6  # 初始化下界\n",
    "A_i = A_6  # 初始化上界\n",
    "n_i = n_start  # 初始化边数"
   ]
  },
  {
   "cell_type": "code",
   "execution_count": 6,
   "id": "4a15b619-5e4c-4895-9190-cc50b340530c",
   "metadata": {},
   "outputs": [],
   "source": [
    "for i in n_array:\n",
    "    B_array.append(B_i)  # 记录当前下界\n",
    "    A_array.append(A_i)  # 记录当前上界\n",
    "    \n",
    "    # 更新上下界\n",
    "    A_i = 2 * A_i * B_i / (A_i + B_i)\n",
    "    B_i = np.sqrt(A_i * B_i)"
   ]
  },
  {
   "cell_type": "code",
   "execution_count": 7,
   "id": "bf49acc5-8c00-4620-91e1-8f491fffae9a",
   "metadata": {},
   "outputs": [],
   "source": [
    "B_array = np.array(B_array)  # 转换为数组\n",
    "A_array = np.array(A_array)  # 转换为数组\n",
    "n_array = np.array(n_array)  # 转换为数组"
   ]
  },
  {
   "cell_type": "code",
   "execution_count": 9,
   "id": "13a8c9b9-a5ae-42e3-9167-f244044465e3",
   "metadata": {},
   "outputs": [
    {
     "data": {
      "text/plain": [
       "Text(42.597222222222214, 0.5, 'Estimate of $\\\\pi$')"
      ]
     },
     "execution_count": 9,
     "metadata": {},
     "output_type": "execute_result"
    },
    {
     "data": {
      "image/png": "[encoded data removed]",
      "text/plain": [
       "<Figure size 640x480 with 1 Axes>"
      ]
     },
     "metadata": {},
     "output_type": "display_data"
    }
   ],
   "source": [
    "fig, ax = plt.subplots()\n",
    "\n",
    "plt.axhline(y=np.pi, color='r', linestyle='-')  # 绘制$\\pi$的真实值参考线\n",
    "plt.plot(n_array, B_array, color='b', marker='x')  # 绘制$\\pi$的下界估计值\n",
    "plt.plot(n_array, A_array, color='g', marker='x')  # 绘制$\\pi$的上界估计值\n",
    "plt.fill_between(n_array, B_array, A_array, color='#DEEAF6')  # 填充上界与下界之间的区域\n",
    "plt.tight_layout()\n",
    "plt.xticks([6, 12, 24, 48, 96])  # 设置x轴刻度\n",
    "plt.xlim((6, 96))  # 设置x轴范围\n",
    "plt.xlabel('Number of sides, n')  # x轴标签\n",
    "plt.ylabel(r'Estimate of $\\pi$')  # y轴标签"
   ]
  },
  {
   "cell_type": "code",
   "execution_count": null,
   "id": "ecd322f4-f919-4be2-adc3-69d28ef25e69",
   "metadata": {},
   "outputs": [],
   "source": []
  }
 ],
 "metadata": {
  "kernelspec": {
   "display_name": "Python 3 (ipykernel)",
   "language": "python",
   "name": "python3"
  },
  "language_info": {
   "codemirror_mode": {
    "name": "ipython",
    "version": 3
   },
   "file_extension": ".py",
   "mimetype": "text/x-python",
   "name": "python",
   "nbconvert_exporter": "python",
   "pygments_lexer": "ipython3",
   "version": "3.12.7"
  }
 },
 "nbformat": 4,
 "nbformat_minor": 5
}
