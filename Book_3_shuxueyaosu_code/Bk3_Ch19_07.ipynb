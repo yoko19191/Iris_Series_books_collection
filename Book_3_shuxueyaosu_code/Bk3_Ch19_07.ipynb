{
 "cells": [
  {
   "cell_type": "markdown",
   "id": "57deb8a4-7d3b-4541-9b4b-18fdb2d6e257",
   "metadata": {},
   "source": [
    "Chapter 19\n",
    "\n",
    "# 动量梯度下降数值优化\n",
    "Book_3《数学要素》 | 鸢尾花书：从加减乘除到机器学习 (第二版)"
   ]
  },
  {
   "cell_type": "markdown",
   "id": "18c1b610-bedc-415d-8ea7-8f727da34371",
   "metadata": {},
   "source": [
    "这段代码实现了**动量梯度下降法**优化二次函数，通过引入动量的概念加速收敛，并通过可视化展示了迭代路径和收敛行为。以下从数学角度详细描述代码的功能、数学公式以及可视化的意义。\n",
    "\n",
    "---\n",
    "\n",
    "### 1. **目标函数与梯度计算**\n",
    "\n",
    "#### 目标函数\n",
    "目标函数为一个简单的二次多项式：\n",
    "$$\n",
    "f(x) = 2x^2 - 8x + 1\n",
    "$$\n",
    "该函数的导数（梯度）为：\n",
    "$$\n",
    "f'(x) = \\frac{d}{dx}(2x^2 - 8x + 1) = 4x - 8\n",
    "$$\n",
    "优化目标是找到使函数值最小的点 $x^*$，即使梯度为零的点：\n",
    "$$\n",
    "f'(x^*) = 0\n",
    "$$\n",
    "\n",
    "---\n",
    "\n",
    "### 2. **动量梯度下降法**\n",
    "\n",
    "#### 梯度下降的基本思想\n",
    "普通梯度下降法的迭代更新公式为：\n",
    "$$\n",
    "x_{k+1} = x_k - \\eta f'(x_k)\n",
    "$$\n",
    "其中：\n",
    "- $x_k$ 是第 $k$ 次迭代时的点；\n",
    "- $\\eta$ 是学习率（步长）；\n",
    "- $f'(x_k)$ 是目标函数在 $x_k$ 处的梯度。\n",
    "\n",
    "#### 动量的引入\n",
    "在动量梯度下降法中，通过引入动量项，加速收敛并减少震荡。更新公式为：\n",
    "1. 动量更新：\n",
    "   $$\n",
    "   v_{k+1} = \\gamma v_k + \\eta f'(x_k)\n",
    "   $$\n",
    "   其中：\n",
    "   - $v_k$ 是第 $k$ 次迭代的动量；\n",
    "   - $\\gamma$ 是动量因子，控制前一动量对当前更新的影响程度。\n",
    "\n",
    "2. 位置更新：\n",
    "   $$\n",
    "   x_{k+1} = x_k - v_{k+1}\n",
    "   $$\n",
    "\n",
    "通过动量的累积，更新方向不再完全依赖于当前的梯度，而是包含了之前梯度的历史信息，从而提高优化过程的稳定性。\n",
    "\n",
    "#### 收敛条件\n",
    "动量梯度下降的终止条件为：\n",
    "1. 当前迭代点的变化小于容差 $tol$：\n",
    "   $$\n",
    "   |x_{k+1} - x_k| < tol\n",
    "   $$\n",
    "2. 达到最大迭代次数。\n",
    "\n",
    "---\n",
    "\n",
    "### 3. **实现过程**\n",
    "\n",
    "#### 动量梯度下降函数\n",
    "`momentum_gradient_descent` 函数实现了上述动量梯度下降算法，依次记录每次迭代的变量值 $x_k$，并返回完整的优化路径。\n",
    "\n",
    "#### 参数说明\n",
    "- 初始点 $x_0 = 5$；\n",
    "- 学习率 $\\eta = 0.1$；\n",
    "- 动量因子 $\\gamma = 0.2$。\n",
    "\n",
    "通过这些参数控制收敛速度和路径的平滑性。\n",
    "\n",
    "---\n",
    "\n",
    "### 4. **可视化动量梯度下降过程**\n",
    "\n",
    "#### 可视化内容\n",
    "函数 `visualize_momentum_gradient_descent` 绘制了三个子图：\n",
    "1. **目标函数及迭代轨迹**：\n",
    "   - 蓝色曲线表示目标函数 $f(x)$；\n",
    "   - 黑色叉点表示每次迭代的点 $(x_k, f(x_k))$；\n",
    "   - 红色连线显示了迭代路径，直观展示了点如何沿着函数曲面移动到最优解。\n",
    "\n",
    "2. **变量 $x_k$ 的变化**：\n",
    "   - 横轴为迭代次数，纵轴为 $x_k$ 的值；\n",
    "   - 曲线反映了动量梯度下降法中 $x_k$ 收敛到最优解 $x^*$ 的过程。\n",
    "\n",
    "3. **函数值 $f(x_k)$ 的变化**：\n",
    "   - 横轴为迭代次数，纵轴为 $f(x_k)$ 的值；\n",
    "   - 曲线展示了函数值逐步逼近最小值的过程。\n",
    "\n",
    "#### 动量效果\n",
    "从可视化中可以观察到动量的作用：\n",
    "- 动量的累积加速了收敛；\n",
    "- 更新路径更加平滑，减少了普通梯度下降中可能出现的震荡。\n",
    "\n",
    "---\n",
    "\n",
    "### 5. **测试与结果**\n",
    "\n",
    "#### 理论解\n",
    "对于函数 $f(x)$，解析解为：\n",
    "$$\n",
    "x^* = \\frac{-b}{2a} = \\frac{8}{4} = 2\n",
    "$$\n",
    "对应的最小值为：\n",
    "$$\n",
    "f(x^*) = 2(2)^2 - 8(2) + 1 = -7\n",
    "$$\n",
    "\n",
    "#### 实际结果\n",
    "代码运行后得到：\n",
    "- 动量梯度下降找到的最优点 $x^* \\approx 2$；\n",
    "- 对应的最小值 $f(x^*) \\approx -7$。\n",
    "\n",
    "结果与理论值一致，验证了算法的正确性。\n",
    "\n",
    "---\n",
    "\n",
    "### 6. **总结与应用**\n",
    "\n",
    "#### 动量梯度下降的优点\n",
    "动量梯度下降法通过引入动量项解决了普通梯度下降中的两个主要问题：\n",
    "1. 在陡峭区域的收敛速度更快；\n",
    "2. 在平坦区域或多维问题中减少了梯度震荡。\n",
    "\n",
    "#### 应用场景\n",
    "动量梯度下降法广泛应用于：\n",
    "- 神经网络优化（如 SGD + Momentum）；\n",
    "- 大规模数据集的模型参数调整；\n",
    "- 其他非凸优化问题。\n",
    "\n",
    "#### 可视化的意义\n",
    "通过可视化梯度下降过程，可以直观理解动量如何影响优化路径，从而更好地选择超参数（如学习率 $\\eta$ 和动量因子 $\\gamma$），是学习优化算法的重要工具。"
   ]
  },
  {
   "cell_type": "markdown",
   "id": "ff1bce6c-5445-4e2e-9f5c-203b825a921e",
   "metadata": {},
   "source": [
    "## 导入包"
   ]
  },
  {
   "cell_type": "code",
   "execution_count": 1,
   "id": "424659f5-c538-416d-9c43-70a5a3a0617f",
   "metadata": {},
   "outputs": [],
   "source": [
    "import numpy as np\n",
    "import matplotlib.pyplot as plt\n",
    "from sympy import symbols, diff, lambdify"
   ]
  },
  {
   "cell_type": "code",
   "execution_count": 2,
   "id": "182c039d-91e0-47e1-9805-5c62d9094ac2",
   "metadata": {},
   "outputs": [],
   "source": [
    "p = plt.rcParams  # 获取默认绘图参数\n",
    "p[\"font.sans-serif\"] = [\"Roboto\"]  # 设置无衬线字体为 Roboto\n",
    "p[\"font.weight\"] = \"light\"  # 设置字体粗细为 light\n",
    "p[\"ytick.minor.visible\"] = True  # 显示 y 轴的小刻度\n",
    "p[\"xtick.minor.visible\"] = True  # 显示 x 轴的小刻度\n",
    "p[\"axes.grid\"] = True  # 启用坐标轴网格\n",
    "p[\"grid.color\"] = \"0.5\"  # 设置网格颜色为灰色\n",
    "p[\"grid.linewidth\"] = 0.5  # 设置网格线宽度"
   ]
  },
  {
   "cell_type": "markdown",
   "id": "521a1b69-b83c-4a71-9326-e34c5991b991",
   "metadata": {},
   "source": [
    "## 目标函数"
   ]
  },
  {
   "cell_type": "code",
   "execution_count": 3,
   "id": "b5cadc62-2792-46c4-9e64-8f0f846accc8",
   "metadata": {},
   "outputs": [
    {
     "data": {
      "text/latex": [
       "$\\displaystyle 2 x^{2} - 8 x + 1$"
      ],
      "text/plain": [
       "2*x**2 - 8*x + 1"
      ]
     },
     "execution_count": 3,
     "metadata": {},
     "output_type": "execute_result"
    }
   ],
   "source": [
    "x = symbols('x')\n",
    "func = 2*x**2 - 8*x + 1\n",
    "func"
   ]
  },
  {
   "cell_type": "code",
   "execution_count": 4,
   "id": "bf85ecff-094a-4eea-a1f7-3a7fb005e7be",
   "metadata": {},
   "outputs": [
    {
     "data": {
      "text/latex": [
       "$\\displaystyle 4 x - 8$"
      ],
      "text/plain": [
       "4*x - 8"
      ]
     },
     "execution_count": 4,
     "metadata": {},
     "output_type": "execute_result"
    }
   ],
   "source": [
    "grad = diff(func, x)  # 计算函数的导数\n",
    "grad"
   ]
  },
  {
   "cell_type": "code",
   "execution_count": 5,
   "id": "7f4ac46e-e65d-4157-b6c4-80b102e78e4b",
   "metadata": {},
   "outputs": [],
   "source": [
    "# 将函数和梯度转换为 Python 可执行函数\n",
    "f = lambdify(x, func, 'numpy')\n",
    "grad_f = lambdify(x, grad, 'numpy')"
   ]
  },
  {
   "cell_type": "markdown",
   "id": "1eaad47c-633e-4793-b892-d4cecd2a56da",
   "metadata": {},
   "source": [
    "## 动量梯度下降实现"
   ]
  },
  {
   "cell_type": "code",
   "execution_count": 6,
   "id": "9e07242a-5266-4ab3-9058-ed6e03ab04ec",
   "metadata": {},
   "outputs": [],
   "source": [
    "def momentum_gradient_descent(f, grad_f, x0, learning_rate=0.1, gamma=0.9, max_iter=50, tol=1e-6):\n",
    "    x_vals = [x0]\n",
    "    v = 0  # 初始动量为 0\n",
    "    for _ in range(max_iter):\n",
    "        grad_val = grad_f(x_vals[-1])  # 当前点的梯度\n",
    "        v = gamma * v + learning_rate * grad_val  # 更新动量\n",
    "        x_new = x_vals[-1] - v  # 按动量更新位置\n",
    "        x_vals.append(x_new)\n",
    "        if abs(x_new - x_vals[-2]) < tol:  # 如果变化小于容差，停止迭代\n",
    "            break\n",
    "    return x_vals"
   ]
  },
  {
   "cell_type": "markdown",
   "id": "1fa6eab1-230c-46bb-a98c-25219bfa1ffe",
   "metadata": {},
   "source": [
    "## 可视化梯度下降过程和收敛"
   ]
  },
  {
   "cell_type": "code",
   "execution_count": 7,
   "id": "ba02903e-c7d2-4595-8208-a53edfe46a8a",
   "metadata": {},
   "outputs": [],
   "source": [
    "def visualize_momentum_gradient_descent(f, x_vals):\n",
    "    x = np.linspace(-1, 5, 500)  # 设置绘图范围\n",
    "    y = f(x)\n",
    "\n",
    "    # 获取收敛的函数值和对应的最小值点\n",
    "    f_vals = [f(val) for val in x_vals]\n",
    "    iterations = np.arange(len(x_vals))\n",
    "\n",
    "    # 创建图像，分三行一列\n",
    "    fig, axs = plt.subplots(3, 1, figsize=(8, 6), \n",
    "                            height_ratios=[2, 1, 1],\n",
    "                            constrained_layout=True)\n",
    "\n",
    "    # 图1：目标函数及梯度下降过程\n",
    "    axs[0].plot(x, y, label=\"f(x)\", color=\"blue\")\n",
    "    axs[0].scatter(x_vals, f_vals, color=\"k\", marker = 'x', label=\"Iterations\")\n",
    "    axs[0].plot(x_vals, f_vals, linestyle=\"-\", color=\"red\", alpha=0.6)\n",
    "    axs[0].set_title(\"Gradient Descent Optimization\")\n",
    "    axs[0].set_xlabel(\"x\")\n",
    "    axs[0].set_ylabel(\"f(x)\")\n",
    "    axs[0].set_xlim(-1,5)\n",
    "    axs[0].legend()\n",
    "    axs[0].grid(True)\n",
    "\n",
    "    # 图2：收敛过程中最小值点的变化\n",
    "    axs[1].plot(iterations, x_vals, marker=\"x\", label=\"x value\", color=\"green\")\n",
    "    axs[1].set_xlabel(\"Iteration\")\n",
    "    axs[1].set_ylabel(\"Optimized x\")\n",
    "    axs[1].set_xlim(iterations.min(),iterations.max())\n",
    "    axs[1].set_xticks(np.arange(0, iterations.max(), 2))\n",
    "    axs[1].legend()\n",
    "    axs[1].grid(True)\n",
    "\n",
    "    # 图3：收敛过程中最小值点的变化\n",
    "    axs[2].plot(iterations, f_vals, marker=\"x\", label=\"f(x)\", color=\"blue\")\n",
    "    axs[2].set_xlabel(\"Iteration\")\n",
    "    axs[2].set_ylabel(\"Optimized min of f(x)\")\n",
    "    axs[2].set_xlim(iterations.min(),iterations.max())\n",
    "    axs[2].set_xticks(np.arange(0, iterations.max(), 2))\n",
    "    axs[2].legend()\n",
    "    axs[2].grid(True)"
   ]
  },
  {
   "cell_type": "markdown",
   "id": "3c4b1ad0-b9fc-45c9-aaf0-c2c5e4b592f7",
   "metadata": {},
   "source": [
    "## 测试动量梯度下降"
   ]
  },
  {
   "cell_type": "code",
   "execution_count": 8,
   "id": "c8e17297-9ed9-4ed0-bcb0-04f6d9565559",
   "metadata": {},
   "outputs": [],
   "source": [
    "x0 = 5  # 初始点\n",
    "learning_rate = 0.1\n",
    "gamma = 0.2\n",
    "x_vals = momentum_gradient_descent(f, grad_f, x0, learning_rate, gamma)"
   ]
  },
  {
   "cell_type": "code",
   "execution_count": 9,
   "id": "c5d29c25-a615-4f91-b5fa-9202398a628b",
   "metadata": {},
   "outputs": [
    {
     "name": "stdout",
     "output_type": "stream",
     "text": [
      "动量梯度下降找到的最小值点: 1.9999998357195456\n",
      "最小值: -6.999999999999946\n"
     ]
    }
   ],
   "source": [
    "print(f\"动量梯度下降找到的最小值点: {x_vals[-1]}\")\n",
    "print(f\"最小值: {f(x_vals[-1])}\")"
   ]
  },
  {
   "cell_type": "markdown",
   "id": "f5916184-d722-4454-914a-254581dcfa6d",
   "metadata": {},
   "source": [
    "## 可视化"
   ]
  },
  {
   "cell_type": "code",
   "execution_count": 10,
   "id": "8b9c4f5c-f7e5-45ba-af24-263c4e5a518e",
   "metadata": {},
   "outputs": [
    {
     "data": {
      "image/png": "[encoded data removed]",
      "text/plain": [
       "<Figure size 800x600 with 3 Axes>"
      ]
     },
     "metadata": {},
     "output_type": "display_data"
    }
   ],
   "source": [
    "visualize_momentum_gradient_descent(f, x_vals)"
   ]
  }
 ],
 "metadata": {
  "kernelspec": {
   "display_name": "Python 3 (ipykernel)",
   "language": "python",
   "name": "python3"
  },
  "language_info": {
   "codemirror_mode": {
    "name": "ipython",
    "version": 3
   },
   "file_extension": ".py",
   "mimetype": "text/x-python",
   "name": "python",
   "nbconvert_exporter": "python",
   "pygments_lexer": "ipython3",
   "version": "3.12.7"
  }
 },
 "nbformat": 4,
 "nbformat_minor": 5
}
