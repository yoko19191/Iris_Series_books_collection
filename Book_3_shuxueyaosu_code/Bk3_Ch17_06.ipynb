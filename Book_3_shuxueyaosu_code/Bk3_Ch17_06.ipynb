{
 "cells": [
  {
   "cell_type": "markdown",
   "id": "72f7acc0-28ed-4194-8ada-c72c60e993d1",
   "metadata": {},
   "source": [
    "Chapter 17\n",
    "\n",
    "# 牛顿法\n",
    "Book_3《数学要素》 | 鸢尾花书：从加减乘除到机器学习 (第二版)"
   ]
  },
  {
   "cell_type": "markdown",
   "id": "ace5b36a-03d3-462d-80b2-72dfb42e9125",
   "metadata": {},
   "source": [
    "这段代码实现了**牛顿法**求解函数的根，并通过可视化展示了牛顿法的迭代过程和收敛性。以下从数学角度详细描述每部分的功能及其背后的数学原理。\n",
    "\n",
    "---\n",
    "\n",
    "### 代码描述及数学分析\n",
    "\n",
    "#### 1. **绘图参数设置**\n",
    "代码使用 `matplotlib` 设置绘图参数，以增强可视化效果，例如字体样式、坐标轴网格和刻度。\n",
    "\n",
    "#### 2. **目标函数与导数定义**\n",
    "目标函数被定义为：\n",
    "$$\n",
    "f(x) = 2x^2 - 8x + 1\n",
    "$$\n",
    "该函数是一个二次多项式，其根可以通过求解 $f(x) = 0$ 得到。\n",
    "\n",
    "导数被计算为：\n",
    "$$\n",
    "f'(x) = \\frac{d}{dx}[2x^2 - 8x + 1] = 4x - 8\n",
    "$$\n",
    "使用 `sympy` 的 `diff` 函数自动计算导数，确保数学表达式的准确性。然后通过 `lambdify` 将符号函数转换为可执行的 Python 函数，以便在数值计算中使用。\n",
    "\n",
    "#### 3. **牛顿法求根**\n",
    "牛顿法是一个迭代方法，用于求解非线性方程 $f(x) = 0$ 的根。其数学思想基于泰勒展开和线性近似。给定当前点 $x_k$，通过切线逼近找到下一次迭代点 $x_{k+1}$：\n",
    "$$\n",
    "x_{k+1} = x_k - \\frac{f(x_k)}{f'(x_k)}\n",
    "$$\n",
    "这个公式是牛顿法的核心公式。\n",
    "\n",
    "牛顿法的迭代条件：\n",
    "1. 如果 $f'(x_k) \\approx 0$，方法可能失效，因为分母趋近于零。\n",
    "2. 当 $|x_{k+1} - x_k| < \\text{tol}$，即两次迭代的差小于指定容差 $tol$，算法收敛。\n",
    "\n",
    "#### 4. **迭代过程与收敛性分析**\n",
    "代码实现了牛顿法的完整迭代过程，并记录每次迭代的 $x_k$ 值，以便可视化。\n",
    "\n",
    "迭代过程的收敛性依赖于初始点 $x_0$ 和函数的性质：\n",
    "- 当初始点接近根时，牛顿法通常以二次收敛速度收敛，即误差 $|x_k - r|$ 满足：\n",
    "  $$\n",
    "  |x_{k+1} - r| \\approx C|x_k - r|^2\n",
    "  $$\n",
    "  其中 $r$ 是函数的根，$C$ 是一个常数。\n",
    "- 若初始点选择不当或导数在某点接近零，可能导致算法发散或无法收敛。\n",
    "\n",
    "#### 5. **牛顿法可视化**\n",
    "代码通过 `visualize_newton` 函数展示了牛顿法的几何直观过程：\n",
    "1. 绘制函数曲线 $f(x)$ 和横轴 $y=0$，以展示根的位置。\n",
    "2. 使用切线显示每次迭代的更新过程：\n",
    "   - 点 $x_k$ 到切线与横轴交点的移动。\n",
    "   - 垂直线从 $f(x_k)$ 投影到横轴。\n",
    "3. 用红色标记每次迭代的点 $x_k$ 和对应的函数值 $f(x_k)$。\n",
    "\n",
    "#### 6. **收敛性可视化**\n",
    "代码通过 `visualize_convergence` 函数展示了 $x_k$ 随迭代次数的变化图：\n",
    "- 横轴为迭代次数 $k$；\n",
    "- 纵轴为迭代点 $x_k$；\n",
    "- 图形直观显示了牛顿法的收敛轨迹。\n",
    "\n",
    "#### 7. **测试部分**\n",
    "初始点选择为 $x_0 = -2.0$，进行牛顿法迭代：\n",
    "- 检查 $f'(x)$ 是否接近零，避免除零错误；\n",
    "- 记录每次迭代的 $x_k$ 值，并返回近似根、迭代次数和所有迭代值。\n",
    "\n",
    "---\n",
    "\n",
    "### 数学背景总结\n",
    "1. **牛顿法适用范围**：\n",
    "   - 函数 $f(x)$ 必须在根附近可微且导数非零。\n",
    "   - 牛顿法适用于初始点接近真实根的情况，否则可能发散或收敛到非目标根。\n",
    "\n",
    "2. **收敛性**：\n",
    "   牛顿法具有二次收敛速度，即误差的平方比例下降。这是其相较于其他数值方法（如二分法）的显著优势。\n",
    "\n",
    "3. **几何解释**：\n",
    "   牛顿法的迭代过程可以视为每次使用当前点的切线逼近函数的零点，从而逐步逼近真实根。\n",
    "\n",
    "通过上述代码的实现，可以直观理解牛顿法的原理、优势及局限性，同时通过可视化加深对其迭代过程的理解。"
   ]
  },
  {
   "cell_type": "markdown",
   "id": "36187552-4529-405b-bfd0-519568348b79",
   "metadata": {},
   "source": [
    "## 导入包"
   ]
  },
  {
   "cell_type": "code",
   "execution_count": 1,
   "id": "acca807b-d1e5-4303-8517-9bd47ae6c631",
   "metadata": {},
   "outputs": [],
   "source": [
    "import numpy as np\n",
    "import matplotlib.pyplot as plt\n",
    "from sympy import symbols, diff, lambdify"
   ]
  },
  {
   "cell_type": "code",
   "execution_count": 2,
   "id": "c1a97c28-c489-4329-b464-8a6da15e8a3b",
   "metadata": {},
   "outputs": [],
   "source": [
    "p = plt.rcParams  # 获取默认绘图参数\n",
    "p[\"font.sans-serif\"] = [\"Roboto\"]  # 设置无衬线字体为 Roboto\n",
    "p[\"font.weight\"] = \"light\"  # 设置字体粗细为 light\n",
    "p[\"ytick.minor.visible\"] = True  # 显示 y 轴的小刻度\n",
    "p[\"xtick.minor.visible\"] = True  # 显示 x 轴的小刻度\n",
    "p[\"axes.grid\"] = True  # 启用坐标轴网格\n",
    "p[\"grid.color\"] = \"0.5\"  # 设置网格颜色为灰色\n",
    "p[\"grid.linewidth\"] = 0.5  # 设置网格线宽度"
   ]
  },
  {
   "cell_type": "markdown",
   "id": "08c7e52b-d889-4c51-9307-9d89218a10d9",
   "metadata": {},
   "source": [
    "## 使用 sympy 定义目标函数和导数"
   ]
  },
  {
   "cell_type": "code",
   "execution_count": 3,
   "id": "7fafc291-c81f-45ec-ba1e-5dc7ab82dbaa",
   "metadata": {},
   "outputs": [
    {
     "data": {
      "text/latex": [
       "$\\displaystyle 2 x^{2} - 8 x + 1$"
      ],
      "text/plain": [
       "2*x**2 - 8*x + 1"
      ]
     },
     "execution_count": 3,
     "metadata": {},
     "output_type": "execute_result"
    }
   ],
   "source": [
    "x = symbols('x')\n",
    "func = 2*x**2 - 8*x + 1\n",
    "func"
   ]
  },
  {
   "cell_type": "code",
   "execution_count": 4,
   "id": "695d6254-08a7-4d4a-b09d-e28c82a71e2e",
   "metadata": {},
   "outputs": [
    {
     "data": {
      "text/latex": [
       "$\\displaystyle 4 x - 8$"
      ],
      "text/plain": [
       "4*x - 8"
      ]
     },
     "execution_count": 4,
     "metadata": {},
     "output_type": "execute_result"
    }
   ],
   "source": [
    "func_prime = diff(func, x)\n",
    "func_prime"
   ]
  },
  {
   "cell_type": "markdown",
   "id": "7c61b8f3-af8a-4a0e-9c29-9823591be630",
   "metadata": {},
   "source": [
    "## 将函数和导数转换为可执行的 Python 函数"
   ]
  },
  {
   "cell_type": "code",
   "execution_count": 5,
   "id": "40236709-fb17-4d25-9e76-30381aa16d2d",
   "metadata": {},
   "outputs": [],
   "source": [
    "f = lambdify(x, func, 'numpy')\n",
    "f_prime = lambdify(x, func_prime, 'numpy')"
   ]
  },
  {
   "cell_type": "markdown",
   "id": "4ac4a659-8236-4c2c-b138-5b051dbefaf2",
   "metadata": {},
   "source": [
    "## 牛顿法求根函数"
   ]
  },
  {
   "cell_type": "code",
   "execution_count": 6,
   "id": "288877b1-286d-43ac-85aa-8bc887343b36",
   "metadata": {},
   "outputs": [],
   "source": [
    "def newton_method(f, f_prime, x0, tol=1e-6, max_iter=100):\n",
    "    x_vals = [x0]  # 记录迭代值以便可视化\n",
    "    for i in range(max_iter):\n",
    "        fx = f(x0)\n",
    "        fpx = f_prime(x0)\n",
    "        if abs(fpx) < 1e-10:  # 避免除零\n",
    "            raise ValueError(\"导数接近零，牛顿法可能无法收敛。\")\n",
    "\n",
    "        x1 = x0 - fx / fpx  # 牛顿迭代公式\n",
    "        x_vals.append(x1)\n",
    "\n",
    "        if abs(x1 - x0) < tol:  # 收敛条件\n",
    "            return x1, i + 1, x_vals\n",
    "\n",
    "        x0 = x1\n",
    "\n",
    "    raise ValueError(\"迭代未能在最大步数内收敛。\")"
   ]
  },
  {
   "cell_type": "markdown",
   "id": "c6e8e303-7c4d-4a9f-9416-72a1cb79412d",
   "metadata": {},
   "source": [
    "## 可视化牛顿法过程"
   ]
  },
  {
   "cell_type": "code",
   "execution_count": 7,
   "id": "627c648f-11ed-42e4-b3ab-4df1dc5d7fde",
   "metadata": {},
   "outputs": [],
   "source": [
    "def visualize_newton(f, x_vals):\n",
    "    x = np.linspace(-3, 3, 500)\n",
    "    y = f(x)\n",
    "\n",
    "    plt.figure(figsize=(6, 6))\n",
    "    plt.plot(x, y, color=\"blue\")\n",
    "    plt.axhline(0, color=\"black\", linewidth=0.8, linestyle=\"--\")\n",
    "\n",
    "    # 绘制牛顿法迭代过程\n",
    "    for i in range(len(x_vals) - 1):\n",
    "        x0 = x_vals[i]\n",
    "        x1 = x_vals[i + 1]\n",
    "        plt.scatter(x0, f(x0), color=\"red\", marker = 'x')\n",
    "        plt.scatter(x0, 0, color=\"red\", marker = 'x')\n",
    "        plt.plot([x0, x0], [0, f(x0)], lw = 0.2, color=\"k\", linestyle=\"-\")  # 垂直线\n",
    "        plt.plot([x0, x1], [f(x0), 0], lw = 0.2, color=\"k\", linestyle=\"-\")  # 切线\n",
    "\n",
    "    plt.title(\"Newton's Method Visualization\")\n",
    "    plt.xlabel(\"x\")\n",
    "    plt.ylabel(\"f(x)\")\n",
    "    plt.xlim(-3,3)\n",
    "    # plt.legend()\n",
    "    plt.grid(True)\n",
    "    # plt.savefig('数值求根_牛顿法.svg')\n",
    "    plt.show()"
   ]
  },
  {
   "cell_type": "code",
   "execution_count": 8,
   "id": "a9c5929b-f0bb-409a-96d0-e615abe61482",
   "metadata": {},
   "outputs": [],
   "source": [
    "def visualize_convergence(x_vals):\n",
    "\n",
    "    plt.figure(figsize=(6, 3))\n",
    "    plt.plot(np.arange(len(x_vals)),x_vals, marker = 'x')\n",
    "    plt.xlim(0,len(x_vals) - 1)\n",
    "    plt.xlabel('Iteration')\n",
    "    plt.ylabel('Approximated root')\n",
    "    # plt.savefig('数值求根_牛顿法_收敛.svg')\n",
    "    "
   ]
  },
  {
   "cell_type": "markdown",
   "id": "631dc5ff-c3fa-4b07-9c1f-b580ca990e28",
   "metadata": {},
   "source": [
    "## 测试"
   ]
  },
  {
   "cell_type": "code",
   "execution_count": 9,
   "id": "2b8a00b4-7e11-4665-a6ff-d5633444fd30",
   "metadata": {},
   "outputs": [
    {
     "name": "stdout",
     "output_type": "stream",
     "text": [
      "求得根的近似值: 0.1291713066129993\n",
      "迭代次数: 5\n"
     ]
    },
    {
     "data": {
      "image/png": "[encoded data removed]",
      "text/plain": [
       "<Figure size 600x600 with 1 Axes>"
      ]
     },
     "metadata": {},
     "output_type": "display_data"
    },
    {
     "data": {
      "image/png": "[encoded data removed]",
      "text/plain": [
       "<Figure size 600x300 with 1 Axes>"
      ]
     },
     "metadata": {},
     "output_type": "display_data"
    }
   ],
   "source": [
    "\n",
    "try:\n",
    "    root, iterations, x_vals = newton_method(f, f_prime, x0=-2.0)\n",
    "    print(f\"求得根的近似值: {root}\")\n",
    "    print(f\"迭代次数: {iterations}\")\n",
    "\n",
    "    # 可视化\n",
    "    visualize_newton(f, x_vals)\n",
    "    visualize_convergence(x_vals)\n",
    "\n",
    "except ValueError as e:\n",
    "    print(e)"
   ]
  }
 ],
 "metadata": {
  "kernelspec": {
   "display_name": "Python 3 (ipykernel)",
   "language": "python",
   "name": "python3"
  },
  "language_info": {
   "codemirror_mode": {
    "name": "ipython",
    "version": 3
   },
   "file_extension": ".py",
   "mimetype": "text/x-python",
   "name": "python",
   "nbconvert_exporter": "python",
   "pygments_lexer": "ipython3",
   "version": "3.12.7"
  }
 },
 "nbformat": 4,
 "nbformat_minor": 5
}
