{
 "cells": [
  {
   "cell_type": "markdown",
   "id": "73bd968b-d970-4a05-94ef-4e7abf990827",
   "metadata": {},
   "source": [
    "Chapter 05\n",
    "\n",
    "# 参数方程\n",
    "Book_3《数学要素》 | 鸢尾花书：从加减乘除到机器学习 (第二版)"
   ]
  },
  {
   "cell_type": "markdown",
   "id": "bceb5fe0-7667-4d00-b1e9-231a3cae7caf",
   "metadata": {},
   "source": [
    "这段代码使用Matplotlib库绘制了一个单位圆图，通过参数化方程将圆的点以平面曲线的形式展示。代码的主要步骤如下：\n",
    "\n",
    "1. **定义单位圆的参数方程**：\n",
    "   - 生成了从$0$到$2\\pi$的$100$个点作为参数$t$。\n",
    "   - 使用参数化方程定义单位圆的$x$和$y$坐标，具体为：\n",
    "     $$ \n",
    "     x = \\cos(t) \n",
    "     $$\n",
    "     $$\n",
    "     y = \\sin(t) \n",
    "     $$\n",
    "   其中，$t$表示角度（从$0$到$2\\pi$），这两个公式表示一个半径为$1$、中心在原点的圆。这样，通过不同的$t$值，可以得到圆周上不同的点。\n",
    "\n",
    "2. **绘制单位圆**：将得到的$(x, y)$坐标作为输入，绘制单位圆的轮廓。由于单位圆的半径恒定为$1$，因此图形为一个完整的圆形。\n",
    "\n",
    "3. **设置坐标轴标签、刻度和比例**：\n",
    "   - 给$x$轴和$y$轴分别加上标签$x_1$和$x_2$。\n",
    "   - 设置了$x$轴和$y$轴的刻度范围在$[-2, 2]$之间，并步长为$1$。\n",
    "   - 调用$ax.axis('scaled')$确保$x$和$y$轴的比例一致，使得圆形在图中保持完美的对称性。\n",
    "\n",
    "4. **添加网格和坐标轴基准线**：在图形中添加了虚线样式的网格线，颜色为浅灰色，并在$x=0$和$y=0$处绘制了水平和垂直的基准线，以便更直观地显示坐标轴和圆的关系。\n",
    "\n",
    "5. **隐藏边框**：为了简化图形，隐藏了顶部、底部、左侧和右侧的边框，使图形更简洁，突出展示了单位圆。\n",
    "\n",
    "该代码完整地展示了如何使用参数方程生成并绘制单位圆，结合坐标轴的设置，可以在平面直角坐标系中清晰地观察到圆的形状和对称性。"
   ]
  },
  {
   "cell_type": "markdown",
   "id": "b79b3ff2-680a-4baa-89a1-61c39b4554fb",
   "metadata": {},
   "source": [
    "## 导入所需库"
   ]
  },
  {
   "cell_type": "code",
   "execution_count": 1,
   "id": "93c47237-d35e-4770-ac50-b7c82c51b4b5",
   "metadata": {},
   "outputs": [],
   "source": [
    "import numpy as np  # 导入numpy库，用于数值计算\n",
    "import matplotlib.pyplot as plt  # 导入matplotlib库，用于绘图"
   ]
  },
  {
   "cell_type": "markdown",
   "id": "8359b364-37bd-4038-84b3-46aa3b19b8a0",
   "metadata": {},
   "source": [
    "## 定义参数变量"
   ]
  },
  {
   "cell_type": "code",
   "execution_count": 2,
   "id": "a795f6a5-99cd-4578-8763-118a307ca14f",
   "metadata": {},
   "outputs": [],
   "source": [
    "t = np.linspace(0, 2 * np.pi, 100)  # 生成从0到2π的等间距数组，共100个点"
   ]
  },
  {
   "cell_type": "markdown",
   "id": "77719839-8b2e-415c-b41f-371577d89c0f",
   "metadata": {},
   "source": [
    "## 单位圆的参数方程"
   ]
  },
  {
   "cell_type": "code",
   "execution_count": 3,
   "id": "9ba75b20-20ef-4b50-b5b2-7ec88b81350c",
   "metadata": {},
   "outputs": [],
   "source": [
    "x1 = np.cos(t)  # 定义单位圆的x坐标，使用cos函数\n",
    "x2 = np.sin(t)  # 定义单位圆的y坐标，使用sin函数"
   ]
  },
  {
   "cell_type": "markdown",
   "id": "b1e21d31-5f75-42a7-b04a-2740b86f498e",
   "metadata": {},
   "source": [
    "## 创建图形"
   ]
  },
  {
   "cell_type": "code",
   "execution_count": 4,
   "id": "1d7c950d-d4ca-4eb8-9f7a-743be19187b5",
   "metadata": {},
   "outputs": [
    {
     "data": {
      "text/plain": [
       "<matplotlib.lines.Line2D at 0x1bf9f3a31a0>"
      ]
     },
     "execution_count": 4,
     "metadata": {},
     "output_type": "execute_result"
    },
    {
     "data": {
      "image/png": "[encoded data removed]",
      "text/plain": [
       "<Figure size 640x480 with 1 Axes>"
      ]
     },
     "metadata": {},
     "output_type": "display_data"
    }
   ],
   "source": [
    "fig, ax = plt.subplots()  # 创建图形和坐标轴对象\n",
    "\n",
    "## 绘制单位圆\n",
    "plt.plot(x1, x2)  # 使用x1和x2绘制单位圆\n",
    "\n",
    "## 设置坐标轴标签和刻度\n",
    "ax.set_xlabel('$x_1$')  # 设置x轴标签为“x1”\n",
    "ax.set_ylabel('$x_2$')  # 设置y轴标签为“x2”\n",
    "ax.set_xticks(np.arange(-2, 2 + 1, step=1))  # 设置x轴刻度范围为-2到2，步长为1\n",
    "ax.set_yticks(np.arange(-2, 2 + 1, step=1))  # 设置y轴刻度范围为-2到2，步长为1\n",
    "\n",
    "## 坐标轴比例和边界设置\n",
    "ax.axis('scaled')  # 设置坐标轴比例，使x和y轴单位长度一致\n",
    "ax.set_xbound(lower=-2, upper=2)  # 设置x轴的显示范围为-2到2\n",
    "ax.set_ybound(lower=-2, upper=2)  # 设置y轴的显示范围为-2到2\n",
    "\n",
    "## 添加网格和隐藏边框\n",
    "ax.grid(linestyle='--', linewidth=0.25, color=[0.7, 0.7, 0.7])  # 添加虚线网格，颜色为灰色\n",
    "plt.gca().spines['right'].set_visible(False)  # 隐藏右边框\n",
    "plt.gca().spines['top'].set_visible(False)  # 隐藏顶部边框\n",
    "plt.gca().spines['left'].set_visible(False)  # 隐藏左边框\n",
    "plt.gca().spines['bottom'].set_visible(False)  # 隐藏底部边框\n",
    "\n",
    "## 绘制坐标轴的基准线\n",
    "plt.axhline(y=0, color='k', linestyle='-')  # 在y=0处绘制水平基准线\n",
    "plt.axvline(x=0, color='k', linestyle='-')  # 在x=0处绘制垂直基准线"
   ]
  },
  {
   "cell_type": "code",
   "execution_count": null,
   "id": "ecd322f4-f919-4be2-adc3-69d28ef25e69",
   "metadata": {},
   "outputs": [],
   "source": []
  }
 ],
 "metadata": {
  "kernelspec": {
   "display_name": "Python 3 (ipykernel)",
   "language": "python",
   "name": "python3"
  },
  "language_info": {
   "codemirror_mode": {
    "name": "ipython",
    "version": 3
   },
   "file_extension": ".py",
   "mimetype": "text/x-python",
   "name": "python",
   "nbconvert_exporter": "python",
   "pygments_lexer": "ipython3",
   "version": "3.12.7"
  }
 },
 "nbformat": 4,
 "nbformat_minor": 5
}
