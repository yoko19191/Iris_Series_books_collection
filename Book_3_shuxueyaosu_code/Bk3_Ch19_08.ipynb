{
 "cells": [
  {
   "cell_type": "markdown",
   "id": "f3b59d29-e8da-46d9-866f-0ed8bf3a1fbc",
   "metadata": {},
   "source": [
    "Chapter 19\n",
    "\n",
    "# 自适应梯度下降数值优化\n",
    "Book_3《数学要素》 | 鸢尾花书：从加减乘除到机器学习 (第二版)"
   ]
  },
  {
   "cell_type": "markdown",
   "id": "35564993-8158-4546-9683-ba04190da6b4",
   "metadata": {},
   "source": [
    "这段代码实现了**自适应学习率的梯度下降法**，通过引入累积梯度平方的动态调整机制，使学习率能够随迭代过程适应性变化。以下从数学角度详细描述代码的功能、数学公式以及可视化的意义。\n",
    "\n",
    "---\n",
    "\n",
    "### 1. **目标函数与梯度**\n",
    "\n",
    "#### 目标函数\n",
    "目标函数为一个简单的二次多项式：\n",
    "$$\n",
    "f(x) = 2x^2 - 8x + 1\n",
    "$$\n",
    "其梯度（导数）为：\n",
    "$$\n",
    "f'(x) = \\frac{d}{dx}(2x^2 - 8x + 1) = 4x - 8\n",
    "$$\n",
    "优化目标是找到函数的最小值点 $x^*$，满足：\n",
    "$$\n",
    "f'(x^*) = 0\n",
    "$$\n",
    "\n",
    "---\n",
    "\n",
    "### 2. **自适应学习率方法**\n",
    "\n",
    "#### 基本思想\n",
    "自适应学习率方法通过动态调整学习率，使优化在迭代过程中更加稳定，尤其在梯度变化较大的情况下能够自动减小步长。核心思想是利用梯度平方的累积信息来调整学习率。\n",
    "\n",
    "#### 数学公式\n",
    "1. **梯度平方累积更新**：\n",
    "   $$\n",
    "   r_t = \\beta r_{t-1} + (1 - \\beta) \\cdot [f'(x_t)]^2\n",
    "   $$\n",
    "   其中：\n",
    "   - $r_t$ 是第 $t$ 次迭代的梯度平方累积值；\n",
    "   - $\\beta$ 是动量因子，控制历史梯度平方的衰减速率；\n",
    "   - $f'(x_t)$ 是当前点的梯度。\n",
    "\n",
    "2. **动态学习率调整**：\n",
    "   $$\n",
    "   \\eta_t = \\frac{\\eta}{\\sqrt{r_t} + \\epsilon}\n",
    "   $$\n",
    "   其中：\n",
    "   - $\\eta$ 是初始学习率；\n",
    "   - $\\sqrt{r_t}$ 的引入避免了梯度过大时的爆炸；\n",
    "   - $\\epsilon$ 是小常数，用于防止分母为零。\n",
    "\n",
    "3. **梯度下降更新**：\n",
    "   $$\n",
    "   x_{t+1} = x_t - \\eta_t \\cdot f'(x_t)\n",
    "   $$\n",
    "\n",
    "#### 收敛条件\n",
    "- 当两次迭代的变量变化小于容差 $tol$ 时停止：\n",
    "  $$\n",
    "  |x_{t+1} - x_t| < tol\n",
    "  $$\n",
    "- 或达到最大迭代次数。\n",
    "\n",
    "---\n",
    "\n",
    "### 3. **实现过程**\n",
    "\n",
    "#### 自适应梯度下降函数\n",
    "`adaptive_gradient_descent_with_sqrt` 实现了上述算法。通过累积梯度平方值 $r_t$ 动态调整学习率，在每次迭代中优化更新路径。\n",
    "\n",
    "#### 参数说明\n",
    "- 初始点 $x_0 = 5$；\n",
    "- 初始学习率 $\\eta = 0.6$；\n",
    "- 动量因子 $\\beta = 0.9$。\n",
    "\n",
    "---\n",
    "\n",
    "### 4. **可视化自适应梯度下降过程**\n",
    "\n",
    "#### 可视化内容\n",
    "函数 `visualize_adaptive_gradient_descent_with_sqrt` 生成三个子图：\n",
    "1. **目标函数与迭代路径**：\n",
    "   - 蓝色曲线为目标函数 $f(x)$；\n",
    "   - 黑色叉点表示每次迭代的点 $(x_t, f(x_t))$；\n",
    "   - 红色连线显示了点的更新路径。\n",
    "\n",
    "2. **变量 $x_t$ 的变化**：\n",
    "   - 横轴为迭代次数，纵轴为 $x_t$ 的值；\n",
    "   - 曲线反映了 $x_t$ 随着迭代逐步逼近最优解 $x^*$ 的过程。\n",
    "\n",
    "3. **函数值 $f(x_t)$ 的变化**：\n",
    "   - 横轴为迭代次数，纵轴为 $f(x_t)$；\n",
    "   - 曲线展示了目标函数值逐渐减小并收敛到最小值的趋势。\n",
    "\n",
    "#### 自适应学习率的效果\n",
    "- 在梯度较大的区域，自适应学习率方法通过减小步长避免了不稳定的震荡；\n",
    "- 随着梯度逐渐减小，步长逐步增大，使得优化更高效。\n",
    "\n",
    "---\n",
    "\n",
    "### 5. **测试与结果**\n",
    "\n",
    "#### 理论解\n",
    "目标函数的解析解为：\n",
    "$$\n",
    "x^* = \\frac{-b}{2a} = \\frac{8}{4} = 2\n",
    "$$\n",
    "对应的最小值为：\n",
    "$$\n",
    "f(x^*) = 2(2)^2 - 8(2) + 1 = -7\n",
    "$$\n",
    "\n",
    "#### 实际结果\n",
    "代码运行结果：\n",
    "- 自适应梯度下降找到的最优点 $x^* \\approx 2$；\n",
    "- 对应的最小值 $f(x^*) \\approx -7$。\n",
    "\n",
    "结果与理论值完全一致。\n",
    "\n",
    "---\n",
    "\n",
    "### 6. **总结与应用**\n",
    "\n",
    "#### 自适应学习率的优势\n",
    "- 在梯度变化较大的区域能够自动调整步长，避免了过大的步长导致的发散；\n",
    "- 避免了学习率 $\\eta$ 需要手动调整的问题。\n",
    "\n",
    "#### 应用场景\n",
    "自适应梯度下降方法广泛应用于：\n",
    "- 深度学习优化算法（如 Adagrad、RMSProp 等）；\n",
    "- 非凸优化问题；\n",
    "- 高维复杂模型的参数调整。\n",
    "\n",
    "#### 可视化的意义\n",
    "通过动态展示迭代路径和收敛行为，可以直观地观察优化过程中学习率的调整效果及其对更新路径的影响。这种自适应方法是机器学习优化领域的重要工具之一。"
   ]
  },
  {
   "cell_type": "markdown",
   "id": "960f5cc9-1e84-44cd-b800-2c1918b92047",
   "metadata": {},
   "source": [
    "## 导入包"
   ]
  },
  {
   "cell_type": "code",
   "execution_count": 1,
   "id": "1cbb0b42-a541-47ac-89a3-ebda444293fa",
   "metadata": {},
   "outputs": [],
   "source": [
    "import numpy as np\n",
    "import matplotlib.pyplot as plt\n",
    "from sympy import symbols, diff, lambdify"
   ]
  },
  {
   "cell_type": "markdown",
   "id": "f29deb1e-1762-4012-9be9-735400d780ae",
   "metadata": {},
   "source": [
    "## 目标函数"
   ]
  },
  {
   "cell_type": "code",
   "execution_count": 2,
   "id": "498996ab-554c-4d2c-b1a9-e890faff9f61",
   "metadata": {},
   "outputs": [
    {
     "data": {
      "text/latex": [
       "$\\displaystyle 2 x^{2} - 8 x + 1$"
      ],
      "text/plain": [
       "2*x**2 - 8*x + 1"
      ]
     },
     "execution_count": 2,
     "metadata": {},
     "output_type": "execute_result"
    }
   ],
   "source": [
    "x = symbols('x')\n",
    "func = 2*x**2 - 8*x + 1\n",
    "func"
   ]
  },
  {
   "cell_type": "code",
   "execution_count": 3,
   "id": "8253c527-225d-4a3e-bc3b-0dd69206cd3e",
   "metadata": {},
   "outputs": [
    {
     "data": {
      "text/latex": [
       "$\\displaystyle 4 x - 8$"
      ],
      "text/plain": [
       "4*x - 8"
      ]
     },
     "execution_count": 3,
     "metadata": {},
     "output_type": "execute_result"
    }
   ],
   "source": [
    "grad = diff(func, x)  # 计算函数的一阶导数\n",
    "grad"
   ]
  },
  {
   "cell_type": "code",
   "execution_count": 4,
   "id": "f51f6ce3-bf2a-488a-b4b1-03224c7a90ce",
   "metadata": {},
   "outputs": [],
   "source": [
    "# 将函数和梯度转换为 Python 可执行函数\n",
    "f = lambdify(x, func, 'numpy')\n",
    "grad_f = lambdify(x, grad, 'numpy')"
   ]
  },
  {
   "cell_type": "markdown",
   "id": "d927aa6e-06da-405e-b40e-ac41410733b1",
   "metadata": {},
   "source": [
    "## 自适应学习率方法"
   ]
  },
  {
   "cell_type": "code",
   "execution_count": 5,
   "id": "6c4c612b-1910-4028-8305-9daf844c3593",
   "metadata": {},
   "outputs": [],
   "source": [
    "def adaptive_gradient_descent_with_sqrt(f, grad_f, x0, learning_rate=0.1, beta=0.9, epsilon=1e-8, max_iter=50, tol=1e-6):\n",
    "    x_vals = [x0]\n",
    "    r_t = 0  # 初始化累积的梯度平方值\n",
    "    for _ in range(max_iter):\n",
    "        grad_val = grad_f(x_vals[-1])  # 当前点的一阶导数\n",
    "        r_t = beta * r_t + (1 - beta) * (grad_val**2)  # 累积梯度平方值\n",
    "        adjusted_lr = learning_rate / (np.sqrt(r_t) + epsilon)  # 动态调整学习率\n",
    "        x_new = x_vals[-1] - adjusted_lr * grad_val  # 按调整后的学习率更新位置\n",
    "        x_vals.append(x_new)\n",
    "        if abs(x_new - x_vals[-2]) < tol:  # 如果变化小于容差，停止迭代\n",
    "            break\n",
    "    return x_vals"
   ]
  },
  {
   "cell_type": "markdown",
   "id": "f18a8931-b9cc-4318-b868-7650e5874b30",
   "metadata": {},
   "source": [
    "## 可视化自适应学习率过程和收敛"
   ]
  },
  {
   "cell_type": "code",
   "execution_count": 6,
   "id": "5a388395-ec9a-4228-9f4b-73ee53320e39",
   "metadata": {},
   "outputs": [],
   "source": [
    "def visualize_adaptive_gradient_descent_with_sqrt(f, x_vals):\n",
    "    x = np.linspace(-1, 5, 500)  # 设置绘图范围\n",
    "    y = f(x)\n",
    "\n",
    "    # 获取收敛的函数值和对应的最小值点\n",
    "    f_vals = [f(val) for val in x_vals]\n",
    "    iterations = np.arange(len(x_vals))\n",
    "\n",
    "    # 创建图像，分三行一列\n",
    "    fig, axs = plt.subplots(3, 1, figsize=(8, 6), \n",
    "                            height_ratios=[2, 1, 1],\n",
    "                            constrained_layout=True)\n",
    "\n",
    "    # 图1：目标函数及梯度下降过程\n",
    "    axs[0].plot(x, y, label=\"f(x)\", color=\"blue\")\n",
    "    axs[0].scatter(x_vals, f_vals, color=\"k\", marker = 'x', label=\"Iterations\")\n",
    "    axs[0].plot(x_vals, f_vals, linestyle=\"-\", color=\"red\", alpha=0.6)\n",
    "    axs[0].set_title(\"Gradient Descent Optimization\")\n",
    "    axs[0].set_xlabel(\"x\")\n",
    "    axs[0].set_ylabel(\"f(x)\")\n",
    "    axs[0].set_xlim(-1,5)\n",
    "    axs[0].legend()\n",
    "    axs[0].grid(True)\n",
    "\n",
    "    # 图2：收敛过程中最小值点的变化\n",
    "    axs[1].plot(iterations, x_vals, marker=\"x\", label=\"x value\", color=\"green\")\n",
    "    axs[1].set_xlabel(\"Iteration\")\n",
    "    axs[1].set_ylabel(\"Optimized x\")\n",
    "    axs[1].set_xlim(iterations.min(),iterations.max())\n",
    "    axs[1].set_xticks(np.arange(0, iterations.max(), 2))\n",
    "    axs[1].legend()\n",
    "    axs[1].grid(True)\n",
    "\n",
    "    # 图3：收敛过程中最小值点的变化\n",
    "    axs[2].plot(iterations, f_vals, marker=\"x\", label=\"f(x)\", color=\"blue\")\n",
    "    axs[2].set_xlabel(\"Iteration\")\n",
    "    axs[2].set_ylabel(\"Optimized min of f(x)\")\n",
    "    axs[2].set_xlim(iterations.min(),iterations.max())\n",
    "    axs[2].set_xticks(np.arange(0, iterations.max(), 2))\n",
    "    axs[2].legend()\n",
    "    axs[2].grid(True)"
   ]
  },
  {
   "cell_type": "markdown",
   "id": "3b8b38a9-0572-4634-bfe7-97fffb6e3988",
   "metadata": {},
   "source": [
    "## 测试自适应学习率"
   ]
  },
  {
   "cell_type": "code",
   "execution_count": 7,
   "id": "8d9df929-a7f8-47a4-93b3-f0182929670e",
   "metadata": {},
   "outputs": [],
   "source": [
    "x0 = 5  # 初始点\n",
    "learning_rate = 0.6\n",
    "x_vals = adaptive_gradient_descent_with_sqrt(f, grad_f, x0, learning_rate)"
   ]
  },
  {
   "cell_type": "code",
   "execution_count": 8,
   "id": "81f56284-dbd3-46a9-9fa2-47cf13b83271",
   "metadata": {},
   "outputs": [
    {
     "name": "stdout",
     "output_type": "stream",
     "text": [
      "自适应学习率（带开根号）找到的最小值点: 2.0000000092063397\n",
      "最小值: -7.0\n"
     ]
    }
   ],
   "source": [
    "print(f\"自适应学习率（带开根号）找到的最小值点: {x_vals[-1]}\")\n",
    "print(f\"最小值: {f(x_vals[-1])}\")"
   ]
  },
  {
   "cell_type": "markdown",
   "id": "81a667de-df9a-4ba1-8698-d67824e5fd9f",
   "metadata": {},
   "source": [
    "## 可视化"
   ]
  },
  {
   "cell_type": "code",
   "execution_count": 9,
   "id": "64582397-f9c7-44ea-912e-d37805fa7567",
   "metadata": {},
   "outputs": [
    {
     "data": {
      "image/png": "[encoded data removed]",
      "text/plain": [
       "<Figure size 800x600 with 3 Axes>"
      ]
     },
     "metadata": {},
     "output_type": "display_data"
    }
   ],
   "source": [
    "visualize_adaptive_gradient_descent_with_sqrt(f, x_vals)"
   ]
  }
 ],
 "metadata": {
  "kernelspec": {
   "display_name": "Python 3 (ipykernel)",
   "language": "python",
   "name": "python3"
  },
  "language_info": {
   "codemirror_mode": {
    "name": "ipython",
    "version": 3
   },
   "file_extension": ".py",
   "mimetype": "text/x-python",
   "name": "python",
   "nbconvert_exporter": "python",
   "pygments_lexer": "ipython3",
   "version": "3.12.7"
  }
 },
 "nbformat": 4,
 "nbformat_minor": 5
}
