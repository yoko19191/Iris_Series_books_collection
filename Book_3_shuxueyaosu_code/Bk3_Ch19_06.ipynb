{
 "cells": [
  {
   "cell_type": "markdown",
   "id": "dbc20e9b-f96a-4f29-9b36-143cd1d95d8c",
   "metadata": {},
   "source": [
    "Chapter 19\n",
    "\n",
    "# 基于梯度的数值优化\n",
    "Book_3《数学要素》 | 鸢尾花书：从加减乘除到机器学习 (第二版)"
   ]
  },
  {
   "cell_type": "markdown",
   "id": "ae3327a5-6c45-4e52-bb96-f1d651e02f65",
   "metadata": {},
   "source": [
    "这段代码实现了**梯度下降法**用于优化二次函数，并通过可视化展示了梯度下降的迭代过程和收敛行为。以下从数学角度详细描述代码的功能、数学公式以及可视化的目的。\n",
    "\n",
    "---\n",
    "\n",
    "### 1. **目标函数与数学背景**\n",
    "\n",
    "#### 目标函数\n",
    "定义目标函数为一个简单的二次多项式：\n",
    "$$\n",
    "f(x) = 2x^2 - 8x + 1\n",
    "$$\n",
    "该函数的导数（梯度）为：\n",
    "$$\n",
    "f'(x) = \\frac{d}{dx}(2x^2 - 8x + 1) = 4x - 8\n",
    "$$\n",
    "\n",
    "目标是通过数值优化方法找到函数的最小值点 $x^*$ 和最小值 $f(x^*)$。\n",
    "\n",
    "#### 梯度下降法\n",
    "梯度下降法是一种迭代优化方法，其核心思想是沿着函数梯度的负方向更新变量，以逐步逼近最优解。其更新公式为：\n",
    "$$\n",
    "x_{k+1} = x_k - \\eta f'(x_k)\n",
    "$$\n",
    "其中：\n",
    "- $x_k$ 是第 $k$ 次迭代时的变量；\n",
    "- $\\eta$ 是学习率（步长），控制更新的幅度；\n",
    "- $f'(x_k)$ 是目标函数在 $x_k$ 处的梯度。\n",
    "\n",
    "迭代终止条件是：\n",
    "1. 当前更新的变量变化小于容差 $tol$：\n",
    "   $$\n",
    "   |x_{k+1} - x_k| < tol\n",
    "   $$\n",
    "2. 达到最大迭代次数。\n",
    "\n",
    "---\n",
    "\n",
    "### 2. **梯度下降的实现**\n",
    "\n",
    "代码通过 `gradient_descent` 函数实现了上述迭代过程：\n",
    "1. 初始点为 $x_0$；\n",
    "2. 计算梯度 $f'(x_k)$，根据梯度下降公式更新变量；\n",
    "3. 若两次迭代之间的变量变化小于 $tol$，则认为收敛并终止。\n",
    "\n",
    "---\n",
    "\n",
    "### 3. **可视化梯度下降过程**\n",
    "\n",
    "#### 可视化内容\n",
    "函数 `visualize_gradient_descent_with_convergence` 生成三个子图：\n",
    "1. **目标函数及梯度下降轨迹**：\n",
    "   - 展示目标函数 $f(x)$ 的曲线；\n",
    "   - 用点标记梯度下降的迭代点 $(x_k, f(x_k))$；\n",
    "   - 连线显示迭代过程的路径。\n",
    "\n",
    "2. **变量 $x_k$ 的变化**：\n",
    "   - 绘制迭代过程中 $x_k$ 的变化图；\n",
    "   - 横轴为迭代次数，纵轴为 $x_k$ 的值，反映变量收敛到最优解的过程。\n",
    "\n",
    "3. **函数值 $f(x_k)$ 的变化**：\n",
    "   - 绘制目标函数值 $f(x_k)$ 的变化；\n",
    "   - 横轴为迭代次数，纵轴为 $f(x_k)$ 的值，反映函数值逐步逼近最小值。\n",
    "\n",
    "#### 直观分析\n",
    "- 子图 1 展示了梯度下降法如何沿着函数的下降方向逼近最优解；\n",
    "- 子图 2 和子图 3 展示了变量和目标函数值的收敛趋势。\n",
    "\n",
    "---\n",
    "\n",
    "### 4. **测试与结果**\n",
    "\n",
    "#### 初始条件\n",
    "选择初始点 $x_0 = 5$ 和学习率 $\\eta = 0.1$，进行梯度下降迭代。\n",
    "\n",
    "#### 收敛结果\n",
    "- 梯度下降找到的最小值点 $x^*$ 为：\n",
    "  $$\n",
    "  x^* = \\frac{-b}{2a} = \\frac{8}{4} = 2\n",
    "  $$\n",
    "- 对应的最小值为：\n",
    "  $$\n",
    "  f(x^*) = 2(2)^2 - 8(2) + 1 = -7\n",
    "  $$\n",
    "\n",
    "#### 实际计算结果\n",
    "代码的输出与理论值一致，表明梯度下降法有效地找到最优解。\n",
    "\n",
    "---\n",
    "\n",
    "### 5. **结论与应用**\n",
    "\n",
    "#### 梯度下降法的优点\n",
    "梯度下降法是一种高效的数值优化方法，特别适用于函数导数容易计算的场景。其收敛速度受学习率 $\\eta$ 的影响，合适的学习率可以在较少的迭代次数内逼近最优解。\n",
    "\n",
    "#### 应用场景\n",
    "梯度下降广泛应用于机器学习、数据科学和优化领域，例如：\n",
    "- 参数估计；\n",
    "- 最小化损失函数；\n",
    "- 大规模数据优化。\n",
    "\n",
    "#### 可视化意义\n",
    "通过可视化，梯度下降的过程从数值计算转化为直观的轨迹，可以更好地理解优化路径及收敛行为。本案例的函数简单明确，适合作为梯度下降法的入门示例。"
   ]
  },
  {
   "cell_type": "markdown",
   "id": "5e6215f4-6d36-45f8-afbd-ad4ebf3ad8db",
   "metadata": {},
   "source": [
    "## 导入包"
   ]
  },
  {
   "cell_type": "code",
   "execution_count": 1,
   "id": "55f34294-aab2-4a81-af2b-9920cc5a630d",
   "metadata": {},
   "outputs": [],
   "source": [
    "import numpy as np\n",
    "import matplotlib.pyplot as plt\n",
    "from sympy import symbols, diff, lambdify"
   ]
  },
  {
   "cell_type": "code",
   "execution_count": 2,
   "id": "d288c09a-f808-4f05-b79e-45fba4c409d1",
   "metadata": {},
   "outputs": [],
   "source": [
    "p = plt.rcParams  # 获取默认绘图参数\n",
    "p[\"font.sans-serif\"] = [\"Roboto\"]  # 设置无衬线字体为 Roboto\n",
    "p[\"font.weight\"] = \"light\"  # 设置字体粗细为 light\n",
    "p[\"ytick.minor.visible\"] = True  # 显示 y 轴的小刻度\n",
    "p[\"xtick.minor.visible\"] = True  # 显示 x 轴的小刻度\n",
    "p[\"axes.grid\"] = True  # 启用坐标轴网格\n",
    "p[\"grid.color\"] = \"0.5\"  # 设置网格颜色为灰色\n",
    "p[\"grid.linewidth\"] = 0.5  # 设置网格线宽度"
   ]
  },
  {
   "cell_type": "markdown",
   "id": "1dc6f93d-165b-4733-a94d-69930513639a",
   "metadata": {},
   "source": [
    "## 目标函数"
   ]
  },
  {
   "cell_type": "code",
   "execution_count": 3,
   "id": "f3b2f988-45e8-4ac4-a953-2e83166f9993",
   "metadata": {},
   "outputs": [
    {
     "data": {
      "text/latex": [
       "$\\displaystyle 2 x^{2} - 8 x + 1$"
      ],
      "text/plain": [
       "2*x**2 - 8*x + 1"
      ]
     },
     "execution_count": 3,
     "metadata": {},
     "output_type": "execute_result"
    }
   ],
   "source": [
    "x = symbols('x')\n",
    "func = 2*x**2 - 8*x + 1\n",
    "func"
   ]
  },
  {
   "cell_type": "code",
   "execution_count": 4,
   "id": "d3b5a64c-767a-4c55-b656-1a4b6bfb1140",
   "metadata": {},
   "outputs": [
    {
     "data": {
      "text/latex": [
       "$\\displaystyle 4 x - 8$"
      ],
      "text/plain": [
       "4*x - 8"
      ]
     },
     "execution_count": 4,
     "metadata": {},
     "output_type": "execute_result"
    }
   ],
   "source": [
    "grad = diff(func, x)  # 计算函数的导数\n",
    "grad"
   ]
  },
  {
   "cell_type": "code",
   "execution_count": 5,
   "id": "d9a797e6-40c6-459a-9882-23e5f23cbb18",
   "metadata": {},
   "outputs": [],
   "source": [
    "# 将函数和梯度转换为 Python 可执行函数"
   ]
  },
  {
   "cell_type": "code",
   "execution_count": 6,
   "id": "a1234e36-8d19-4e59-9948-8ba8023c98ce",
   "metadata": {},
   "outputs": [],
   "source": [
    "f = lambdify(x, func, 'numpy')\n",
    "grad_f = lambdify(x, grad, 'numpy')"
   ]
  },
  {
   "cell_type": "markdown",
   "id": "cd92c383-e564-4360-895d-4e57ddbbe6a1",
   "metadata": {},
   "source": [
    "## 梯度下降实现"
   ]
  },
  {
   "cell_type": "code",
   "execution_count": 7,
   "id": "74329343-03f9-435e-af78-e1ae09dba001",
   "metadata": {},
   "outputs": [],
   "source": [
    "def gradient_descent(f, grad_f, x0, learning_rate=0.1, max_iter=50, tol=1e-6):\n",
    "    x_vals = [x0]\n",
    "    for _ in range(max_iter):\n",
    "        grad_val = grad_f(x_vals[-1])  # 计算当前点的梯度\n",
    "        x_new = x_vals[-1] - learning_rate * grad_val  # 按梯度更新\n",
    "        x_vals.append(x_new)\n",
    "        if abs(x_new - x_vals[-2]) < tol:  # 如果变化小于容差，停止迭代\n",
    "            break\n",
    "    return x_vals"
   ]
  },
  {
   "cell_type": "markdown",
   "id": "91f4a406-8f6c-4ac9-80be-8ea75e54e33e",
   "metadata": {},
   "source": [
    "## 可视化梯度下降过程和收敛"
   ]
  },
  {
   "cell_type": "code",
   "execution_count": 8,
   "id": "a53c819b-209b-4d38-8161-1fa3c7367c20",
   "metadata": {},
   "outputs": [],
   "source": [
    "def visualize_gradient_descent_with_convergence(f, x_vals):\n",
    "    x = np.linspace(-1, 5, 500)  # 设置绘图范围\n",
    "    y = f(x)\n",
    "\n",
    "    # 获取收敛的函数值和对应的最小值点\n",
    "    f_vals = [f(val) for val in x_vals]\n",
    "    iterations = np.arange(len(x_vals))\n",
    "\n",
    "    # 创建图像，分三行一列\n",
    "    fig, axs = plt.subplots(3, 1, figsize=(8, 6), \n",
    "                            height_ratios=[2, 1, 1],\n",
    "                            constrained_layout=True)\n",
    "\n",
    "    # 图1：目标函数及梯度下降过程\n",
    "    axs[0].plot(x, y, label=\"f(x)\", color=\"blue\")\n",
    "    axs[0].scatter(x_vals, f_vals, color=\"k\", marker = 'x', label=\"Iterations\")\n",
    "    axs[0].plot(x_vals, f_vals, linestyle=\"-\", color=\"red\", alpha=0.6)\n",
    "    axs[0].set_title(\"Gradient Descent Optimization\")\n",
    "    axs[0].set_xlabel(\"x\")\n",
    "    axs[0].set_ylabel(\"f(x)\")\n",
    "    axs[0].set_xlim(-1,5)\n",
    "    axs[0].legend()\n",
    "    axs[0].grid(True)\n",
    "\n",
    "    # 图2：收敛过程中最小值点的变化\n",
    "    axs[1].plot(iterations, x_vals, marker=\"x\", label=\"x value\", color=\"green\")\n",
    "    axs[1].set_xlabel(\"Iteration\")\n",
    "    axs[1].set_ylabel(\"Optimized x\")\n",
    "    axs[1].legend()\n",
    "    axs[1].set_xlim(iterations.min(),iterations.max())\n",
    "    axs[1].grid(True)\n",
    "\n",
    "    # 图3：收敛过程中最小值点的变化\n",
    "    axs[2].plot(iterations, f_vals, marker=\"x\", label=\"f(x)\", color=\"blue\")\n",
    "    axs[2].set_xlabel(\"Iteration\")\n",
    "    axs[2].set_ylabel(\"Optimized min of f(x)\")\n",
    "    axs[2].legend()\n",
    "    axs[2].set_xlim(iterations.min(),iterations.max())\n",
    "    axs[2].grid(True)\n",
    "    \n",
    "    plt.show()"
   ]
  },
  {
   "cell_type": "markdown",
   "id": "37025be4-c340-492d-9f49-c4b01474c041",
   "metadata": {},
   "source": [
    "## 测试梯度下降"
   ]
  },
  {
   "cell_type": "code",
   "execution_count": 9,
   "id": "3a7d1357-c6f3-4e3b-8e09-e8624f8c826a",
   "metadata": {},
   "outputs": [],
   "source": [
    "x0 = 5  # 初始点\n",
    "learning_rate = 0.1\n",
    "x_vals = gradient_descent(f, grad_f, x0, learning_rate)"
   ]
  },
  {
   "cell_type": "code",
   "execution_count": 10,
   "id": "da38369e-7bd3-44a6-86cc-0a92a309ef3b",
   "metadata": {},
   "outputs": [
    {
     "name": "stdout",
     "output_type": "stream",
     "text": [
      "梯度下降找到的最小值点: 2.0000011053695985\n",
      "最小值: -6.999999999997556\n"
     ]
    }
   ],
   "source": [
    "print(f\"梯度下降找到的最小值点: {x_vals[-1]}\")\n",
    "print(f\"最小值: {f(x_vals[-1])}\")"
   ]
  },
  {
   "cell_type": "markdown",
   "id": "964d72ff-3924-47f7-8553-b51162108d1d",
   "metadata": {},
   "source": [
    "## 可视化"
   ]
  },
  {
   "cell_type": "code",
   "execution_count": 11,
   "id": "3e42211c-a864-420e-ae8c-1ca413a24eb3",
   "metadata": {},
   "outputs": [
    {
     "data": {
      "image/png": "[encoded data removed]",
      "text/plain": [
       "<Figure size 800x600 with 3 Axes>"
      ]
     },
     "metadata": {},
     "output_type": "display_data"
    }
   ],
   "source": [
    "visualize_gradient_descent_with_convergence(f, x_vals)"
   ]
  }
 ],
 "metadata": {
  "kernelspec": {
   "display_name": "Python 3 (ipykernel)",
   "language": "python",
   "name": "python3"
  },
  "language_info": {
   "codemirror_mode": {
    "name": "ipython",
    "version": 3
   },
   "file_extension": ".py",
   "mimetype": "text/x-python",
   "name": "python",
   "nbconvert_exporter": "python",
   "pygments_lexer": "ipython3",
   "version": "3.12.7"
  }
 },
 "nbformat": 4,
 "nbformat_minor": 5
}
