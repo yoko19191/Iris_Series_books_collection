{
 "cells": [
  {
   "cell_type": "markdown",
   "id": "73bd968b-d970-4a05-94ef-4e7abf990827",
   "metadata": {},
   "source": [
    "Chapter 22\n",
    "\n",
    "# 平面向量\n",
    "Book_3《数学要素》 | 鸢尾花书：从加减乘除到机器学习 (第二版)"
   ]
  },
  {
   "cell_type": "markdown",
   "id": "0a5c76bd-9ede-4699-8065-efaf63e04290",
   "metadata": {},
   "source": [
    "这段代码使用向量的可视化来展示二维平面上向量的分解与合成。具体来说，给定一个向量 $ \\vec{a} = [4, 3] $，代码将其表示为两个单位向量 $ \\vec{i} = [1, 0] $ 和 $ \\vec{j} = [0, 1] $ 的线性组合。根据向量的定义，$ \\vec{a} $ 可以表示为：\n",
    "\n",
    "$$\n",
    "\\vec{a} = 4 \\cdot \\vec{i} + 3 \\cdot \\vec{j}\n",
    "$$\n",
    "\n",
    "其中，$ 4 \\cdot \\vec{i} $ 表示 $ \\vec{i} $ 在 $ x $ 方向上被放大 4 倍，$ 3 \\cdot \\vec{j} $ 表示 $ \\vec{j} $ 在 $ y $ 方向上被放大 3 倍。因此，$ \\vec{a} $ 可以视为由这两个放大的向量组合而成。\n",
    "\n",
    "代码分步绘制了单位向量 $ \\vec{i} $ 和 $ \\vec{j} $ 及其放大版本 $ 4\\cdot\\vec{i} $ 和 $ 3\\cdot\\vec{j} $，并用颜色区分它们。最终，代码展示了合成的向量 $ \\vec{a} $，其终点坐标为 (4,3)。通过这些向量的分解与组合，我们可以观察到二维空间中向量的构成关系，并理解如何通过基向量来表示任意向量的位置。"
   ]
  },
  {
   "cell_type": "markdown",
   "id": "a9802d9e-7c46-4d92-9974-9001f626fb78",
   "metadata": {},
   "source": [
    "## 导入包"
   ]
  },
  {
   "cell_type": "code",
   "execution_count": 1,
   "id": "1c3fe49d-3eb4-49c4-9339-20bf14cccd0a",
   "metadata": {},
   "outputs": [],
   "source": [
    "import numpy as np\n",
    "import matplotlib.pyplot as plt"
   ]
  },
  {
   "cell_type": "markdown",
   "id": "9f656d5a-344a-4d94-bfb8-957ffeb0605d",
   "metadata": {},
   "source": [
    "## 从原点绘制向量的函数"
   ]
  },
  {
   "cell_type": "code",
   "execution_count": 2,
   "id": "e984b3b8-681b-40db-93e2-e4a1e36b5786",
   "metadata": {},
   "outputs": [],
   "source": [
    "def draw_vector(vector, RBG, label):  \n",
    "    array = np.array([[0, 0, vector[0], vector[1]]])  # 向量的起点与终点坐标\n",
    "    X, Y, U, V = zip(*array)\n",
    "    plt.quiver(X, Y, U, V, angles='xy', scale_units='xy', scale=1, color=RBG)  # 绘制向量\n",
    "    \n",
    "    # 添加标签显示向量坐标\n",
    "    label = label + f\" ({vector[0]},{vector[1]})\"\n",
    "    plt.annotate(label,  \n",
    "                 (vector[0], vector[1]),  \n",
    "                 textcoords=\"offset points\",  \n",
    "                 xytext=(0, 10),  \n",
    "                 ha='center')  "
   ]
  },
  {
   "cell_type": "markdown",
   "id": "78d3cd36-8dd3-4d45-a1ca-919438804e3a",
   "metadata": {},
   "source": [
    "## 定义向量"
   ]
  },
  {
   "cell_type": "code",
   "execution_count": 3,
   "id": "3d1fd6bf-ed7b-415f-9d24-3186c0e71af1",
   "metadata": {},
   "outputs": [],
   "source": [
    "a = np.array([4, 3])  # 向量 a\n",
    "i = np.array([1, 0])  # 单位向量 i\n",
    "j = np.array([0, 1])  # 单位向量 j"
   ]
  },
  {
   "cell_type": "markdown",
   "id": "5e00e36b-e4e3-44ff-a1f8-912feacba209",
   "metadata": {},
   "source": [
    "## 可视化"
   ]
  },
  {
   "cell_type": "code",
   "execution_count": 4,
   "id": "86b40f87-dd53-42d8-b66a-1e550ef25f8e",
   "metadata": {},
   "outputs": [
    {
     "data": {
      "image/png": "[encoded data removed]",
      "text/plain": [
       "<Figure size 640x480 with 1 Axes>"
      ]
     },
     "metadata": {},
     "output_type": "display_data"
    }
   ],
   "source": [
    "fig, ax = plt.subplots()\n",
    "\n",
    "draw_vector(4*i, np.array([0, 112, 192])/255, '4i')  # 绘制 4i 向量\n",
    "draw_vector(3*j, np.array([255, 0, 0])/255, '3j')    # 绘制 3j 向量\n",
    "\n",
    "draw_vector(i, np.array([0, 112, 192])/255, 'i')     # 绘制单位向量 i\n",
    "draw_vector(j, np.array([255, 0, 0])/255, 'j')       # 绘制单位向量 j\n",
    "\n",
    "draw_vector(a, np.array([146, 208, 80])/255, 'a')    # 绘制向量 a\n",
    "\n",
    "plt.xlabel('$x$')  # 设置 x 轴标签\n",
    "plt.ylabel('$y$')  # 设置 y 轴标签\n",
    "\n",
    "plt.axis('scaled')\n",
    "ax.set_xlim([0, 5])  # 设置 x 轴范围\n",
    "ax.set_ylim([0, 5])  # 设置 y 轴范围\n",
    "ax.grid(linestyle='--', linewidth=0.25, color=[0.5, 0.5, 0.5])  # 设置网格线\n",
    "plt.show()"
   ]
  },
  {
   "cell_type": "code",
   "execution_count": null,
   "id": "85a80909-2aac-49ed-bb7a-f8cc6b80ee7d",
   "metadata": {},
   "outputs": [],
   "source": []
  },
  {
   "cell_type": "code",
   "execution_count": null,
   "id": "ecd322f4-f919-4be2-adc3-69d28ef25e69",
   "metadata": {},
   "outputs": [],
   "source": []
  }
 ],
 "metadata": {
  "kernelspec": {
   "display_name": "Python 3 (ipykernel)",
   "language": "python",
   "name": "python3"
  },
  "language_info": {
   "codemirror_mode": {
    "name": "ipython",
    "version": 3
   },
   "file_extension": ".py",
   "mimetype": "text/x-python",
   "name": "python",
   "nbconvert_exporter": "python",
   "pygments_lexer": "ipython3",
   "version": "3.12.7"
  }
 },
 "nbformat": 4,
 "nbformat_minor": 5
}
