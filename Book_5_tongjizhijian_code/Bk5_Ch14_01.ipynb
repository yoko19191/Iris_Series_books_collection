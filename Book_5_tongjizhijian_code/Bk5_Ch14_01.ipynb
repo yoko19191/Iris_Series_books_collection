{
 "cells": [
  {
   "cell_type": "markdown",
   "id": "73bd968b-d970-4a05-94ef-4e7abf990827",
   "metadata": {},
   "source": [
    "Chapter 14\n",
    "\n",
    "# 随机变量向量投影\n",
    "Book_5《统计至简》 | 鸢尾花书：从加减乘除到机器学习 (第二版)"
   ]
  },
  {
   "cell_type": "markdown",
   "id": "6393ac55-fc2b-4bee-a75f-d13888e67fab",
   "metadata": {},
   "source": [
    "此代码使用鸢尾花数据集的萼片长度和宽度特征，通过投影和马氏距离的度量来研究数据的分布和标准正态概率密度函数的投影。\n",
    "\n",
    "### 数据准备和马氏距离网格\n",
    "首先，代码从 `seaborn` 库中加载鸢尾花数据集，并选择其中两个特征（萼片长度 $x_1$ 和宽度 $x_2$）来分析。这些特征用于构建二维马氏距离网格，以显示数据在均值的标准差范围内的分布。这里马氏距离度量公式为：\n",
    "\n",
    "$$ d_M(\\mathbf{z}) = \\sqrt{(\\mathbf{z} - \\mathbf{\\mu})^T \\Sigma^{-1} (\\mathbf{z} - \\mathbf{\\mu})} $$\n",
    "\n",
    "### 投影和旋转\n",
    "定义投影方向 $\\theta$ （单位向量 $v_1$）作为主要分析方向，使得特征投影更符合数据的方差最大方向。投影方向确定后，利用 $v_1$ 构造矩阵 $T_1$ 以进行向量的投影。计算投影后的均值 $\\mu_1$ 和标准差 $\\sigma_1$。利用以下公式计算一维正态分布的概率密度函数（PDF）：\n",
    "\n",
    "$$ f(x) = \\frac{1}{\\sigma \\sqrt{2 \\pi}} e^{-\\frac{(x - \\mu)^2}{2 \\sigma^2}} $$\n",
    "\n",
    "生成的 PDF 数组使用旋转矩阵 $R$ 投影回二维坐标系以显示在数据散点图上。\n",
    "\n",
    "### 可视化\n",
    "代码展示了以下几个要素：\n",
    "1. **数据点**：使用 `scatterplot` 显示每个数据点的位置。\n",
    "2. **投影结果**：投影后的数据点和投影路径显示了每个点如何映射到投影方向。\n",
    "3. **马氏距离轮廓**：轮廓显示了与数据均值等距离的点，其中使用马氏距离标准差的轮廓线 $d_M = 1, 2, 3$。\n",
    "4. **概率密度函数**：绘制了数据沿投影方向的一维 PDF 曲线，以显示数据分布。\n",
    "\n",
    "通过这些步骤，此代码展示了如何使用二维马氏距离和投影方法在二维空间中研究数据的方向性分布。"
   ]
  },
  {
   "cell_type": "code",
   "execution_count": 1,
   "id": "c77cd147-78d8-4864-9481-777c1f2a685d",
   "metadata": {
    "tags": []
   },
   "outputs": [],
   "source": [
    "import numpy as np  # 导入数值计算库numpy\n",
    "import matplotlib.pyplot as plt  # 导入绘图库matplotlib\n",
    "import pandas as pd  # 导入数据处理库pandas\n",
    "import seaborn as sns  # 导入绘图库seaborn\n",
    "from sklearn.datasets import load_iris  # 导入鸢尾花数据集\n",
    "from sklearn.covariance import EmpiricalCovariance  # 导入协方差估计方法\n",
    "from numpy import linalg as LA  # 导入线性代数库"
   ]
  },
  {
   "cell_type": "markdown",
   "id": "a220eee2-1b76-45de-8b2d-f2e20906b4e6",
   "metadata": {
    "tags": []
   },
   "source": [
    "## 加载鸢尾花数据集"
   ]
  },
  {
   "cell_type": "code",
   "execution_count": 2,
   "id": "9f1f3c29-f4b1-4a79-b4b4-4d59af8d089c",
   "metadata": {
    "tags": []
   },
   "outputs": [],
   "source": [
    "iris_sns = sns.load_dataset(\"iris\")  # 加载seaborn提供的鸢尾花数据集"
   ]
  },
  {
   "cell_type": "markdown",
   "id": "eb849b46-00fb-48ee-b9b8-276c2cb8a06b",
   "metadata": {
    "tags": []
   },
   "source": [
    "## 定义一维正态分布概率密度函数"
   ]
  },
  {
   "cell_type": "code",
   "execution_count": 3,
   "id": "5b2c1187-722a-4fc5-bc5e-1d7f2e1eab27",
   "metadata": {
    "tags": []
   },
   "outputs": [],
   "source": [
    "def normal_pdf_1d(x, mu, sigma):\n",
    "    # 计算正态分布概率密度函数\n",
    "    scaling = 1 / sigma / np.sqrt(2 * np.pi)  # 计算缩放系数\n",
    "    z = (x - mu) / sigma  # 计算标准化变量\n",
    "    pdf = scaling * np.exp(-z**2 / 2)  # 计算概率密度\n",
    "    return pdf  # 返回概率密度"
   ]
  },
  {
   "cell_type": "markdown",
   "id": "d77a7ec1-d779-4476-83bb-33e46abd0d38",
   "metadata": {
    "tags": []
   },
   "source": [
    "## 绘制向量的函数"
   ]
  },
  {
   "cell_type": "code",
   "execution_count": 4,
   "id": "0c644a7d-69a4-494e-97d0-968084ad6bc8",
   "metadata": {
    "tags": []
   },
   "outputs": [],
   "source": [
    "def draw_vector(vector, RBG):  \n",
    "    # 绘制向量的函数\n",
    "    array = np.array([[0, 0, vector[0], vector[1]]], dtype=object)  # 定义向量的起点和终点\n",
    "    X, Y, U, V = zip(*array)  # 解压向量\n",
    "    plt.quiver(X, Y, U, V, angles='xy', scale_units='xy', scale=1, color=RBG)  # 绘制向量"
   ]
  },
  {
   "cell_type": "markdown",
   "id": "cbb0f231-5cf7-49e9-a337-6fe448b0eb58",
   "metadata": {
    "tags": []
   },
   "source": [
    "## 数据准备"
   ]
  },
  {
   "cell_type": "code",
   "execution_count": 5,
   "id": "91a59626-b90e-4f87-a17b-ba49c86ffa90",
   "metadata": {
    "tags": []
   },
   "outputs": [],
   "source": [
    "X = iris_sns.to_numpy()  # 将数据集转换为numpy数组\n",
    "X = np.array(X[:, :4])  # 提取前4列特征数据\n",
    "x1 = X[:, :2]  # 提取前两列特征\n",
    "x1 = np.array(x1, dtype=float)  # 将特征数据转换为浮点数格式"
   ]
  },
  {
   "cell_type": "markdown",
   "id": "af0718ae-bba7-44a6-bf0d-a69a92f5e8cb",
   "metadata": {
    "tags": []
   },
   "source": [
    "## 马氏距离网格计算"
   ]
  },
  {
   "cell_type": "code",
   "execution_count": 6,
   "id": "6db9a308-96a2-4a25-bd22-d27ac714f9e5",
   "metadata": {
    "tags": []
   },
   "outputs": [],
   "source": [
    "xx_maha, yy_maha = np.meshgrid(  # 创建网格用于马氏距离计算\n",
    "    np.linspace(0, 10, 400), np.linspace(0, 10, 400))  \n",
    "zz_maha = np.c_[xx_maha.ravel(), yy_maha.ravel()]  # 将网格数据整合为坐标对\n",
    "\n",
    "emp_cov_Xc = EmpiricalCovariance().fit(x1)  # 计算经验协方差\n",
    "mahal_sq_Xc = emp_cov_Xc.mahalanobis(zz_maha)  # 计算马氏平方距离\n",
    "\n",
    "mahal_sq_Xc = mahal_sq_Xc.reshape(xx_maha.shape)  # 将距离数据重塑为网格形状\n",
    "mahal_d_Xc = np.sqrt(mahal_sq_Xc)  # 计算马氏距离"
   ]
  },
  {
   "cell_type": "markdown",
   "id": "b15d7afb-2723-4247-88ff-5f148af2790e",
   "metadata": {
    "tags": []
   },
   "source": [
    "## 数据投影和可视化"
   ]
  },
  {
   "cell_type": "code",
   "execution_count": 7,
   "id": "bfb2feba-4565-4b91-94d6-835a8f5c92e2",
   "metadata": {
    "tags": []
   },
   "outputs": [
    {
     "name": "stdout",
     "output_type": "stream",
     "text": [
      "====================\n",
      "theta = -5\n"
     ]
    }
   ],
   "source": [
    "theta = -5  # 设置投影角度\n",
    "print('====================')\n",
    "print('theta = ' + str(theta))\n",
    "theta = theta * np.pi / 180  # 将角度转换为弧度\n",
    "\n",
    "v1 = np.array([[np.cos(theta)], [np.sin(theta)]])  # 定义投影向量\n",
    "\n",
    "T1 = v1 @ v1.T  # 投影矩阵\n",
    "\n",
    "z1_2D = x1 @ T1  # 将数据投影到二维\n",
    "\n",
    "z1_1D = x1 @ v1  # 将数据投影到一维"
   ]
  },
  {
   "cell_type": "markdown",
   "id": "4cb58098-f220-4cf1-9bfa-c26f83d0cc21",
   "metadata": {
    "tags": []
   },
   "source": [
    "## 计算投影数据的均值和标准差"
   ]
  },
  {
   "cell_type": "code",
   "execution_count": 8,
   "id": "ad44ac9e-1316-4f0f-83f2-90de1ec25556",
   "metadata": {
    "tags": []
   },
   "outputs": [
    {
     "name": "stdout",
     "output_type": "stream",
     "text": [
      "mu1 = 5.554633528355593\n",
      "std1 = 0.8302388779001714\n",
      "var1 = 0.6892965943769356\n"
     ]
    }
   ],
   "source": [
    "mu1 = z1_1D.mean()  # 计算均值\n",
    "std1 = z1_1D.std(ddof=1)  # 计算标准差\n",
    "var1 = z1_1D.var(ddof=1)  # 计算方差\n",
    "\n",
    "print('mu1 = ' + str(mu1))\n",
    "print('std1 = ' + str(std1))\n",
    "print('var1 = ' + str(var1))\n",
    "\n",
    "x1_array = np.linspace(mu1 - 4 * std1, mu1 + 4 * std1, 100)  # 生成x轴数据范围\n",
    "\n",
    "R1 = np.array([[np.cos(theta), np.sin(theta)],  # 构建旋转矩阵\n",
    "               [-np.sin(theta), np.cos(theta)]])\n",
    "\n",
    "pdf1_array = normal_pdf_1d(x1_array, mu1, std1)  # 计算一维正态分布概率密度\n",
    "PDF1 = np.column_stack((x1_array, pdf1_array))  # 组合PDF数据\n",
    "\n",
    "PDF1_v1 = PDF1 @ R1  # 投影PDF到二维"
   ]
  },
  {
   "cell_type": "code",
   "execution_count": 9,
   "id": "46286796-e650-4cff-ad2a-474eb52db9df",
   "metadata": {
    "tags": []
   },
   "outputs": [
    {
     "data": {
      "image/png": "[encoded data removed]",
      "text/plain": [
       "<Figure size 640x480 with 1 Axes>"
      ]
     },
     "metadata": {},
     "output_type": "display_data"
    }
   ],
   "source": [
    "fig, ax = plt.subplots()  # 创建绘图窗口\n",
    "\n",
    "plt.contourf(xx_maha, yy_maha, mahal_d_Xc, cmap='Blues_r', levels=np.linspace(0, 4, 21))  # 绘制马氏距离等高填充图\n",
    "plt.contour(xx_maha, yy_maha, mahal_d_Xc, colors='k', levels=[1, 2, 3])  # 绘制马氏距离等高线\n",
    "\n",
    "# 绘制鸢尾花数据散点图\n",
    "ax = sns.scatterplot(x=x1[:, 0], y=x1[:, 1])  # 绘制x1数据的散点图\n",
    "\n",
    "# 投影线\n",
    "plt.plot(z1_2D[:, 0], z1_2D[:, 1], marker='x', markersize=8, color='b')  # 绘制二维投影数据\n",
    "plt.plot(([i for (i, j) in z1_2D], [i for (i, j) in x1]),\n",
    "         ([j for (i, j) in z1_2D], [j for (i, j) in x1]), c=[0.6, 0.6, 0.6])  # 绘制投影连线\n",
    "\n",
    "plt.plot((-10, 10), (-10 * np.tan(theta), 10 * np.tan(theta)), c='k')  # 绘制投影线\n",
    "\n",
    "# 绘制投影PDF曲线\n",
    "plt.plot(PDF1_v1[:, 0], PDF1_v1[:, 1], color='b')  # 绘制PDF曲线\n",
    "\n",
    "# 绘制数据中心和投影中心\n",
    "plt.plot(x1[:, 0].mean(), x1[:, 1].mean(), marker='x', color='k', markersize=18)  # 绘制数据中心点\n",
    "plt.plot(z1_2D[:, 0].mean(), z1_2D[:, 1].mean(), marker='x', color='b', markersize=18)  # 绘制投影中心点\n",
    "\n",
    "# 绘制投影向量\n",
    "draw_vector(v1, 'b')  # 绘制向量v1\n",
    "\n",
    "ax.axvline(x=0, c='k')  # 绘制x轴\n",
    "ax.axhline(y=0, c='k')  # 绘制y轴\n",
    "\n",
    "# 设置坐标轴标签\n",
    "ax.set_xlabel('Sepal length, $x_1$ (cm)')\n",
    "ax.set_ylabel('Sepal width, $x_2$ (cm)')\n",
    "ax.set_xticks(np.arange(0, 8 + 1, step=1))  # 设置x轴刻度\n",
    "ax.set_yticks(np.arange(0, 8 + 1, step=1))  # 设置y轴刻度\n",
    "ax.axis('scaled')  # 设置坐标轴比例\n",
    "ax.set_xbound(lower=-10, upper=10)  # 设置x轴范围\n",
    "ax.set_ybound(lower=-10, upper=10)  # 设置y轴范围"
   ]
  },
  {
   "cell_type": "code",
   "execution_count": null,
   "id": "85a80909-2aac-49ed-bb7a-f8cc6b80ee7d",
   "metadata": {},
   "outputs": [],
   "source": []
  },
  {
   "cell_type": "code",
   "execution_count": null,
   "id": "ecd322f4-f919-4be2-adc3-69d28ef25e69",
   "metadata": {},
   "outputs": [],
   "source": []
  }
 ],
 "metadata": {
  "kernelspec": {
   "display_name": "Python 3 (ipykernel)",
   "language": "python",
   "name": "python3"
  },
  "language_info": {
   "codemirror_mode": {
    "name": "ipython",
    "version": 3
   },
   "file_extension": ".py",
   "mimetype": "text/x-python",
   "name": "python",
   "nbconvert_exporter": "python",
   "pygments_lexer": "ipython3",
   "version": "3.12.7"
  }
 },
 "nbformat": 4,
 "nbformat_minor": 5
}
