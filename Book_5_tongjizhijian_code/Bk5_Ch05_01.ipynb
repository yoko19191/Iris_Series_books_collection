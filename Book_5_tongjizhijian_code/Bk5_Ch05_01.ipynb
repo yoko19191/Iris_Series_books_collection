{
 "cells": [
  {
   "cell_type": "markdown",
   "id": "73bd968b-d970-4a05-94ef-4e7abf990827",
   "metadata": {},
   "source": [
    "Chapter 05\n",
    "\n",
    "# 离散均匀分布\n",
    "Book_5《统计至简》 | 鸢尾花书：从加减乘除到机器学习 (第二版)"
   ]
  },
  {
   "cell_type": "markdown",
   "id": "c700dff2-757b-4a4d-b395-845d772f14f3",
   "metadata": {},
   "source": [
    "该代码计算并可视化了离散均匀分布的概率质量函数（PMF）以及该分布的期望值。首先定义离散均匀分布的上下限 \\(a=1\\) 和 \\(b=6\\)，生成对应的数值范围 \\(x\\)，并利用 `scipy.stats` 计算每个取值的概率。接下来，根据公式计算期望值，并在图中标注该期望值的垂线位置。\n",
    "\n",
    "期望值公式为：\n",
    "$$ E(X) = \\sum_{i} x_i \\cdot p_X(x_i) $$"
   ]
  },
  {
   "cell_type": "code",
   "execution_count": 1,
   "id": "0e2048fb-5b5f-49e8-85c1-ca391ce4a0aa",
   "metadata": {},
   "outputs": [],
   "source": [
    "import numpy as np\n",
    "import matplotlib.pyplot as plt\n",
    "from scipy.stats import randint"
   ]
  },
  {
   "cell_type": "markdown",
   "id": "3dc49cb5-98f4-46ee-a673-96b56ef8904c",
   "metadata": {},
   "source": [
    "## 定义离散均匀分布的范围"
   ]
  },
  {
   "cell_type": "code",
   "execution_count": 2,
   "id": "123cf2a0-7a18-4946-9422-5ba33d98eef1",
   "metadata": {},
   "outputs": [],
   "source": [
    "a = 1 # 离散均匀分布的下界\n",
    "b = 6 # 离散均匀分布的上界"
   ]
  },
  {
   "cell_type": "code",
   "execution_count": 3,
   "id": "ff5a0aab-523d-47f8-96f5-22dba9f1a4ab",
   "metadata": {},
   "outputs": [],
   "source": [
    "x = np.arange(a, b+1) # 生成离散均匀分布的取值范围"
   ]
  },
  {
   "cell_type": "code",
   "execution_count": 4,
   "id": "63646ec4-f35e-4a25-b128-94c632165cf6",
   "metadata": {},
   "outputs": [],
   "source": [
    "discrete_uniform = randint(a, b+1) # 定义离散均匀分布"
   ]
  },
  {
   "cell_type": "code",
   "execution_count": 5,
   "id": "3ef59a97-9c1a-4d08-b682-aec706088777",
   "metadata": {},
   "outputs": [],
   "source": [
    "p_x = discrete_uniform.pmf(x) # 计算每个取值的概率质量函数 (PMF)"
   ]
  },
  {
   "cell_type": "code",
   "execution_count": 6,
   "id": "f5274c8f-a9fb-43c1-9d74-5c16fdd9a824",
   "metadata": {},
   "outputs": [],
   "source": [
    "E_x = np.sum(p_x * x) # 计算期望值"
   ]
  },
  {
   "cell_type": "markdown",
   "id": "faef8380-f613-4dc4-9d75-77ec51db9fd7",
   "metadata": {},
   "source": [
    "## 绘制PMF和期望值的可视化图"
   ]
  },
  {
   "cell_type": "code",
   "execution_count": 7,
   "id": "bdd816e3-a751-499d-aa94-5133745c82da",
   "metadata": {},
   "outputs": [
    {
     "data": {
      "text/plain": [
       "(0.0, 0.2)"
      ]
     },
     "execution_count": 7,
     "metadata": {},
     "output_type": "execute_result"
    },
    {
     "data": {
      "image/png": "[encoded data removed]",
      "text/plain": [
       "<Figure size 640x480 with 1 Axes>"
      ]
     },
     "metadata": {},
     "output_type": "display_data"
    }
   ],
   "source": [
    "fig, ax = plt.subplots() # 创建图形窗口\n",
    "\n",
    "plt.stem(x, p_x) # 绘制PMF的茎叶图\n",
    "plt.axvline(x=E_x, color='r', linestyle='--') # 在期望值处添加垂直线\n",
    "\n",
    "plt.xticks(np.arange(a, b+1)) # 设置x轴刻度\n",
    "plt.xlabel('x') # 设置x轴标签\n",
    "plt.ylabel('PMF, $p_X(x)$') # 设置y轴标签\n",
    "plt.ylim([0, 0.2]) # 设置y轴范围"
   ]
  },
  {
   "cell_type": "code",
   "execution_count": null,
   "id": "ecd322f4-f919-4be2-adc3-69d28ef25e69",
   "metadata": {},
   "outputs": [],
   "source": []
  }
 ],
 "metadata": {
  "kernelspec": {
   "display_name": "Python 3 (ipykernel)",
   "language": "python",
   "name": "python3"
  },
  "language_info": {
   "codemirror_mode": {
    "name": "ipython",
    "version": 3
   },
   "file_extension": ".py",
   "mimetype": "text/x-python",
   "name": "python",
   "nbconvert_exporter": "python",
   "pygments_lexer": "ipython3",
   "version": "3.12.7"
  }
 },
 "nbformat": 4,
 "nbformat_minor": 5
}
