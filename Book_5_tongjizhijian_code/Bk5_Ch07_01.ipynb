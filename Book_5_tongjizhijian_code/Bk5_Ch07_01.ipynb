{
 "cells": [
  {
   "cell_type": "markdown",
   "id": "73bd968b-d970-4a05-94ef-4e7abf990827",
   "metadata": {},
   "source": [
    "Chapter 07\n",
    "\n",
    "# 连续均匀分布\n",
    "Book_5《统计至简》 | 鸢尾花书：从加减乘除到机器学习 (第二版)"
   ]
  },
  {
   "cell_type": "markdown",
   "id": "f5b90227-3728-4718-b9a0-2547d946bcc5",
   "metadata": {},
   "source": [
    "\n",
    "\n",
    "这段代码在区间 $[a, b]$ 上生成了均匀分布的随机数据，展示了该数据的概率密度函数（PDF）和累积分布函数（CDF）。具体步骤包括：\n",
    "\n",
    "1. **生成均匀分布随机数据**：在区间 $[a, b]$ 上生成 $n$ 个服从均匀分布 $U(a, b)$ 的随机数据。这表示在区间 $[a, b]$ 上，每个点出现的概率是相同的。\n",
    "\n",
    "2. **绘制概率密度函数（PDF）和地毯图**：\n",
    "   - **PDF** 描述数据在不同区间的概率密度。代码中使用 `sns.histplot` 绘制了直方图来近似表示均匀分布的 PDF，参数 `bins=20` 划分了 20 个柱状条，以更好地展示数据分布。\n",
    "   - **地毯图**（Rug Plot）用来标记每个数据点在轴上的具体位置，帮助更直观地观察数据的离散分布。\n",
    "\n",
    "3. **绘制经验累积分布函数（Empirical CDF）**：\n",
    "   - **经验 CDF**（Empirical CDF）是通过逐步累计样本数据的比例得到的函数。代码通过设置 `cumulative=True` 和 `stat=\"density\"` 参数实现了 CDF 的绘制。该图展示了随机数据分布的累计情况，横轴表示变量 $x$，纵轴表示 CDF 值。\n",
    "\n",
    "### 数学表达式\n",
    "\n",
    "- **均匀分布的概率密度函数（PDF）**：\n",
    "\n",
    "  对于区间 $[a, b]$ 上的均匀分布 $U(a, b)$，其 PDF 定义为：\n",
    "\n",
    "  $$ \n",
    "  f(x) = \\frac{1}{b - a}, \\quad a \\leq x \\leq b \n",
    "  $$\n",
    "\n",
    "  该函数表示在区间 $[a, b]$ 内的所有点上，概率密度为 $\\frac{1}{b - a}$，因此均匀分布的 PDF 图形是一条水平线。\n",
    "\n",
    "- **均匀分布的累积分布函数（CDF）**：\n",
    "\n",
    "  均匀分布的 CDF 定义如下：\n",
    "\n",
    "  $$\n",
    "  F(x) = \\begin{cases} \n",
    "      0, & x < a \\\\\n",
    "      \\frac{x - a}{b - a}, & a \\leq x \\leq b \\\\\n",
    "      1, & x > b \n",
    "   \\end{cases} \n",
    "  $$\n",
    "\n",
    "  该函数表示 $x$ 的累积分布情况：当 $x$ 位于 $a$ 左侧时，CDF 值为 0；当 $x$ 位于 $b$ 右侧时，CDF 值为 1；而在 $[a, b]$ 内，CDF 值随 $x$ 的增大而线性增加。"
   ]
  },
  {
   "cell_type": "code",
   "execution_count": 1,
   "id": "7f98fd10-d805-4434-aa20-771d740ecfaa",
   "metadata": {},
   "outputs": [],
   "source": [
    "import numpy as np\n",
    "import matplotlib.pyplot as plt\n",
    "import seaborn as sns"
   ]
  },
  {
   "cell_type": "code",
   "execution_count": 2,
   "id": "f27807e6-4b30-48c7-bba2-b00669d26cd4",
   "metadata": {},
   "outputs": [],
   "source": [
    "a = 0  # 区间左端点\n",
    "b = 10  # 区间右端点\n",
    "num_data = 500  # 数据点数量"
   ]
  },
  {
   "cell_type": "code",
   "execution_count": 3,
   "id": "de0e4275-fefe-4dce-9794-ecde64dd4232",
   "metadata": {},
   "outputs": [],
   "source": [
    "random_data = np.random.uniform(a, b, num_data)  # 在区间[a, b]生成均匀分布的随机数据"
   ]
  },
  {
   "cell_type": "markdown",
   "id": "cb9f6665-f7ca-4e4c-b0d6-324ec680c133",
   "metadata": {},
   "source": [
    "## 直方图与地毯图绘制"
   ]
  },
  {
   "cell_type": "code",
   "execution_count": 4,
   "id": "4a585c83-654a-4a0a-a443-1f1cc5aa25dc",
   "metadata": {},
   "outputs": [
    {
     "data": {
      "text/plain": [
       "([<matplotlib.axis.XTick at 0x1fd4c674bf0>,\n",
       "  <matplotlib.axis.XTick at 0x1fd4c674b90>,\n",
       "  <matplotlib.axis.XTick at 0x1fd4c62c890>,\n",
       "  <matplotlib.axis.XTick at 0x1fd47444350>,\n",
       "  <matplotlib.axis.XTick at 0x1fd4c6fd550>,\n",
       "  <matplotlib.axis.XTick at 0x1fd4c6fce90>],\n",
       " [Text(0, 0, '0'),\n",
       "  Text(2, 0, '2'),\n",
       "  Text(4, 0, '4'),\n",
       "  Text(6, 0, '6'),\n",
       "  Text(8, 0, '8'),\n",
       "  Text(10, 0, '10')])"
      ]
     },
     "execution_count": 4,
     "metadata": {},
     "output_type": "execute_result"
    },
    {
     "data": {
      "image/png": "[encoded data removed]",
      "text/plain": [
       "<Figure size 640x480 with 1 Axes>"
      ]
     },
     "metadata": {},
     "output_type": "display_data"
    }
   ],
   "source": [
    "fig, ax = plt.subplots()  # 创建绘图区域\n",
    "sns.histplot(random_data, bins=20, ax=ax)  # 绘制直方图\n",
    "sns.rugplot(random_data, ax=ax)  # 绘制地毯图\n",
    "\n",
    "plt.xlabel('x')  # 设置X轴标签\n",
    "plt.ylabel('Count')  # 设置Y轴标签\n",
    "plt.gca().spines['right'].set_visible(False)  # 隐藏右边框线\n",
    "plt.gca().spines['top'].set_visible(False)  # 隐藏上边框线\n",
    "plt.gca().yaxis.set_ticks_position('left')  # Y轴刻度在左侧\n",
    "plt.gca().xaxis.set_ticks_position('bottom')  # X轴刻度在下方\n",
    "plt.xlim(a, b)  # 设置X轴范围\n",
    "plt.xticks([0, 2, 4, 6, 8, 10])  # 设置X轴刻度"
   ]
  },
  {
   "cell_type": "markdown",
   "id": "04622e82-b347-4bc1-9439-c0810d18f4dd",
   "metadata": {},
   "source": [
    "## 经验累积分布函数（CDF）绘制"
   ]
  },
  {
   "cell_type": "code",
   "execution_count": 5,
   "id": "466b5d23-3838-463c-bb5c-663296bf8cef",
   "metadata": {},
   "outputs": [
    {
     "data": {
      "text/plain": [
       "([<matplotlib.axis.XTick at 0x1fd4c7869c0>,\n",
       "  <matplotlib.axis.XTick at 0x1fd4c786930>,\n",
       "  <matplotlib.axis.XTick at 0x1fd4c726120>,\n",
       "  <matplotlib.axis.XTick at 0x1fd4c769ca0>,\n",
       "  <matplotlib.axis.XTick at 0x1fd4ce962a0>,\n",
       "  <matplotlib.axis.XTick at 0x1fd4ce96750>],\n",
       " [Text(0, 0, '0'),\n",
       "  Text(2, 0, '2'),\n",
       "  Text(4, 0, '4'),\n",
       "  Text(6, 0, '6'),\n",
       "  Text(8, 0, '8'),\n",
       "  Text(10, 0, '10')])"
      ]
     },
     "execution_count": 5,
     "metadata": {},
     "output_type": "execute_result"
    },
    {
     "data": {
      "image/png": "[encoded data removed]",
      "text/plain": [
       "<Figure size 640x480 with 1 Axes>"
      ]
     },
     "metadata": {},
     "output_type": "display_data"
    }
   ],
   "source": [
    "fig, ax = plt.subplots()  # 创建新绘图区域\n",
    "sns.histplot(random_data, bins=20, fill=True, \n",
    "             cumulative=True, stat=\"density\")  # 绘制累积密度的直方图\n",
    "\n",
    "plt.xlabel('x')  # 设置X轴标签\n",
    "plt.ylabel('Empirical CDF')  # 设置Y轴标签\n",
    "plt.gca().spines['right'].set_visible(False)  # 隐藏右边框线\n",
    "plt.gca().spines['top'].set_visible(False)  # 隐藏上边框线\n",
    "plt.gca().yaxis.set_ticks_position('left')  # Y轴刻度在左侧\n",
    "plt.gca().xaxis.set_ticks_position('bottom')  # X轴刻度在下方\n",
    "plt.xlim(a, b)  # 设置X轴范围\n",
    "plt.xticks([0, 2, 4, 6, 8, 10])  # 设置X轴刻度\n"
   ]
  },
  {
   "cell_type": "code",
   "execution_count": null,
   "id": "85a80909-2aac-49ed-bb7a-f8cc6b80ee7d",
   "metadata": {},
   "outputs": [],
   "source": []
  },
  {
   "cell_type": "code",
   "execution_count": null,
   "id": "ecd322f4-f919-4be2-adc3-69d28ef25e69",
   "metadata": {},
   "outputs": [],
   "source": []
  }
 ],
 "metadata": {
  "kernelspec": {
   "display_name": "Python 3 (ipykernel)",
   "language": "python",
   "name": "python3"
  },
  "language_info": {
   "codemirror_mode": {
    "name": "ipython",
    "version": 3
   },
   "file_extension": ".py",
   "mimetype": "text/x-python",
   "name": "python",
   "nbconvert_exporter": "python",
   "pygments_lexer": "ipython3",
   "version": "3.12.7"
  }
 },
 "nbformat": 4,
 "nbformat_minor": 5
}
