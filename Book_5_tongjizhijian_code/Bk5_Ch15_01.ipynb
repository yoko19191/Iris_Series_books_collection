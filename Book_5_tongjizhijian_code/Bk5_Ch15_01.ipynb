{
 "cells": [
  {
   "cell_type": "markdown",
   "id": "73bd968b-d970-4a05-94ef-4e7abf990827",
   "metadata": {},
   "source": [
    "Chapter 15\n",
    "\n",
    "# 估算根号2\n",
    "Book_5《统计至简》 | 鸢尾花书：从加减乘除到机器学习 (第二版)"
   ]
  },
  {
   "cell_type": "markdown",
   "id": "1936c7aa-56b0-425c-89b6-6566ef71ed83",
   "metadata": {},
   "source": [
    "该代码通过蒙特卡罗方法估计 $\\sqrt{2}$，并计算估计值的误差。其主要步骤如下：\n",
    "\n",
    "1. **生成随机数**：从均匀分布中生成 $[0,1]$ 区间的随机数，放缩到 $[0,2]$ 范围，共生成 $1,000,000$ 个随机样本，即 $x = 2 \\times \\text{Uniform}(0,1)$。\n",
    "\n",
    "2. **计算平方**：对这些样本的平方进行计算，即 $x_{\\text{sq}} = x^2$。\n",
    "\n",
    "3. **判断条件**：对于每个样本，检查其平方是否小于等于 2，构造布尔数组 `makers`，其中满足条件的位置为 `True`。\n",
    "\n",
    "4. **估计 $\\sqrt{2}$**：利用以下公式估计 $\\sqrt{2}$：\n",
    "   $$\n",
    "   \\text{估计值} = 2 \\times \\frac{\\text{满足条件的样本数}}{\\text{总样本数}}\n",
    "   $$\n",
    "   即估计值为满足条件样本占总样本比例的两倍。\n",
    "\n",
    "5. **计算误差**：估计误差通过计算估计值与真实值 $\\sqrt{2}$ 的百分比误差得到：\n",
    "   $$\n",
    "   \\text{误差} = \\frac{\\text{估计值} - \\sqrt{2}}{\\sqrt{2}} \\times 100\\%\n",
    "   $$\n"
   ]
  },
  {
   "cell_type": "code",
   "execution_count": 1,
   "id": "c7668b14-eaec-4571-bb0d-74c163c211e0",
   "metadata": {
    "tags": []
   },
   "outputs": [],
   "source": [
    "import numpy as np\n",
    "import matplotlib.pyplot as plt"
   ]
  },
  {
   "cell_type": "markdown",
   "id": "6d765950-8bc7-4578-806a-3905370d7921",
   "metadata": {
    "tags": []
   },
   "source": [
    "## 使用蒙特卡罗方法估计平方根"
   ]
  },
  {
   "cell_type": "code",
   "execution_count": 2,
   "id": "a38514e6-0b38-4450-afd5-a7ccea537198",
   "metadata": {
    "tags": []
   },
   "outputs": [],
   "source": [
    "# 生成 1,000,000 个在 [0,2) 区间内的随机数\n",
    "x = 2 * np.random.uniform(0, 1, 1000000)"
   ]
  },
  {
   "cell_type": "code",
   "execution_count": 3,
   "id": "011a506d-6923-40e9-a4bf-0e0c2a512f4e",
   "metadata": {
    "tags": []
   },
   "outputs": [],
   "source": [
    "# 计算每个随机数的平方\n",
    "x_sq = x**2"
   ]
  },
  {
   "cell_type": "code",
   "execution_count": 4,
   "id": "d4c16a53-dc64-49bb-88a0-12759231df04",
   "metadata": {
    "tags": []
   },
   "outputs": [],
   "source": [
    "# 标记满足条件 x^2 <= 2 的随机数\n",
    "makers = (x_sq <= 2)"
   ]
  },
  {
   "cell_type": "code",
   "execution_count": 5,
   "id": "a9a7369b-504b-4b86-80aa-a31ed52e443b",
   "metadata": {
    "tags": []
   },
   "outputs": [
    {
     "data": {
      "text/plain": [
       "1.415092"
      ]
     },
     "execution_count": 5,
     "metadata": {},
     "output_type": "execute_result"
    }
   ],
   "source": [
    "# 计算 sqrt(2) 的估计值\n",
    "est_sqrt_2 = 2 * np.sum(makers) / len(x_sq)\n",
    "est_sqrt_2"
   ]
  },
  {
   "cell_type": "code",
   "execution_count": 6,
   "id": "c2bc997c-16d4-4a91-915a-974a16716ee8",
   "metadata": {
    "tags": []
   },
   "outputs": [
    {
     "data": {
      "text/plain": [
       "0.062114920283385264"
      ]
     },
     "execution_count": 6,
     "metadata": {},
     "output_type": "execute_result"
    }
   ],
   "source": [
    "# 计算估计值与实际值的百分比误差\n",
    "err = (est_sqrt_2 - np.sqrt(2)) / np.sqrt(2) * 100\n",
    "err"
   ]
  },
  {
   "cell_type": "code",
   "execution_count": null,
   "id": "85a80909-2aac-49ed-bb7a-f8cc6b80ee7d",
   "metadata": {},
   "outputs": [],
   "source": []
  },
  {
   "cell_type": "code",
   "execution_count": null,
   "id": "ecd322f4-f919-4be2-adc3-69d28ef25e69",
   "metadata": {},
   "outputs": [],
   "source": []
  }
 ],
 "metadata": {
  "kernelspec": {
   "display_name": "Python 3 (ipykernel)",
   "language": "python",
   "name": "python3"
  },
  "language_info": {
   "codemirror_mode": {
    "name": "ipython",
    "version": 3
   },
   "file_extension": ".py",
   "mimetype": "text/x-python",
   "name": "python",
   "nbconvert_exporter": "python",
   "pygments_lexer": "ipython3",
   "version": "3.12.7"
  }
 },
 "nbformat": 4,
 "nbformat_minor": 5
}
