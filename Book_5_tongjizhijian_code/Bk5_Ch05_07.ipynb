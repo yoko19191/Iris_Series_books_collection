{
 "cells": [
  {
   "cell_type": "markdown",
   "id": "73bd968b-d970-4a05-94ef-4e7abf990827",
   "metadata": {},
   "source": [
    "Chapter 05\n",
    "\n",
    "# 超几何分布\n",
    "Book_5《统计至简》 | 鸢尾花书：从加减乘除到机器学习 (第二版)"
   ]
  },
  {
   "cell_type": "markdown",
   "id": "00af5613-78be-4dc4-af97-98f08127a7d3",
   "metadata": {},
   "source": [
    "该代码计算并可视化超几何分布的概率质量函数 (PMF)。设定总体 \\(N = 50\\)（例如50只动物），其中包含特定种类（如兔子）的数量 \\(K = 15\\)，每次抽取 \\(n = 20\\) 个样本，且抽样不放回。代码利用超几何分布的 PMF 计算在20次抽样中得到兔子数目的概率分布，并绘制其 PMF 图。\n",
    "\n",
    "超几何分布的概率质量函数为：\n",
    "$$\n",
    "P(X = x) = \\frac{\\binom{K}{x} \\binom{N-K}{n-x}}{\\binom{N}{n}}\n",
    "$$\n",
    "其中 \\( X \\) 为样本中特定种类（如兔子）的个数。"
   ]
  },
  {
   "cell_type": "code",
   "execution_count": 1,
   "id": "928cec2a-eeed-46d9-bca6-1f3b09a70efe",
   "metadata": {},
   "outputs": [],
   "source": [
    "from scipy.stats import hypergeom\n",
    "import matplotlib.pyplot as plt\n",
    "import numpy as np"
   ]
  },
  {
   "cell_type": "markdown",
   "id": "34b08dcf-93c3-4d54-a969-674565464eed",
   "metadata": {},
   "source": [
    "## 定义超几何分布的参数"
   ]
  },
  {
   "cell_type": "code",
   "execution_count": 2,
   "id": "3966c817-6ec0-4cbc-bdb2-4903949c5431",
   "metadata": {},
   "outputs": [],
   "source": [
    "N = 50 # 总体数量，例如动物总数为50\n",
    "K = 15 # 特定种类数量，例如兔子数量为15\n",
    "n = 20 # 抽样数量，例如抽取20个样本"
   ]
  },
  {
   "cell_type": "code",
   "execution_count": 3,
   "id": "76fd0aea-caa9-4e64-86aa-966f06ea3fc8",
   "metadata": {},
   "outputs": [],
   "source": [
    "hyper_g = hypergeom(N, K, n) # 定义超几何分布"
   ]
  },
  {
   "cell_type": "code",
   "execution_count": 4,
   "id": "0f61fa0b-7c0b-4eb8-b480-3fd0ea49ee16",
   "metadata": {},
   "outputs": [],
   "source": [
    "x_array = np.arange(np.maximum(0, n + K - N), np.minimum(K, n) + 1) # 计算可能的x取值范围"
   ]
  },
  {
   "cell_type": "code",
   "execution_count": 5,
   "id": "ae9fe744-eea8-472b-ad2f-3399524ab14f",
   "metadata": {},
   "outputs": [],
   "source": [
    "pmf_rabbits = hyper_g.pmf(x_array) # 计算x的PMF，即得到特定种类数量的概率"
   ]
  },
  {
   "cell_type": "markdown",
   "id": "cefb8e97-7559-418a-8c71-78928bb96d71",
   "metadata": {},
   "source": [
    "## 绘制PMF"
   ]
  },
  {
   "cell_type": "code",
   "execution_count": 6,
   "id": "d50e591d-1b96-4c93-8d9f-fc588ebf4f29",
   "metadata": {},
   "outputs": [
    {
     "data": {
      "text/plain": [
       "([<matplotlib.axis.XTick at 0x1b2776f12b0>,\n",
       "  <matplotlib.axis.XTick at 0x1b2776f1280>,\n",
       "  <matplotlib.axis.XTick at 0x1b2774d2120>,\n",
       "  <matplotlib.axis.XTick at 0x1b2776b9970>],\n",
       " [Text(0, 0, '0'), Text(5, 0, '5'), Text(10, 0, '10'), Text(15, 0, '15')])"
      ]
     },
     "execution_count": 6,
     "metadata": {},
     "output_type": "execute_result"
    },
    {
     "data": {
      "image/png": "[encoded data removed]",
      "text/plain": [
       "<Figure size 640x480 with 1 Axes>"
      ]
     },
     "metadata": {},
     "output_type": "display_data"
    }
   ],
   "source": [
    "fig, ax = plt.subplots() # 创建绘图窗口\n",
    "\n",
    "plt.stem(x_array, pmf_rabbits) # 绘制PMF的茎叶图\n",
    "\n",
    "plt.xlabel('x') # 设置x轴标签\n",
    "plt.ylabel('PMF') # 设置y轴标签\n",
    "plt.gca().spines['right'].set_visible(False) # 隐藏右边框\n",
    "plt.gca().spines['top'].set_visible(False) # 隐藏上边框\n",
    "plt.gca().yaxis.set_ticks_position('left') # y轴刻度在左侧\n",
    "plt.gca().xaxis.set_ticks_position('bottom') # x轴刻度在底部\n",
    "plt.xlim(x_array.min(), x_array.max()) # 设置x轴范围\n",
    "plt.ylim(0, pmf_rabbits.max()) # 设置y轴范围\n",
    "plt.xticks([0, 5, 10, 15]) # 设置x轴刻度"
   ]
  },
  {
   "cell_type": "code",
   "execution_count": null,
   "id": "85a80909-2aac-49ed-bb7a-f8cc6b80ee7d",
   "metadata": {},
   "outputs": [],
   "source": []
  },
  {
   "cell_type": "code",
   "execution_count": null,
   "id": "ecd322f4-f919-4be2-adc3-69d28ef25e69",
   "metadata": {},
   "outputs": [],
   "source": []
  }
 ],
 "metadata": {
  "kernelspec": {
   "display_name": "Python 3 (ipykernel)",
   "language": "python",
   "name": "python3"
  },
  "language_info": {
   "codemirror_mode": {
    "name": "ipython",
    "version": 3
   },
   "file_extension": ".py",
   "mimetype": "text/x-python",
   "name": "python",
   "nbconvert_exporter": "python",
   "pygments_lexer": "ipython3",
   "version": "3.12.7"
  }
 },
 "nbformat": 4,
 "nbformat_minor": 5
}
