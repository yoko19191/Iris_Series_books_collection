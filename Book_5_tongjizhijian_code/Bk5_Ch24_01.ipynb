{
 "cells": [
  {
   "cell_type": "markdown",
   "id": "73bd968b-d970-4a05-94ef-4e7abf990827",
   "metadata": {},
   "source": [
    "Chapter 24\n",
    "\n",
    "# 回归直线和椭圆\n",
    "Book_5《统计至简》 | 鸢尾花书：从加减乘除到机器学习 (第二版)"
   ]
  },
  {
   "cell_type": "markdown",
   "id": "5157eb5e-11b5-4a0f-b795-3dbc0df7daf6",
   "metadata": {},
   "source": [
    "该代码使用鸢尾花数据集，通过可视化展示萼片长度（$sepal\\ length$）和花瓣长度（$petal\\ length$）之间的关系，并绘制回归线、协方差椭圆以及相关的统计三角形。代码首先计算萼片长度和花瓣长度的均值 $\\mu_x$ 和 $\\mu_y$、标准差 $\\sigma_x$ 和 $\\sigma_y$、协方差 $\\text{cov}_{xy}$，以及相关系数 $\\rho_{xy}$，然后用这些统计量生成可视化。\n",
    "\n",
    "1. **回归线**：根据公式\n",
    "   $$\n",
    "   y = \\mu_y + \\frac{\\rho_{xy} \\sigma_y}{\\sigma_x} (x - \\mu_x)\n",
    "   $$\n",
    "   计算线性回归方程，并绘制回归线展示 $x$ 对 $y$ 的线性预测关系。\n",
    "\n",
    "2. **三角形表示协方差结构**：通过画一个三角形展示数据的均值及标准差位置。三角形的顶点分别位于 $(\\mu_x, \\mu_y)$、$(\\mu_x + \\sigma_x, \\mu_y)$、以及 $(\\mu_x + \\sigma_x, \\mu_y + \\rho_{xy} \\sigma_y)$，以图示萼片和花瓣长度的协方差结构。\n",
    "\n",
    "3. **协方差椭圆**：在中心点 $(\\mu_x, \\mu_y)$ 周围绘制协方差椭圆，展示数据的分布及其一标准差内的区域。椭圆由以下方程定义：\n",
    "   $$\n",
    "   \\frac{(x - \\mu_x)^2}{\\sigma_x^2} - 2 \\rho \\frac{(x - \\mu_x)(y - \\mu_y)}{\\sigma_x \\sigma_y} + \\frac{(y - \\mu_y)^2}{\\sigma_y^2} = 1\n",
    "   $$\n",
    "   椭圆的边界为一标准差区域，用以可视化数据的分布趋势和方向。"
   ]
  },
  {
   "cell_type": "markdown",
   "id": "79709ea1-9ae9-4a85-a380-c0de561e8059",
   "metadata": {
    "tags": []
   },
   "source": [
    "## 导入所需的库"
   ]
  },
  {
   "cell_type": "code",
   "execution_count": 1,
   "id": "b45a2a13-c0cf-4aff-8fba-bf474a465762",
   "metadata": {
    "tags": []
   },
   "outputs": [],
   "source": [
    "import numpy as np  # 导入数值计算库NumPy\n",
    "import matplotlib.pyplot as plt  # 导入绘图库Matplotlib\n",
    "import pandas as pd  # 导入数据处理库Pandas\n",
    "import seaborn as sns  # 导入数据可视化库Seaborn\n",
    "from sklearn.datasets import load_iris  # 导入数据集加载函数"
   ]
  },
  {
   "cell_type": "markdown",
   "id": "06a974a4-2657-4c19-8e11-8fd1e312686b",
   "metadata": {
    "tags": []
   },
   "source": [
    "## 加载鸢尾花数据集"
   ]
  },
  {
   "cell_type": "code",
   "execution_count": 2,
   "id": "6de86d90-b238-4feb-ac2c-0e24b09c1076",
   "metadata": {
    "tags": []
   },
   "outputs": [],
   "source": [
    "iris_sns = sns.load_dataset(\"iris\")  # 使用Seaborn加载自带的iris数据集"
   ]
  },
  {
   "cell_type": "code",
   "execution_count": 3,
   "id": "cbf611f3-83f7-4816-b728-7d1f6f37a87f",
   "metadata": {},
   "outputs": [
    {
     "data": {
      "text/html": [
       "<div>\n",
       "<style scoped>\n",
       "    .dataframe tbody tr th:only-of-type {\n",
       "        vertical-align: middle;\n",
       "    }\n",
       "\n",
       "    .dataframe tbody tr th {\n",
       "        vertical-align: top;\n",
       "    }\n",
       "\n",
       "    .dataframe thead th {\n",
       "        text-align: right;\n",
       "    }\n",
       "</style>\n",
       "<table border=\"1\" class=\"dataframe\">\n",
       "  <thead>\n",
       "    <tr style=\"text-align: right;\">\n",
       "      <th></th>\n",
       "      <th>sepal_length</th>\n",
       "      <th>sepal_width</th>\n",
       "      <th>petal_length</th>\n",
       "      <th>petal_width</th>\n",
       "      <th>species</th>\n",
       "    </tr>\n",
       "  </thead>\n",
       "  <tbody>\n",
       "    <tr>\n",
       "      <th>0</th>\n",
       "      <td>5.1</td>\n",
       "      <td>3.5</td>\n",
       "      <td>1.4</td>\n",
       "      <td>0.2</td>\n",
       "      <td>setosa</td>\n",
       "    </tr>\n",
       "    <tr>\n",
       "      <th>1</th>\n",
       "      <td>4.9</td>\n",
       "      <td>3.0</td>\n",
       "      <td>1.4</td>\n",
       "      <td>0.2</td>\n",
       "      <td>setosa</td>\n",
       "    </tr>\n",
       "    <tr>\n",
       "      <th>2</th>\n",
       "      <td>4.7</td>\n",
       "      <td>3.2</td>\n",
       "      <td>1.3</td>\n",
       "      <td>0.2</td>\n",
       "      <td>setosa</td>\n",
       "    </tr>\n",
       "    <tr>\n",
       "      <th>3</th>\n",
       "      <td>4.6</td>\n",
       "      <td>3.1</td>\n",
       "      <td>1.5</td>\n",
       "      <td>0.2</td>\n",
       "      <td>setosa</td>\n",
       "    </tr>\n",
       "    <tr>\n",
       "      <th>4</th>\n",
       "      <td>5.0</td>\n",
       "      <td>3.6</td>\n",
       "      <td>1.4</td>\n",
       "      <td>0.2</td>\n",
       "      <td>setosa</td>\n",
       "    </tr>\n",
       "    <tr>\n",
       "      <th>...</th>\n",
       "      <td>...</td>\n",
       "      <td>...</td>\n",
       "      <td>...</td>\n",
       "      <td>...</td>\n",
       "      <td>...</td>\n",
       "    </tr>\n",
       "    <tr>\n",
       "      <th>145</th>\n",
       "      <td>6.7</td>\n",
       "      <td>3.0</td>\n",
       "      <td>5.2</td>\n",
       "      <td>2.3</td>\n",
       "      <td>virginica</td>\n",
       "    </tr>\n",
       "    <tr>\n",
       "      <th>146</th>\n",
       "      <td>6.3</td>\n",
       "      <td>2.5</td>\n",
       "      <td>5.0</td>\n",
       "      <td>1.9</td>\n",
       "      <td>virginica</td>\n",
       "    </tr>\n",
       "    <tr>\n",
       "      <th>147</th>\n",
       "      <td>6.5</td>\n",
       "      <td>3.0</td>\n",
       "      <td>5.2</td>\n",
       "      <td>2.0</td>\n",
       "      <td>virginica</td>\n",
       "    </tr>\n",
       "    <tr>\n",
       "      <th>148</th>\n",
       "      <td>6.2</td>\n",
       "      <td>3.4</td>\n",
       "      <td>5.4</td>\n",
       "      <td>2.3</td>\n",
       "      <td>virginica</td>\n",
       "    </tr>\n",
       "    <tr>\n",
       "      <th>149</th>\n",
       "      <td>5.9</td>\n",
       "      <td>3.0</td>\n",
       "      <td>5.1</td>\n",
       "      <td>1.8</td>\n",
       "      <td>virginica</td>\n",
       "    </tr>\n",
       "  </tbody>\n",
       "</table>\n",
       "<p>150 rows × 5 columns</p>\n",
       "</div>"
      ],
      "text/plain": [
       "     sepal_length  sepal_width  petal_length  petal_width    species\n",
       "0             5.1          3.5           1.4          0.2     setosa\n",
       "1             4.9          3.0           1.4          0.2     setosa\n",
       "2             4.7          3.2           1.3          0.2     setosa\n",
       "3             4.6          3.1           1.5          0.2     setosa\n",
       "4             5.0          3.6           1.4          0.2     setosa\n",
       "..            ...          ...           ...          ...        ...\n",
       "145           6.7          3.0           5.2          2.3  virginica\n",
       "146           6.3          2.5           5.0          1.9  virginica\n",
       "147           6.5          3.0           5.2          2.0  virginica\n",
       "148           6.2          3.4           5.4          2.3  virginica\n",
       "149           5.9          3.0           5.1          1.8  virginica\n",
       "\n",
       "[150 rows x 5 columns]"
      ]
     },
     "execution_count": 3,
     "metadata": {},
     "output_type": "execute_result"
    }
   ],
   "source": [
    "iris_sns"
   ]
  },
  {
   "cell_type": "markdown",
   "id": "ad51be3b-9d74-48c4-8428-9c8e0b26cdc9",
   "metadata": {
    "tags": []
   },
   "source": [
    "## 计算协方差矩阵和相关系数矩阵"
   ]
  },
  {
   "cell_type": "code",
   "execution_count": 4,
   "id": "6f1106af-f40b-4a59-9a9a-8242ea64fef6",
   "metadata": {
    "tags": []
   },
   "outputs": [],
   "source": [
    "SIGMA = iris_sns.iloc[:, :4].cov()  # 计算协方差矩阵\n",
    "CORR = iris_sns.iloc[:, :4].corr()  # 计算相关系数矩阵\n",
    "SIGMA = np.array(SIGMA)  # 转换为NumPy数组格式\n",
    "CORR = np.array(CORR)  # 转换为NumPy数组格式"
   ]
  },
  {
   "cell_type": "markdown",
   "id": "72e0d4c7-b24a-4774-9848-d32033d099b3",
   "metadata": {
    "tags": []
   },
   "source": [
    "## 提取Sepal length和Petal length的协方差、均值和标准差"
   ]
  },
  {
   "cell_type": "code",
   "execution_count": 5,
   "id": "280bb5df-df74-4061-8ef9-08af969ba72d",
   "metadata": {
    "tags": []
   },
   "outputs": [],
   "source": [
    "SIGMA_13 = SIGMA[[0, 2], :][:, [0, 2]]  # 提取sepal_length和petal_length的协方差矩阵\n",
    "rho_x_y = CORR[0, 2]  # sepal_length和petal_length的相关系数\n",
    "sigma_x = iris_sns['sepal_length'].std()  # 计算sepal_length的标准差\n",
    "sigma_y = iris_sns['petal_length'].std()  # 计算petal_length的标准差\n",
    "cov_xy = SIGMA_13[0, 1]  # 获取sepal_length和petal_length的协方差\n",
    "\n",
    "mu_x = iris_sns['sepal_length'].mean()  # 计算sepal_length的均值\n",
    "mu_y = iris_sns['petal_length'].mean()  # 计算petal_length的均值"
   ]
  },
  {
   "cell_type": "markdown",
   "id": "21a5c5bc-2c99-43dc-8f56-e6fbef0da33c",
   "metadata": {
    "tags": []
   },
   "source": [
    "## 回归直线计算"
   ]
  },
  {
   "cell_type": "code",
   "execution_count": 6,
   "id": "fd7341df-f412-4cde-88bc-7b15293abc6c",
   "metadata": {
    "tags": []
   },
   "outputs": [],
   "source": [
    "x_array = np.linspace(4, 8, 10)  # 生成从4到8的等间距数据点\n",
    "y_reg_array = mu_y + rho_x_y * sigma_y / sigma_x * (x_array - mu_x)  # 计算回归直线的y值"
   ]
  },
  {
   "cell_type": "markdown",
   "id": "1b7e7bbd-8bd5-4bad-a7bf-a4120515a9b9",
   "metadata": {
    "tags": []
   },
   "source": [
    "## 绘制散点图与回归直线"
   ]
  },
  {
   "cell_type": "code",
   "execution_count": 7,
   "id": "adba5c9b-8b63-435c-9ef4-af2ac14896bf",
   "metadata": {
    "tags": []
   },
   "outputs": [
    {
     "data": {
      "text/plain": [
       "<matplotlib.contour.QuadContourSet at 0x1d40fb84050>"
      ]
     },
     "execution_count": 7,
     "metadata": {},
     "output_type": "execute_result"
    },
    {
     "data": {
      "image/png": "[encoded data removed]",
      "text/plain": [
       "<Figure size 640x480 with 1 Axes>"
      ]
     },
     "metadata": {},
     "output_type": "display_data"
    }
   ],
   "source": [
    "fig, ax = plt.subplots()  # 创建绘图窗口\n",
    "\n",
    "# 绘制散点图和数据分布边际分布\n",
    "ax = sns.scatterplot(data=iris_sns, x=\"sepal_length\", y=\"petal_length\")  \n",
    "sns.rugplot(data=iris_sns, x=\"sepal_length\", y=\"petal_length\", ax=ax)\n",
    "\n",
    "# 绘制三角形区域\n",
    "triangle = np.array([[mu_x, mu_y], \n",
    "                     [mu_x + sigma_x, mu_y], \n",
    "                     [mu_x + sigma_x, mu_y + rho_x_y * sigma_y]])  # 三角形顶点\n",
    "t1 = plt.Polygon(triangle, color='#DBEEF3')  # 创建三角形区域\n",
    "plt.gca().add_patch(t1)  # 添加三角形到图中\n",
    "\n",
    "# 绘制回归直线\n",
    "plt.plot(x_array, y_reg_array, color='r')  # 绘制回归直线\n",
    "\n",
    "# 绘制平均值与标准差的辅助线\n",
    "\n",
    "plt.axvline(x=mu_x, linestyle='--', color='k')  # 绘制sepal_length的均值虚线\n",
    "plt.axvline(x=mu_x - sigma_x, linestyle='--', color='k')  # sepal_length均值减去一个标准差\n",
    "plt.axvline(x=mu_x + sigma_x, linestyle='--', color='k')  # sepal_length均值加上一个标准差\n",
    "\n",
    "plt.axhline(y=mu_y, linestyle='--', color='k')  # 绘制petal_length的均值虚线\n",
    "plt.axhline(y=mu_y + sigma_y * rho_x_y, linestyle='--', color='k')  # petal_length的均值加上相关系数倍数的标准差\n",
    "plt.axhline(y=mu_y + sigma_y, linestyle='--', color='k')  # petal_length均值加上一个标准差\n",
    "plt.axhline(y=mu_y - sigma_y, linestyle='--', color='k')  # petal_length均值减去一个标准差\n",
    "\n",
    "plt.plot(mu_x, mu_y, color='k', marker='x', markersize=15)  # 绘制均值点的标记\n",
    "\n",
    "# 设置轴标签和刻度\n",
    "\n",
    "ax.set_xlabel('Sepal length, $x$ (cm)')  # 设置x轴标签\n",
    "ax.set_ylabel('Petal length, $y$ (cm)')  # 设置y轴标签\n",
    "ax.set_xticks(np.arange(3, 9 + 1, step=1))  # 设置x轴的刻度\n",
    "ax.set_yticks(np.arange(1, 7 + 1, step=1))  # 设置y轴的刻度\n",
    "\n",
    "ax.axis('scaled')  # 坐标轴缩放为等比例\n",
    "ax.grid(linestyle='--', linewidth=0.25, color=[0.7, 0.7, 0.7])  # 设置网格样式\n",
    "\n",
    "ax.set_xbound(lower=3, upper=9)  # 设置x轴显示范围\n",
    "ax.set_ybound(lower=1, upper=7)  # 设置y轴显示范围\n",
    "\n",
    "# 绘制相关椭圆\n",
    "\n",
    "x = np.linspace(4, 8, num=201)  # 生成x方向的点\n",
    "y = np.linspace(1, 7, num=201)  # 生成y方向的点\n",
    "\n",
    "xx, yy = np.meshgrid(x, y)  # 创建网格，用于计算椭圆方程\n",
    "\n",
    "rho = cov_xy / sigma_x / sigma_y  # 计算相关系数rho\n",
    "\n",
    "ellipse = (((xx - mu_x) / sigma_x) ** 2 - \n",
    "           2 * rho * ((xx - mu_x) / sigma_x) * ((yy - mu_y) / sigma_y) + \n",
    "           ((yy - mu_y) / sigma_y) ** 2) / (1 - rho ** 2)  # 计算椭圆方程值\n",
    "\n",
    "dd_one_sigma = np.sqrt(ellipse)  # 计算一标准差范围的椭圆\n",
    "\n",
    "ax.contour(xx, yy, dd_one_sigma, levels=[1], colors='r')  # 绘制一标准差椭圆轮廓线"
   ]
  },
  {
   "cell_type": "code",
   "execution_count": null,
   "id": "85a80909-2aac-49ed-bb7a-f8cc6b80ee7d",
   "metadata": {},
   "outputs": [],
   "source": []
  },
  {
   "cell_type": "code",
   "execution_count": null,
   "id": "ecd322f4-f919-4be2-adc3-69d28ef25e69",
   "metadata": {},
   "outputs": [],
   "source": []
  }
 ],
 "metadata": {
  "kernelspec": {
   "display_name": "Python 3 (ipykernel)",
   "language": "python",
   "name": "python3"
  },
  "language_info": {
   "codemirror_mode": {
    "name": "ipython",
    "version": 3
   },
   "file_extension": ".py",
   "mimetype": "text/x-python",
   "name": "python",
   "nbconvert_exporter": "python",
   "pygments_lexer": "ipython3",
   "version": "3.12.7"
  }
 },
 "nbformat": 4,
 "nbformat_minor": 5
}
